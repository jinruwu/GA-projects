{
 "cells": [
  {
   "cell_type": "markdown",
   "metadata": {},
   "source": [
    "<img src=\"http://imgur.com/1ZcRyrc.png\" style=\"float: left; margin: 20px; height: 55px\">\n",
    "\n",
    "# Project 1: Standardized Test Analysis"
   ]
  },
  {
   "cell_type": "markdown",
   "metadata": {},
   "source": [
    "--- \n",
    "# Part 1\n",
    "\n",
    "Part 1 requires knowledge of basic Python.\n",
    "\n",
    "---"
   ]
  },
  {
   "cell_type": "markdown",
   "metadata": {},
   "source": [
    "## Problem Statement"
   ]
  },
  {
   "cell_type": "markdown",
   "metadata": {},
   "source": [
    "Due to the Covid-19 pandemic, many colleges and universities in the US have switched to a test-optional policy in regard to SAT and ACT score submission. We would like to know if it is still important for students to submit their SAT and ACT scores even when tests are optional for most schools. We also want to understand if there is a relationship between the scores and the college acceptance rate. Lastly, we want to find out what SAT and ACT scores students should aim for in order to enter their dream schools."
   ]
  },
  {
   "cell_type": "markdown",
   "metadata": {},
   "source": [
    "### Contents:\n",
    "- [Background](#Background)\n",
    "- [Data Import & Cleaning](#Data-Import-and-Cleaning)\n",
    "- [Exploratory Data Analysis](#Exploratory-Data-Analysis)\n",
    "- [Data Visualization](#Visualize-the-Data)\n",
    "- [Conclusions and Recommendations](#Conclusions-and-Recommendations)"
   ]
  },
  {
   "cell_type": "markdown",
   "metadata": {},
   "source": [
    "## Background"
   ]
  },
  {
   "cell_type": "markdown",
   "metadata": {},
   "source": [
    "The SAT and ACT are standardized tests that many colleges and universities in the United States require for their admissions process. This score is used along with other materials such as grade point average (GPA) and essay responses to determine whether or not a potential student will be accepted to the university.\n",
    "\n",
    "The SAT has two sections of the test: Evidence-Based Reading and Writing and Math ([*source*](https://www.princetonreview.com/college/sat-sections)). The ACT has 4 sections: English, Mathematics, Reading, and Science, with an additional optional writing section ([*source*](https://www.act.org/content/act/en/products-and-services/the-act/scores/understanding-your-scores.html)). They have different score ranges, which you can read more about on their websites or additional outside sources (a quick Google search will help you understand the scores for each test):\n",
    "* [SAT](https://collegereadiness.collegeboard.org/sat)\n",
    "* [ACT](https://www.act.org/content/act/en.html)\n",
    "\n",
    "Standardized tests have long been a controversial topic for students, administrators, and legislators. Since the 1940's, an increasing number of colleges have been using scores from sudents' performances on tests like the SAT and the ACT as a measure for college readiness and aptitude ([*source*](https://www.minotdailynews.com/news/local-news/2017/04/a-brief-history-of-the-sat-and-act/)). Supporters of these tests argue that these scores can be used as an objective measure to determine college admittance. Opponents of these tests claim that these tests are not accurate measures of students potential or ability and serve as an inequitable barrier to entry. Lately, more and more schools are opting to drop the SAT/ACT requirement for their Fall 2021 applications ([*read more about this here*](https://www.cnn.com/2020/04/14/us/coronavirus-colleges-sat-act-test-trnd/index.html))."
   ]
  },
  {
   "cell_type": "markdown",
   "metadata": {},
   "source": [
    "**To-Do:** *Fill out this cell (or edit the above cell) with any other background or information that is necessary for your problem statement.*"
   ]
  },
  {
   "cell_type": "markdown",
   "metadata": {},
   "source": [
    "### Choose your Data\n",
    "\n",
    "There are 10 datasets included in the [`data`](./data/) folder for this project. You are required to pick **at least two** of these to complete your analysis. Feel free to use more than two if you would like, or add other relevant datasets you find online.\n",
    "\n",
    "* [`act_2017.csv`](./data/act_2017.csv): 2017 ACT Scores by State\n",
    "* [`act_2018.csv`](./data/act_2018.csv): 2018 ACT Scores by State\n",
    "* [`act_2019.csv`](./data/act_2019.csv): 2019 ACT Scores by State\n",
    "* [`act_2019_ca.csv`](./data/act_2019_ca.csv): 2019 ACT Scores in California by School\n",
    "* [`sat_2017.csv`](./data/sat_2017.csv): 2017 SAT Scores by State\n",
    "* [`sat_2018.csv`](./data/sat_2018.csv): 2018 SAT Scores by State\n",
    "* [`sat_2019.csv`](./data/sat_2019.csv): 2019 SAT Scores by State\n",
    "* [`sat_2019_by_intended_college_major.csv`](./data/sat_2019_by_intended_college_major.csv): 2019 SAT Scores by Intended College Major\n",
    "* [`sat_2019_ca.csv`](./data/sat_2019_ca.csv): 2019 SAT Scores in California by School\n",
    "* [`sat_act_by_college.csv`](./data/sat_act_by_college.csv): Ranges of Accepted ACT & SAT Student Scores by Colleges"
   ]
  },
  {
   "cell_type": "markdown",
   "metadata": {},
   "source": [
    "**To-Do:** *Fill out this cell with the datasets you will use for your analysis. Write a brief description of the contents for each dataset that you choose.*\n"
   ]
  },
  {
   "cell_type": "markdown",
   "metadata": {},
   "source": [
    "### Outside Research"
   ]
  },
  {
   "cell_type": "markdown",
   "metadata": {},
   "source": [
    "Based on your problem statement and your chosen datasets, spend some time doing outside research on state policies or additional information that might be relevant. Summarize your findings below. If you bring in any outside tables or charts, make sure you are explicit about having borrowed them. If you quote any text, make sure that it renders as being quoted. **Make sure that you cite your sources.**"
   ]
  },
  {
   "cell_type": "markdown",
   "metadata": {},
   "source": [
    "**To-Do:** *Fill out this cell with outside research or any additional background information that will support your analysis.*"
   ]
  },
  {
   "cell_type": "markdown",
   "metadata": {},
   "source": [
    "### Coding Challenges\n",
    "\n",
    "1. Manually calculate mean:\n",
    "\n",
    "    Write a function that takes in values and returns the mean of the values. Create a list of numbers that you test on your function to check to make sure your function works!\n",
    "    \n",
    "    *Note*: Do not use any mean methods built-in to any Python libraries to do this! This should be done without importing any additional libraries."
   ]
  },
  {
   "cell_type": "code",
   "execution_count": 1,
   "metadata": {},
   "outputs": [
    {
     "data": {
      "text/plain": [
       "3.0"
      ]
     },
     "execution_count": 1,
     "metadata": {},
     "output_type": "execute_result"
    }
   ],
   "source": [
    "# Code:\n",
    "def calculate_mean(number_list):\n",
    "    return sum(number_list)/len(number_list)\n",
    "\n",
    "number_list = [1,2,3,4,5]\n",
    "\n",
    "calculate_mean(number_list)"
   ]
  },
  {
   "cell_type": "markdown",
   "metadata": {},
   "source": [
    "2. Manually calculate standard deviation:\n",
    "\n",
    "    The formula for standard deviation is below:\n",
    "\n",
    "    $$\\sigma = \\sqrt{\\frac{1}{n}\\sum_{i=1}^n(x_i - \\mu)^2}$$\n",
    "\n",
    "    Where $x_i$ represents each value in the dataset, $\\mu$ represents the mean of all values in the dataset and $n$ represents the number of values in the dataset.\n",
    "\n",
    "    Write a function that takes in values and returns the standard deviation of the values using the formula above. Hint: use the function you wrote above to calculate the mean! Use the list of numbers you created above to test on your function.\n",
    "    \n",
    "    *Note*: Do not use any standard deviation methods built-in to any Python libraries to do this! This should be done without importing any additional libraries."
   ]
  },
  {
   "cell_type": "code",
   "execution_count": 2,
   "metadata": {},
   "outputs": [
    {
     "data": {
      "text/plain": [
       "1.4142135623730951"
      ]
     },
     "execution_count": 2,
     "metadata": {},
     "output_type": "execute_result"
    }
   ],
   "source": [
    "# Code:\n",
    "\n",
    "def calculate_std_dev(number_list):\n",
    "    mean = calculate_mean(number_list)\n",
    "    variance = 0\n",
    "    for x in number_list:\n",
    "        variance += (x - mean)**2\n",
    "    variance /= len(number_list)\n",
    "    return variance**0.5\n",
    "\n",
    "calculate_std_dev(number_list)"
   ]
  },
  {
   "cell_type": "markdown",
   "metadata": {},
   "source": [
    "3. Data cleaning function:\n",
    "    \n",
    "    Write a function that takes in a string that is a number and a percent symbol (ex. '50%', '30.5%', etc.) and converts this to a float that is the decimal approximation of the percent. For example, inputting '50%' in your function should return 0.5, '30.5%' should return 0.305, etc. Make sure to test your function to make sure it works!\n",
    "\n",
    "You will use these functions later on in the project!"
   ]
  },
  {
   "cell_type": "code",
   "execution_count": 3,
   "metadata": {},
   "outputs": [
    {
     "data": {
      "text/plain": [
       "0.5"
      ]
     },
     "execution_count": 3,
     "metadata": {},
     "output_type": "execute_result"
    }
   ],
   "source": [
    "# Code:\n",
    "def convert_string_to_float(x):\n",
    "    return float(x.strip('%'))/100\n",
    "\n",
    "convert_string_to_float('50%')"
   ]
  },
  {
   "cell_type": "markdown",
   "metadata": {},
   "source": [
    "--- \n",
    "# Part 2\n",
    "\n",
    "Part 2 requires knowledge of Pandas, EDA, data cleaning, and data visualization.\n",
    "\n",
    "---"
   ]
  },
  {
   "cell_type": "markdown",
   "metadata": {},
   "source": [
    "*All libraries used should be added here*"
   ]
  },
  {
   "cell_type": "code",
   "execution_count": 4,
   "metadata": {},
   "outputs": [],
   "source": [
    "# Imports:\n",
    "import numpy as np\n",
    "import pandas as pd\n",
    "import matplotlib.pyplot as plt\n",
    "import seaborn as sns"
   ]
  },
  {
   "cell_type": "markdown",
   "metadata": {},
   "source": [
    "## Data Import and Cleaning"
   ]
  },
  {
   "cell_type": "markdown",
   "metadata": {},
   "source": [
    "### Data Import & Cleaning\n",
    "\n",
    "Import the datasets that you selected for this project and go through the following steps at a minimum. You are welcome to do further cleaning as you feel necessary:\n",
    "1. Display the data: print the first 5 rows of each dataframe to your Jupyter notebook.\n",
    "2. Check for missing values.\n",
    "3. Check for any obvious issues with the observations (keep in mind the minimum & maximum possible values for each test/subtest).\n",
    "4. Fix any errors you identified in steps 2-3.\n",
    "5. Display the data types of each feature.\n",
    "6. Fix any incorrect data types found in step 5.\n",
    "    - Fix any individual values preventing other columns from being the appropriate type.\n",
    "    - If your dataset has a column of percents (ex. '50%', '30.5%', etc.), use the function you wrote in Part 1 (coding challenges, number 3) to convert this to floats! *Hint*: use `.map()` or `.apply()`.\n",
    "7. Rename Columns.\n",
    "    - Column names should be all lowercase.\n",
    "    - Column names should not contain spaces (underscores will suffice--this allows for using the `df.column_name` method to access columns in addition to `df['column_name']`).\n",
    "    - Column names should be unique and informative.\n",
    "8. Drop unnecessary rows (if needed).\n",
    "9. Merge dataframes that can be merged.\n",
    "10. Perform any additional cleaning that you feel is necessary.\n",
    "11. Save your cleaned and merged dataframes as csv files."
   ]
  },
  {
   "cell_type": "markdown",
   "metadata": {},
   "source": [
    "**Read in data for both data sets**"
   ]
  },
  {
   "cell_type": "code",
   "execution_count": 5,
   "metadata": {
    "scrolled": true
   },
   "outputs": [],
   "source": [
    "sat_college_major = pd.read_csv(\"../data/sat_2019_by_intended_college_major.csv\")"
   ]
  },
  {
   "cell_type": "code",
   "execution_count": 6,
   "metadata": {},
   "outputs": [],
   "source": [
    "sat_act_by_college = pd.read_csv(\"../data/sat_act_by_college.csv\")"
   ]
  },
  {
   "cell_type": "markdown",
   "metadata": {},
   "source": [
    "**Display first 5 rows**"
   ]
  },
  {
   "cell_type": "code",
   "execution_count": 7,
   "metadata": {},
   "outputs": [
    {
     "data": {
      "text/html": [
       "<div>\n",
       "<style scoped>\n",
       "    .dataframe tbody tr th:only-of-type {\n",
       "        vertical-align: middle;\n",
       "    }\n",
       "\n",
       "    .dataframe tbody tr th {\n",
       "        vertical-align: top;\n",
       "    }\n",
       "\n",
       "    .dataframe thead th {\n",
       "        text-align: right;\n",
       "    }\n",
       "</style>\n",
       "<table border=\"1\" class=\"dataframe\">\n",
       "  <thead>\n",
       "    <tr style=\"text-align: right;\">\n",
       "      <th></th>\n",
       "      <th>IntendedCollegeMajor</th>\n",
       "      <th>TestTakers</th>\n",
       "      <th>Percent</th>\n",
       "      <th>Total</th>\n",
       "      <th>ReadingWriting</th>\n",
       "      <th>Math</th>\n",
       "    </tr>\n",
       "  </thead>\n",
       "  <tbody>\n",
       "    <tr>\n",
       "      <th>0</th>\n",
       "      <td>Agriculture, AgricultureOperations, and Relate...</td>\n",
       "      <td>24,913</td>\n",
       "      <td>1%</td>\n",
       "      <td>977</td>\n",
       "      <td>496</td>\n",
       "      <td>481</td>\n",
       "    </tr>\n",
       "    <tr>\n",
       "      <th>1</th>\n",
       "      <td>Architecture and Related Services</td>\n",
       "      <td>28,988</td>\n",
       "      <td>2%</td>\n",
       "      <td>1047</td>\n",
       "      <td>520</td>\n",
       "      <td>527</td>\n",
       "    </tr>\n",
       "    <tr>\n",
       "      <th>2</th>\n",
       "      <td>Area, Ethnic, Cultural, and Gender Studies</td>\n",
       "      <td>2,629</td>\n",
       "      <td>0%</td>\n",
       "      <td>1040</td>\n",
       "      <td>536</td>\n",
       "      <td>504</td>\n",
       "    </tr>\n",
       "    <tr>\n",
       "      <th>3</th>\n",
       "      <td>Biological and Biomedical Sciences</td>\n",
       "      <td>155,834</td>\n",
       "      <td>8%</td>\n",
       "      <td>1139</td>\n",
       "      <td>572</td>\n",
       "      <td>566</td>\n",
       "    </tr>\n",
       "    <tr>\n",
       "      <th>4</th>\n",
       "      <td>Business, Management, Marketing, and Related S...</td>\n",
       "      <td>221,523</td>\n",
       "      <td>12%</td>\n",
       "      <td>1072</td>\n",
       "      <td>534</td>\n",
       "      <td>537</td>\n",
       "    </tr>\n",
       "  </tbody>\n",
       "</table>\n",
       "</div>"
      ],
      "text/plain": [
       "                                IntendedCollegeMajor TestTakers Percent  \\\n",
       "0  Agriculture, AgricultureOperations, and Relate...     24,913      1%   \n",
       "1                  Architecture and Related Services     28,988      2%   \n",
       "2         Area, Ethnic, Cultural, and Gender Studies      2,629      0%   \n",
       "3                 Biological and Biomedical Sciences    155,834      8%   \n",
       "4  Business, Management, Marketing, and Related S...    221,523     12%   \n",
       "\n",
       "   Total  ReadingWriting  Math  \n",
       "0    977             496   481  \n",
       "1   1047             520   527  \n",
       "2   1040             536   504  \n",
       "3   1139             572   566  \n",
       "4   1072             534   537  "
      ]
     },
     "execution_count": 7,
     "metadata": {},
     "output_type": "execute_result"
    }
   ],
   "source": [
    "sat_college_major.head()"
   ]
  },
  {
   "cell_type": "code",
   "execution_count": 8,
   "metadata": {
    "scrolled": true
   },
   "outputs": [
    {
     "data": {
      "text/html": [
       "<div>\n",
       "<style scoped>\n",
       "    .dataframe tbody tr th:only-of-type {\n",
       "        vertical-align: middle;\n",
       "    }\n",
       "\n",
       "    .dataframe tbody tr th {\n",
       "        vertical-align: top;\n",
       "    }\n",
       "\n",
       "    .dataframe thead th {\n",
       "        text-align: right;\n",
       "    }\n",
       "</style>\n",
       "<table border=\"1\" class=\"dataframe\">\n",
       "  <thead>\n",
       "    <tr style=\"text-align: right;\">\n",
       "      <th></th>\n",
       "      <th>School</th>\n",
       "      <th>Test Optional?</th>\n",
       "      <th>Applies to Class Year(s)</th>\n",
       "      <th>Policy Details</th>\n",
       "      <th>Number of Applicants</th>\n",
       "      <th>Accept Rate</th>\n",
       "      <th>SAT Total 25th-75th Percentile</th>\n",
       "      <th>ACT Total 25th-75th Percentile</th>\n",
       "    </tr>\n",
       "  </thead>\n",
       "  <tbody>\n",
       "    <tr>\n",
       "      <th>0</th>\n",
       "      <td>Stanford University</td>\n",
       "      <td>Yes</td>\n",
       "      <td>2021</td>\n",
       "      <td>Stanford has adopted a one-year test optional ...</td>\n",
       "      <td>47452</td>\n",
       "      <td>4.3%</td>\n",
       "      <td>1440-1570</td>\n",
       "      <td>32-35</td>\n",
       "    </tr>\n",
       "    <tr>\n",
       "      <th>1</th>\n",
       "      <td>Harvard College</td>\n",
       "      <td>Yes</td>\n",
       "      <td>2021</td>\n",
       "      <td>Harvard has adopted a one-year test optional p...</td>\n",
       "      <td>42749</td>\n",
       "      <td>4.7%</td>\n",
       "      <td>1460-1580</td>\n",
       "      <td>33-35</td>\n",
       "    </tr>\n",
       "    <tr>\n",
       "      <th>2</th>\n",
       "      <td>Princeton University</td>\n",
       "      <td>Yes</td>\n",
       "      <td>2021</td>\n",
       "      <td>Princeton has adopted a one-year test optional...</td>\n",
       "      <td>35370</td>\n",
       "      <td>5.5%</td>\n",
       "      <td>1440-1570</td>\n",
       "      <td>32-35</td>\n",
       "    </tr>\n",
       "    <tr>\n",
       "      <th>3</th>\n",
       "      <td>Columbia University</td>\n",
       "      <td>Yes</td>\n",
       "      <td>2021</td>\n",
       "      <td>Columbia has adopted a one-year test optional ...</td>\n",
       "      <td>40203</td>\n",
       "      <td>5.5%</td>\n",
       "      <td>1450-1560</td>\n",
       "      <td>33-35</td>\n",
       "    </tr>\n",
       "    <tr>\n",
       "      <th>4</th>\n",
       "      <td>Yale University</td>\n",
       "      <td>Yes</td>\n",
       "      <td>2021</td>\n",
       "      <td>Yale has adopted a one-year test optional poli...</td>\n",
       "      <td>36844</td>\n",
       "      <td>6.1%</td>\n",
       "      <td>1460-1570</td>\n",
       "      <td>33-35</td>\n",
       "    </tr>\n",
       "  </tbody>\n",
       "</table>\n",
       "</div>"
      ],
      "text/plain": [
       "                 School Test Optional? Applies to Class Year(s)  \\\n",
       "0   Stanford University            Yes                     2021   \n",
       "1       Harvard College            Yes                     2021   \n",
       "2  Princeton University            Yes                     2021   \n",
       "3   Columbia University            Yes                     2021   \n",
       "4       Yale University            Yes                     2021   \n",
       "\n",
       "                                      Policy Details  Number of Applicants  \\\n",
       "0  Stanford has adopted a one-year test optional ...                 47452   \n",
       "1  Harvard has adopted a one-year test optional p...                 42749   \n",
       "2  Princeton has adopted a one-year test optional...                 35370   \n",
       "3  Columbia has adopted a one-year test optional ...                 40203   \n",
       "4  Yale has adopted a one-year test optional poli...                 36844   \n",
       "\n",
       "  Accept Rate SAT Total 25th-75th Percentile ACT Total 25th-75th Percentile  \n",
       "0        4.3%                      1440-1570                          32-35  \n",
       "1        4.7%                      1460-1580                          33-35  \n",
       "2        5.5%                      1440-1570                          32-35  \n",
       "3        5.5%                      1450-1560                          33-35  \n",
       "4        6.1%                      1460-1570                          33-35  "
      ]
     },
     "execution_count": 8,
     "metadata": {},
     "output_type": "execute_result"
    }
   ],
   "source": [
    "sat_act_by_college.head()"
   ]
  },
  {
   "cell_type": "markdown",
   "metadata": {},
   "source": [
    "**Check for missing data and understand the data types**"
   ]
  },
  {
   "cell_type": "code",
   "execution_count": 9,
   "metadata": {},
   "outputs": [
    {
     "name": "stdout",
     "output_type": "stream",
     "text": [
      "<class 'pandas.core.frame.DataFrame'>\n",
      "RangeIndex: 38 entries, 0 to 37\n",
      "Data columns (total 6 columns):\n",
      " #   Column                Non-Null Count  Dtype \n",
      "---  ------                --------------  ----- \n",
      " 0   IntendedCollegeMajor  38 non-null     object\n",
      " 1   TestTakers            38 non-null     object\n",
      " 2   Percent               38 non-null     object\n",
      " 3   Total                 38 non-null     int64 \n",
      " 4   ReadingWriting        38 non-null     int64 \n",
      " 5   Math                  38 non-null     int64 \n",
      "dtypes: int64(3), object(3)\n",
      "memory usage: 1.9+ KB\n"
     ]
    }
   ],
   "source": [
    "sat_college_major.info()"
   ]
  },
  {
   "cell_type": "code",
   "execution_count": 10,
   "metadata": {},
   "outputs": [
    {
     "name": "stdout",
     "output_type": "stream",
     "text": [
      "<class 'pandas.core.frame.DataFrame'>\n",
      "RangeIndex: 416 entries, 0 to 415\n",
      "Data columns (total 8 columns):\n",
      " #   Column                          Non-Null Count  Dtype \n",
      "---  ------                          --------------  ----- \n",
      " 0   School                          416 non-null    object\n",
      " 1   Test Optional?                  416 non-null    object\n",
      " 2   Applies to Class Year(s)        390 non-null    object\n",
      " 3   Policy Details                  416 non-null    object\n",
      " 4   Number of Applicants            416 non-null    int64 \n",
      " 5   Accept Rate                     416 non-null    object\n",
      " 6   SAT Total 25th-75th Percentile  416 non-null    object\n",
      " 7   ACT Total 25th-75th Percentile  416 non-null    object\n",
      "dtypes: int64(1), object(7)\n",
      "memory usage: 26.1+ KB\n"
     ]
    }
   ],
   "source": [
    "sat_act_by_college.info()"
   ]
  },
  {
   "cell_type": "code",
   "execution_count": 11,
   "metadata": {},
   "outputs": [
    {
     "data": {
      "text/plain": [
       "School                             0\n",
       "Test Optional?                     0\n",
       "Applies to Class Year(s)          26\n",
       "Policy Details                     0\n",
       "Number of Applicants               0\n",
       "Accept Rate                        0\n",
       "SAT Total 25th-75th Percentile     0\n",
       "ACT Total 25th-75th Percentile     0\n",
       "dtype: int64"
      ]
     },
     "execution_count": 11,
     "metadata": {},
     "output_type": "execute_result"
    }
   ],
   "source": [
    "sat_act_by_college.isnull().sum()"
   ]
  },
  {
   "cell_type": "markdown",
   "metadata": {},
   "source": [
    "sat_college_major does not have any missing values. \n",
    "To change TestTakers and percent dtype to float/int.\n",
    "\n",
    "sat_act_by_college has a column \"Applies to Class Year(s)\" with 26 missing values. To convert accept rate to float."
   ]
  },
  {
   "cell_type": "markdown",
   "metadata": {},
   "source": [
    "**Check the missing values for Applies to Class Year(s)**"
   ]
  },
  {
   "cell_type": "code",
   "execution_count": 12,
   "metadata": {},
   "outputs": [
    {
     "data": {
      "text/html": [
       "<div>\n",
       "<style scoped>\n",
       "    .dataframe tbody tr th:only-of-type {\n",
       "        vertical-align: middle;\n",
       "    }\n",
       "\n",
       "    .dataframe tbody tr th {\n",
       "        vertical-align: top;\n",
       "    }\n",
       "\n",
       "    .dataframe thead th {\n",
       "        text-align: right;\n",
       "    }\n",
       "</style>\n",
       "<table border=\"1\" class=\"dataframe\">\n",
       "  <thead>\n",
       "    <tr style=\"text-align: right;\">\n",
       "      <th></th>\n",
       "      <th>School</th>\n",
       "      <th>Test Optional?</th>\n",
       "      <th>Applies to Class Year(s)</th>\n",
       "      <th>Policy Details</th>\n",
       "      <th>Number of Applicants</th>\n",
       "      <th>Accept Rate</th>\n",
       "      <th>SAT Total 25th-75th Percentile</th>\n",
       "      <th>ACT Total 25th-75th Percentile</th>\n",
       "    </tr>\n",
       "  </thead>\n",
       "  <tbody>\n",
       "    <tr>\n",
       "      <th>390</th>\n",
       "      <td>United States Naval Academy</td>\n",
       "      <td>No</td>\n",
       "      <td>NaN</td>\n",
       "      <td>USNA requires either the SAT or ACT. It does n...</td>\n",
       "      <td>16332</td>\n",
       "      <td>8.3%</td>\n",
       "      <td>1240-1520</td>\n",
       "      <td>27-32</td>\n",
       "    </tr>\n",
       "    <tr>\n",
       "      <th>391</th>\n",
       "      <td>United States Military Academy</td>\n",
       "      <td>No</td>\n",
       "      <td>NaN</td>\n",
       "      <td>The US Military Academy requires either the SA...</td>\n",
       "      <td>11675</td>\n",
       "      <td>10.3%</td>\n",
       "      <td>1160-1380</td>\n",
       "      <td>25-30</td>\n",
       "    </tr>\n",
       "    <tr>\n",
       "      <th>392</th>\n",
       "      <td>United States Air Force Academy</td>\n",
       "      <td>No</td>\n",
       "      <td>NaN</td>\n",
       "      <td>The United States Air Force Academy requires e...</td>\n",
       "      <td>10354</td>\n",
       "      <td>11.1%</td>\n",
       "      <td>1230-1440</td>\n",
       "      <td>28-33</td>\n",
       "    </tr>\n",
       "    <tr>\n",
       "      <th>393</th>\n",
       "      <td>United States Coast Guard Academy</td>\n",
       "      <td>No</td>\n",
       "      <td>NaN</td>\n",
       "      <td>The United States Coast Guard Academy requires...</td>\n",
       "      <td>2274</td>\n",
       "      <td>12.8%</td>\n",
       "      <td>1245-1420</td>\n",
       "      <td>26-31</td>\n",
       "    </tr>\n",
       "    <tr>\n",
       "      <th>394</th>\n",
       "      <td>United States Merchant Maritime Academy</td>\n",
       "      <td>No</td>\n",
       "      <td>NaN</td>\n",
       "      <td>USMMA requires either the SAT or ACT. It does ...</td>\n",
       "      <td>1693</td>\n",
       "      <td>24.8%</td>\n",
       "      <td>1200-1340</td>\n",
       "      <td>25-31</td>\n",
       "    </tr>\n",
       "    <tr>\n",
       "      <th>395</th>\n",
       "      <td>Howard University</td>\n",
       "      <td>No</td>\n",
       "      <td>NaN</td>\n",
       "      <td>Howard University requires either the SAT or A...</td>\n",
       "      <td>20946</td>\n",
       "      <td>31.6%</td>\n",
       "      <td>1140-1285</td>\n",
       "      <td>22-27</td>\n",
       "    </tr>\n",
       "    <tr>\n",
       "      <th>396</th>\n",
       "      <td>Florida State University</td>\n",
       "      <td>No</td>\n",
       "      <td>NaN</td>\n",
       "      <td>Florida State University requires either the S...</td>\n",
       "      <td>58936</td>\n",
       "      <td>36.0%</td>\n",
       "      <td>1200-1340</td>\n",
       "      <td>26-30</td>\n",
       "    </tr>\n",
       "    <tr>\n",
       "      <th>397</th>\n",
       "      <td>Hillsdale College</td>\n",
       "      <td>No</td>\n",
       "      <td>NaN</td>\n",
       "      <td>Hillsdale College requires either the SAT the ...</td>\n",
       "      <td>2208</td>\n",
       "      <td>36.0%</td>\n",
       "      <td>1275-1465</td>\n",
       "      <td>29-32</td>\n",
       "    </tr>\n",
       "    <tr>\n",
       "      <th>398</th>\n",
       "      <td>University of Central Florida</td>\n",
       "      <td>No</td>\n",
       "      <td>NaN</td>\n",
       "      <td>University of Central Florida requires either ...</td>\n",
       "      <td>35240</td>\n",
       "      <td>38.2%</td>\n",
       "      <td>1160-1340</td>\n",
       "      <td>25-29</td>\n",
       "    </tr>\n",
       "    <tr>\n",
       "      <th>399</th>\n",
       "      <td>University of Florida</td>\n",
       "      <td>No</td>\n",
       "      <td>NaN</td>\n",
       "      <td>The University of Florida requires either the ...</td>\n",
       "      <td>38905</td>\n",
       "      <td>38.8%</td>\n",
       "      <td>1280-1440</td>\n",
       "      <td>27-32</td>\n",
       "    </tr>\n",
       "    <tr>\n",
       "      <th>400</th>\n",
       "      <td>University of South Florida</td>\n",
       "      <td>No</td>\n",
       "      <td>NaN</td>\n",
       "      <td>University of South Florida requries either th...</td>\n",
       "      <td>36986</td>\n",
       "      <td>47.7%</td>\n",
       "      <td>1170-1330</td>\n",
       "      <td>25-29</td>\n",
       "    </tr>\n",
       "    <tr>\n",
       "      <th>401</th>\n",
       "      <td>Gallaudet University</td>\n",
       "      <td>No</td>\n",
       "      <td>NaN</td>\n",
       "      <td>Gallaudet University requires either the SAT o...</td>\n",
       "      <td>496</td>\n",
       "      <td>57.1%</td>\n",
       "      <td>793-1078</td>\n",
       "      <td>15-20</td>\n",
       "    </tr>\n",
       "    <tr>\n",
       "      <th>402</th>\n",
       "      <td>Florida International</td>\n",
       "      <td>No</td>\n",
       "      <td>NaN</td>\n",
       "      <td>Florida International University requires eith...</td>\n",
       "      <td>18492</td>\n",
       "      <td>57.5%</td>\n",
       "      <td>1240-1300</td>\n",
       "      <td>23-28</td>\n",
       "    </tr>\n",
       "    <tr>\n",
       "      <th>403</th>\n",
       "      <td>Morehouse College</td>\n",
       "      <td>No</td>\n",
       "      <td>NaN</td>\n",
       "      <td>Morehouse College requires either the SAT or A...</td>\n",
       "      <td>3554</td>\n",
       "      <td>57.9%</td>\n",
       "      <td>1010-1210</td>\n",
       "      <td>20-25</td>\n",
       "    </tr>\n",
       "    <tr>\n",
       "      <th>404</th>\n",
       "      <td>University of Alabama</td>\n",
       "      <td>No</td>\n",
       "      <td>NaN</td>\n",
       "      <td>University of Alabama requires either the SAT ...</td>\n",
       "      <td>37302</td>\n",
       "      <td>59.1%</td>\n",
       "      <td>1060-1280</td>\n",
       "      <td>23-31</td>\n",
       "    </tr>\n",
       "    <tr>\n",
       "      <th>405</th>\n",
       "      <td>Milwaukee School of Engineering</td>\n",
       "      <td>No</td>\n",
       "      <td>NaN</td>\n",
       "      <td>The Milwaukee School of Engineering requires e...</td>\n",
       "      <td>3552</td>\n",
       "      <td>61.7%</td>\n",
       "      <td>--</td>\n",
       "      <td>25-30</td>\n",
       "    </tr>\n",
       "    <tr>\n",
       "      <th>406</th>\n",
       "      <td>Florida Institute of Technology</td>\n",
       "      <td>No</td>\n",
       "      <td>NaN</td>\n",
       "      <td>Florida Institute of Technology requires eithe...</td>\n",
       "      <td>9743</td>\n",
       "      <td>65.7%</td>\n",
       "      <td>1150-1360</td>\n",
       "      <td>24-30</td>\n",
       "    </tr>\n",
       "    <tr>\n",
       "      <th>407</th>\n",
       "      <td>Louisiana State University—​Baton Rouge</td>\n",
       "      <td>No</td>\n",
       "      <td>NaN</td>\n",
       "      <td>Louisiana State University requires either the...</td>\n",
       "      <td>24501</td>\n",
       "      <td>74.6%</td>\n",
       "      <td>1080-1310</td>\n",
       "      <td>23-29</td>\n",
       "    </tr>\n",
       "    <tr>\n",
       "      <th>408</th>\n",
       "      <td>The Citadel</td>\n",
       "      <td>No</td>\n",
       "      <td>NaN</td>\n",
       "      <td>The Citadel requires either the SAT or ACT. It...</td>\n",
       "      <td>2742</td>\n",
       "      <td>74.7%</td>\n",
       "      <td>1050-1230</td>\n",
       "      <td>20-25</td>\n",
       "    </tr>\n",
       "    <tr>\n",
       "      <th>409</th>\n",
       "      <td>New College of Florida</td>\n",
       "      <td>No</td>\n",
       "      <td>NaN</td>\n",
       "      <td>The New College of Florida requires either the...</td>\n",
       "      <td>1340</td>\n",
       "      <td>76.8%</td>\n",
       "      <td>1220-1420</td>\n",
       "      <td>26-31</td>\n",
       "    </tr>\n",
       "    <tr>\n",
       "      <th>410</th>\n",
       "      <td>Thomas Aquinas College</td>\n",
       "      <td>No</td>\n",
       "      <td>NaN</td>\n",
       "      <td>Thomas Aquinas College requires requires that ...</td>\n",
       "      <td>211</td>\n",
       "      <td>77.7%</td>\n",
       "      <td>1220-1400</td>\n",
       "      <td>25-30</td>\n",
       "    </tr>\n",
       "    <tr>\n",
       "      <th>411</th>\n",
       "      <td>University of Texas Rio Grande Valley</td>\n",
       "      <td>No</td>\n",
       "      <td>NaN</td>\n",
       "      <td>University of Texas Rio Grande Valley requires...</td>\n",
       "      <td>10680</td>\n",
       "      <td>79.8%</td>\n",
       "      <td>950-1130</td>\n",
       "      <td>17-22</td>\n",
       "    </tr>\n",
       "    <tr>\n",
       "      <th>412</th>\n",
       "      <td>University of South Dakota</td>\n",
       "      <td>No</td>\n",
       "      <td>NaN</td>\n",
       "      <td>Unviersity of South Dakota requires either the...</td>\n",
       "      <td>4434</td>\n",
       "      <td>86.4%</td>\n",
       "      <td>990-1180</td>\n",
       "      <td>19-25</td>\n",
       "    </tr>\n",
       "    <tr>\n",
       "      <th>413</th>\n",
       "      <td>University of Mississippi</td>\n",
       "      <td>No</td>\n",
       "      <td>NaN</td>\n",
       "      <td>Ole Miss requires either the SAT or ACT. It do...</td>\n",
       "      <td>15371</td>\n",
       "      <td>88.1%</td>\n",
       "      <td>1050-1270</td>\n",
       "      <td>21-29</td>\n",
       "    </tr>\n",
       "    <tr>\n",
       "      <th>414</th>\n",
       "      <td>University of Wyoming</td>\n",
       "      <td>No</td>\n",
       "      <td>NaN</td>\n",
       "      <td>University of Wyoming requires either the SAT ...</td>\n",
       "      <td>5348</td>\n",
       "      <td>96.0%</td>\n",
       "      <td>1060-1280</td>\n",
       "      <td>22-28</td>\n",
       "    </tr>\n",
       "    <tr>\n",
       "      <th>415</th>\n",
       "      <td>University of Texas El Paso</td>\n",
       "      <td>No</td>\n",
       "      <td>NaN</td>\n",
       "      <td>UTEP requires either the SAT or ACT. It does n...</td>\n",
       "      <td>7157</td>\n",
       "      <td>99.9%</td>\n",
       "      <td>820-1050</td>\n",
       "      <td>17-23</td>\n",
       "    </tr>\n",
       "  </tbody>\n",
       "</table>\n",
       "</div>"
      ],
      "text/plain": [
       "                                      School Test Optional?  \\\n",
       "390              United States Naval Academy             No   \n",
       "391           United States Military Academy             No   \n",
       "392          United States Air Force Academy             No   \n",
       "393        United States Coast Guard Academy             No   \n",
       "394  United States Merchant Maritime Academy             No   \n",
       "395                        Howard University             No   \n",
       "396                 Florida State University             No   \n",
       "397                        Hillsdale College             No   \n",
       "398            University of Central Florida             No   \n",
       "399                    University of Florida             No   \n",
       "400              University of South Florida             No   \n",
       "401                     Gallaudet University             No   \n",
       "402                    Florida International             No   \n",
       "403                        Morehouse College             No   \n",
       "404                    University of Alabama             No   \n",
       "405          Milwaukee School of Engineering             No   \n",
       "406          Florida Institute of Technology             No   \n",
       "407  Louisiana State University—​Baton Rouge             No   \n",
       "408                              The Citadel             No   \n",
       "409                   New College of Florida             No   \n",
       "410                   Thomas Aquinas College             No   \n",
       "411    University of Texas Rio Grande Valley             No   \n",
       "412               University of South Dakota             No   \n",
       "413                University of Mississippi             No   \n",
       "414                    University of Wyoming             No   \n",
       "415              University of Texas El Paso             No   \n",
       "\n",
       "    Applies to Class Year(s)  \\\n",
       "390                      NaN   \n",
       "391                      NaN   \n",
       "392                      NaN   \n",
       "393                      NaN   \n",
       "394                      NaN   \n",
       "395                      NaN   \n",
       "396                      NaN   \n",
       "397                      NaN   \n",
       "398                      NaN   \n",
       "399                      NaN   \n",
       "400                      NaN   \n",
       "401                      NaN   \n",
       "402                      NaN   \n",
       "403                      NaN   \n",
       "404                      NaN   \n",
       "405                      NaN   \n",
       "406                      NaN   \n",
       "407                      NaN   \n",
       "408                      NaN   \n",
       "409                      NaN   \n",
       "410                      NaN   \n",
       "411                      NaN   \n",
       "412                      NaN   \n",
       "413                      NaN   \n",
       "414                      NaN   \n",
       "415                      NaN   \n",
       "\n",
       "                                        Policy Details  Number of Applicants  \\\n",
       "390  USNA requires either the SAT or ACT. It does n...                 16332   \n",
       "391  The US Military Academy requires either the SA...                 11675   \n",
       "392  The United States Air Force Academy requires e...                 10354   \n",
       "393  The United States Coast Guard Academy requires...                  2274   \n",
       "394  USMMA requires either the SAT or ACT. It does ...                  1693   \n",
       "395  Howard University requires either the SAT or A...                 20946   \n",
       "396  Florida State University requires either the S...                 58936   \n",
       "397  Hillsdale College requires either the SAT the ...                  2208   \n",
       "398  University of Central Florida requires either ...                 35240   \n",
       "399  The University of Florida requires either the ...                 38905   \n",
       "400  University of South Florida requries either th...                 36986   \n",
       "401  Gallaudet University requires either the SAT o...                   496   \n",
       "402  Florida International University requires eith...                 18492   \n",
       "403  Morehouse College requires either the SAT or A...                  3554   \n",
       "404  University of Alabama requires either the SAT ...                 37302   \n",
       "405  The Milwaukee School of Engineering requires e...                  3552   \n",
       "406  Florida Institute of Technology requires eithe...                  9743   \n",
       "407  Louisiana State University requires either the...                 24501   \n",
       "408  The Citadel requires either the SAT or ACT. It...                  2742   \n",
       "409  The New College of Florida requires either the...                  1340   \n",
       "410  Thomas Aquinas College requires requires that ...                   211   \n",
       "411  University of Texas Rio Grande Valley requires...                 10680   \n",
       "412  Unviersity of South Dakota requires either the...                  4434   \n",
       "413  Ole Miss requires either the SAT or ACT. It do...                 15371   \n",
       "414  University of Wyoming requires either the SAT ...                  5348   \n",
       "415  UTEP requires either the SAT or ACT. It does n...                  7157   \n",
       "\n",
       "    Accept Rate SAT Total 25th-75th Percentile ACT Total 25th-75th Percentile  \n",
       "390        8.3%                      1240-1520                          27-32  \n",
       "391       10.3%                      1160-1380                          25-30  \n",
       "392       11.1%                      1230-1440                          28-33  \n",
       "393       12.8%                      1245-1420                          26-31  \n",
       "394       24.8%                      1200-1340                          25-31  \n",
       "395       31.6%                      1140-1285                          22-27  \n",
       "396       36.0%                      1200-1340                          26-30  \n",
       "397       36.0%                      1275-1465                          29-32  \n",
       "398       38.2%                      1160-1340                          25-29  \n",
       "399       38.8%                      1280-1440                          27-32  \n",
       "400       47.7%                      1170-1330                          25-29  \n",
       "401       57.1%                       793-1078                          15-20  \n",
       "402       57.5%                      1240-1300                          23-28  \n",
       "403       57.9%                      1010-1210                          20-25  \n",
       "404       59.1%                      1060-1280                          23-31  \n",
       "405       61.7%                             --                          25-30  \n",
       "406       65.7%                      1150-1360                          24-30  \n",
       "407       74.6%                      1080-1310                          23-29  \n",
       "408       74.7%                      1050-1230                          20-25  \n",
       "409       76.8%                      1220-1420                          26-31  \n",
       "410       77.7%                      1220-1400                          25-30  \n",
       "411       79.8%                       950-1130                          17-22  \n",
       "412       86.4%                       990-1180                          19-25  \n",
       "413       88.1%                      1050-1270                          21-29  \n",
       "414       96.0%                      1060-1280                          22-28  \n",
       "415       99.9%                       820-1050                          17-23  "
      ]
     },
     "execution_count": 12,
     "metadata": {},
     "output_type": "execute_result"
    }
   ],
   "source": [
    "sat_act_by_college[sat_act_by_college[\"Applies to Class Year(s)\"].isnull()]"
   ]
  },
  {
   "cell_type": "code",
   "execution_count": 13,
   "metadata": {},
   "outputs": [
    {
     "data": {
      "text/plain": [
       "Yes         347\n",
       "No           26\n",
       "Yes (TB)     25\n",
       "Yes*         16\n",
       "Yes (TF)      2\n",
       "Name: Test Optional?, dtype: int64"
      ]
     },
     "execution_count": 13,
     "metadata": {},
     "output_type": "execute_result"
    }
   ],
   "source": [
    "sat_act_by_college[\"Test Optional?\"].value_counts()"
   ]
  },
  {
   "cell_type": "markdown",
   "metadata": {},
   "source": [
    "Null values for \"Applies to Class Year\" appear when schools do not put tests as optional. We can replace null values with N/A"
   ]
  },
  {
   "cell_type": "markdown",
   "metadata": {},
   "source": [
    "**Replacing with N/A values**"
   ]
  },
  {
   "cell_type": "code",
   "execution_count": 14,
   "metadata": {},
   "outputs": [],
   "source": [
    "sat_act_by_college[\"Applies to Class Year(s)\"].fillna(\"N/A\",inplace=True)"
   ]
  },
  {
   "cell_type": "code",
   "execution_count": 15,
   "metadata": {},
   "outputs": [
    {
     "data": {
      "text/plain": [
       "IntendedCollegeMajor    object\n",
       "TestTakers              object\n",
       "Percent                 object\n",
       "Total                    int64\n",
       "ReadingWriting           int64\n",
       "Math                     int64\n",
       "dtype: object"
      ]
     },
     "execution_count": 15,
     "metadata": {},
     "output_type": "execute_result"
    }
   ],
   "source": [
    "sat_college_major.dtypes"
   ]
  },
  {
   "cell_type": "markdown",
   "metadata": {},
   "source": [
    "**Converting data types**"
   ]
  },
  {
   "cell_type": "code",
   "execution_count": 16,
   "metadata": {
    "scrolled": true
   },
   "outputs": [
    {
     "name": "stdout",
     "output_type": "stream",
     "text": [
      "<class 'pandas.core.frame.DataFrame'>\n",
      "RangeIndex: 38 entries, 0 to 37\n",
      "Data columns (total 6 columns):\n",
      " #   Column                Non-Null Count  Dtype  \n",
      "---  ------                --------------  -----  \n",
      " 0   IntendedCollegeMajor  38 non-null     object \n",
      " 1   TestTakers            38 non-null     int32  \n",
      " 2   Percent               38 non-null     float64\n",
      " 3   Total                 38 non-null     int64  \n",
      " 4   ReadingWriting        38 non-null     int64  \n",
      " 5   Math                  38 non-null     int64  \n",
      "dtypes: float64(1), int32(1), int64(3), object(1)\n",
      "memory usage: 1.8+ KB\n"
     ]
    }
   ],
   "source": [
    "#convert Testtakers and Percent columns to float\n",
    "\n",
    "sat_college_major[\"TestTakers\"] = sat_college_major[\"TestTakers\"].str.replace(',', '').astype(int)\n",
    "\n",
    "sat_college_major[\"Percent\"] = sat_college_major[\"Percent\"].map(convert_string_to_float)\n",
    "\n",
    "#double check the data type\n",
    "sat_college_major.info()"
   ]
  },
  {
   "cell_type": "code",
   "execution_count": 17,
   "metadata": {},
   "outputs": [
    {
     "name": "stdout",
     "output_type": "stream",
     "text": [
      "<class 'pandas.core.frame.DataFrame'>\n",
      "RangeIndex: 416 entries, 0 to 415\n",
      "Data columns (total 8 columns):\n",
      " #   Column                          Non-Null Count  Dtype  \n",
      "---  ------                          --------------  -----  \n",
      " 0   School                          416 non-null    object \n",
      " 1   Test Optional?                  416 non-null    object \n",
      " 2   Applies to Class Year(s)        416 non-null    object \n",
      " 3   Policy Details                  416 non-null    object \n",
      " 4   Number of Applicants            416 non-null    int64  \n",
      " 5   Accept Rate                     416 non-null    float64\n",
      " 6   SAT Total 25th-75th Percentile  416 non-null    object \n",
      " 7   ACT Total 25th-75th Percentile  416 non-null    object \n",
      "dtypes: float64(1), int64(1), object(6)\n",
      "memory usage: 26.1+ KB\n"
     ]
    }
   ],
   "source": [
    "#convert Accept Rate to float\n",
    "\n",
    "sat_act_by_college[\"Accept Rate\"]  = sat_act_by_college[\"Accept Rate\"].map(convert_string_to_float)\n",
    "\n",
    "#double check the data type\n",
    "sat_act_by_college.info()"
   ]
  },
  {
   "cell_type": "markdown",
   "metadata": {},
   "source": [
    "**Rename column headers**"
   ]
  },
  {
   "cell_type": "code",
   "execution_count": 18,
   "metadata": {},
   "outputs": [
    {
     "data": {
      "text/html": [
       "<div>\n",
       "<style scoped>\n",
       "    .dataframe tbody tr th:only-of-type {\n",
       "        vertical-align: middle;\n",
       "    }\n",
       "\n",
       "    .dataframe tbody tr th {\n",
       "        vertical-align: top;\n",
       "    }\n",
       "\n",
       "    .dataframe thead th {\n",
       "        text-align: right;\n",
       "    }\n",
       "</style>\n",
       "<table border=\"1\" class=\"dataframe\">\n",
       "  <thead>\n",
       "    <tr style=\"text-align: right;\">\n",
       "      <th></th>\n",
       "      <th>intended_college_major</th>\n",
       "      <th>num_test_takers</th>\n",
       "      <th>percentage_of_majors</th>\n",
       "      <th>total_score</th>\n",
       "      <th>reading_writing</th>\n",
       "      <th>math</th>\n",
       "    </tr>\n",
       "  </thead>\n",
       "  <tbody>\n",
       "    <tr>\n",
       "      <th>0</th>\n",
       "      <td>Agriculture, AgricultureOperations, and Relate...</td>\n",
       "      <td>24913</td>\n",
       "      <td>0.01</td>\n",
       "      <td>977</td>\n",
       "      <td>496</td>\n",
       "      <td>481</td>\n",
       "    </tr>\n",
       "    <tr>\n",
       "      <th>1</th>\n",
       "      <td>Architecture and Related Services</td>\n",
       "      <td>28988</td>\n",
       "      <td>0.02</td>\n",
       "      <td>1047</td>\n",
       "      <td>520</td>\n",
       "      <td>527</td>\n",
       "    </tr>\n",
       "    <tr>\n",
       "      <th>2</th>\n",
       "      <td>Area, Ethnic, Cultural, and Gender Studies</td>\n",
       "      <td>2629</td>\n",
       "      <td>0.00</td>\n",
       "      <td>1040</td>\n",
       "      <td>536</td>\n",
       "      <td>504</td>\n",
       "    </tr>\n",
       "    <tr>\n",
       "      <th>3</th>\n",
       "      <td>Biological and Biomedical Sciences</td>\n",
       "      <td>155834</td>\n",
       "      <td>0.08</td>\n",
       "      <td>1139</td>\n",
       "      <td>572</td>\n",
       "      <td>566</td>\n",
       "    </tr>\n",
       "    <tr>\n",
       "      <th>4</th>\n",
       "      <td>Business, Management, Marketing, and Related S...</td>\n",
       "      <td>221523</td>\n",
       "      <td>0.12</td>\n",
       "      <td>1072</td>\n",
       "      <td>534</td>\n",
       "      <td>537</td>\n",
       "    </tr>\n",
       "  </tbody>\n",
       "</table>\n",
       "</div>"
      ],
      "text/plain": [
       "                              intended_college_major  num_test_takers  \\\n",
       "0  Agriculture, AgricultureOperations, and Relate...            24913   \n",
       "1                  Architecture and Related Services            28988   \n",
       "2         Area, Ethnic, Cultural, and Gender Studies             2629   \n",
       "3                 Biological and Biomedical Sciences           155834   \n",
       "4  Business, Management, Marketing, and Related S...           221523   \n",
       "\n",
       "   percentage_of_majors  total_score  reading_writing  math  \n",
       "0                  0.01          977              496   481  \n",
       "1                  0.02         1047              520   527  \n",
       "2                  0.00         1040              536   504  \n",
       "3                  0.08         1139              572   566  \n",
       "4                  0.12         1072              534   537  "
      ]
     },
     "execution_count": 18,
     "metadata": {},
     "output_type": "execute_result"
    }
   ],
   "source": [
    "sat_college_major.rename(columns = {'IntendedCollegeMajor':'intended_college_major',\n",
    "                                   'TestTakers': 'num_test_takers', 'Percent':'percentage_of_majors',\n",
    "                                   'Total':'total_score', 'ReadingWriting': 'reading_writing',\n",
    "                                   'Math':'math'},\n",
    "                       inplace = True) \n",
    "\n",
    "sat_college_major.head()"
   ]
  },
  {
   "cell_type": "code",
   "execution_count": 19,
   "metadata": {},
   "outputs": [
    {
     "name": "stdout",
     "output_type": "stream",
     "text": [
      "<class 'pandas.core.frame.DataFrame'>\n",
      "RangeIndex: 38 entries, 0 to 37\n",
      "Data columns (total 6 columns):\n",
      " #   Column                  Non-Null Count  Dtype  \n",
      "---  ------                  --------------  -----  \n",
      " 0   intended_college_major  38 non-null     object \n",
      " 1   num_test_takers         38 non-null     int32  \n",
      " 2   percentage_of_majors    38 non-null     float64\n",
      " 3   total_score             38 non-null     int64  \n",
      " 4   reading_writing         38 non-null     int64  \n",
      " 5   math                    38 non-null     int64  \n",
      "dtypes: float64(1), int32(1), int64(3), object(1)\n",
      "memory usage: 1.8+ KB\n"
     ]
    }
   ],
   "source": [
    "sat_college_major.info()"
   ]
  },
  {
   "cell_type": "code",
   "execution_count": 20,
   "metadata": {},
   "outputs": [
    {
     "data": {
      "text/html": [
       "<div>\n",
       "<style scoped>\n",
       "    .dataframe tbody tr th:only-of-type {\n",
       "        vertical-align: middle;\n",
       "    }\n",
       "\n",
       "    .dataframe tbody tr th {\n",
       "        vertical-align: top;\n",
       "    }\n",
       "\n",
       "    .dataframe thead th {\n",
       "        text-align: right;\n",
       "    }\n",
       "</style>\n",
       "<table border=\"1\" class=\"dataframe\">\n",
       "  <thead>\n",
       "    <tr style=\"text-align: right;\">\n",
       "      <th></th>\n",
       "      <th>school</th>\n",
       "      <th>are_test_optional</th>\n",
       "      <th>class_year</th>\n",
       "      <th>policy_details</th>\n",
       "      <th>num_of_applicants</th>\n",
       "      <th>acceptance_rate</th>\n",
       "      <th>sat_middle_range</th>\n",
       "      <th>act_middle_range</th>\n",
       "    </tr>\n",
       "  </thead>\n",
       "  <tbody>\n",
       "    <tr>\n",
       "      <th>0</th>\n",
       "      <td>Stanford University</td>\n",
       "      <td>Yes</td>\n",
       "      <td>2021</td>\n",
       "      <td>Stanford has adopted a one-year test optional ...</td>\n",
       "      <td>47452</td>\n",
       "      <td>0.043</td>\n",
       "      <td>1440-1570</td>\n",
       "      <td>32-35</td>\n",
       "    </tr>\n",
       "    <tr>\n",
       "      <th>1</th>\n",
       "      <td>Harvard College</td>\n",
       "      <td>Yes</td>\n",
       "      <td>2021</td>\n",
       "      <td>Harvard has adopted a one-year test optional p...</td>\n",
       "      <td>42749</td>\n",
       "      <td>0.047</td>\n",
       "      <td>1460-1580</td>\n",
       "      <td>33-35</td>\n",
       "    </tr>\n",
       "    <tr>\n",
       "      <th>2</th>\n",
       "      <td>Princeton University</td>\n",
       "      <td>Yes</td>\n",
       "      <td>2021</td>\n",
       "      <td>Princeton has adopted a one-year test optional...</td>\n",
       "      <td>35370</td>\n",
       "      <td>0.055</td>\n",
       "      <td>1440-1570</td>\n",
       "      <td>32-35</td>\n",
       "    </tr>\n",
       "    <tr>\n",
       "      <th>3</th>\n",
       "      <td>Columbia University</td>\n",
       "      <td>Yes</td>\n",
       "      <td>2021</td>\n",
       "      <td>Columbia has adopted a one-year test optional ...</td>\n",
       "      <td>40203</td>\n",
       "      <td>0.055</td>\n",
       "      <td>1450-1560</td>\n",
       "      <td>33-35</td>\n",
       "    </tr>\n",
       "    <tr>\n",
       "      <th>4</th>\n",
       "      <td>Yale University</td>\n",
       "      <td>Yes</td>\n",
       "      <td>2021</td>\n",
       "      <td>Yale has adopted a one-year test optional poli...</td>\n",
       "      <td>36844</td>\n",
       "      <td>0.061</td>\n",
       "      <td>1460-1570</td>\n",
       "      <td>33-35</td>\n",
       "    </tr>\n",
       "  </tbody>\n",
       "</table>\n",
       "</div>"
      ],
      "text/plain": [
       "                 school are_test_optional class_year  \\\n",
       "0   Stanford University               Yes       2021   \n",
       "1       Harvard College               Yes       2021   \n",
       "2  Princeton University               Yes       2021   \n",
       "3   Columbia University               Yes       2021   \n",
       "4       Yale University               Yes       2021   \n",
       "\n",
       "                                      policy_details  num_of_applicants  \\\n",
       "0  Stanford has adopted a one-year test optional ...              47452   \n",
       "1  Harvard has adopted a one-year test optional p...              42749   \n",
       "2  Princeton has adopted a one-year test optional...              35370   \n",
       "3  Columbia has adopted a one-year test optional ...              40203   \n",
       "4  Yale has adopted a one-year test optional poli...              36844   \n",
       "\n",
       "   acceptance_rate sat_middle_range act_middle_range  \n",
       "0            0.043        1440-1570            32-35  \n",
       "1            0.047        1460-1580            33-35  \n",
       "2            0.055        1440-1570            32-35  \n",
       "3            0.055        1450-1560            33-35  \n",
       "4            0.061        1460-1570            33-35  "
      ]
     },
     "execution_count": 20,
     "metadata": {},
     "output_type": "execute_result"
    }
   ],
   "source": [
    "sat_act_by_college.rename(columns = {'School':'school',\n",
    "                                   'Test Optional?' : 'are_test_optional', 'Applies to Class Year(s)':'class_year',\n",
    "                                   'Policy Details':'policy_details', 'Number of Applicants': 'num_of_applicants',\n",
    "                                   'Accept Rate':'acceptance_rate', 'SAT Total 25th-75th Percentile': 'sat_middle_range', \n",
    "                                   'ACT Total 25th-75th Percentile': 'act_middle_range'},\n",
    "                       inplace = True) \n",
    "\n",
    "sat_act_by_college.head()"
   ]
  },
  {
   "cell_type": "markdown",
   "metadata": {},
   "source": [
    "**Split up the sat_middle_range and act_middle_range**"
   ]
  },
  {
   "cell_type": "code",
   "execution_count": 21,
   "metadata": {},
   "outputs": [
    {
     "name": "stdout",
     "output_type": "stream",
     "text": [
      "<class 'pandas.core.frame.DataFrame'>\n",
      "RangeIndex: 416 entries, 0 to 415\n",
      "Data columns (total 12 columns):\n",
      " #   Column               Non-Null Count  Dtype  \n",
      "---  ------               --------------  -----  \n",
      " 0   school               416 non-null    object \n",
      " 1   are_test_optional    416 non-null    object \n",
      " 2   class_year           416 non-null    object \n",
      " 3   policy_details       416 non-null    object \n",
      " 4   num_of_applicants    416 non-null    int64  \n",
      " 5   acceptance_rate      416 non-null    float64\n",
      " 6   sat_middle_range     416 non-null    object \n",
      " 7   act_middle_range     416 non-null    object \n",
      " 8   sat_25th_percentile  416 non-null    object \n",
      " 9   sat_75th_percentile  416 non-null    object \n",
      " 10  act_25th_percentile  416 non-null    object \n",
      " 11  act_75th_percentile  416 non-null    object \n",
      "dtypes: float64(1), int64(1), object(10)\n",
      "memory usage: 39.1+ KB\n"
     ]
    }
   ],
   "source": [
    "split_sat = sat_act_by_college[\"sat_middle_range\"].str.split(\"-\", expand=True)\n",
    "sat_act_by_college[\"sat_25th_percentile\"] = split_sat[0]\n",
    "sat_act_by_college[\"sat_75th_percentile\"] = split_sat[1]\n",
    "\n",
    "split_act = sat_act_by_college[\"act_middle_range\"].str.split(\"-\", expand=True)\n",
    "sat_act_by_college[\"act_25th_percentile\"] = split_act[0]\n",
    "sat_act_by_college[\"act_75th_percentile\"] = split_act[1]\n",
    "\n",
    "sat_act_by_college.info()\n"
   ]
  },
  {
   "cell_type": "markdown",
   "metadata": {},
   "source": [
    "**To convert new column data types to float**"
   ]
  },
  {
   "cell_type": "code",
   "execution_count": 22,
   "metadata": {},
   "outputs": [
    {
     "data": {
      "text/plain": [
       "array(['1440', '1460', '1450', '\\u200b\\u200b 1530', '\\u200b\\u200b 1500',\n",
       "       '\\u200b\\u200b 1440', '\\u200b\\u200b 1490', '1390', '1330', '1380',\n",
       "       '1360', '1470', '1400', '1410', '1340', '1270', '1290', '1350',\n",
       "       '1300', '1490', '1370', '1283', '1320', '1310', '1348', '1180',\n",
       "       '1280', '1250', '1260', '1220', '1240', '1333', '1210', '1110',\n",
       "       '1255', '1200', '1040', '1090', '1030', '1100', '890', '1325',\n",
       "       '1150', '1160', '1130', '1080', '1230', '1190', '1140', '1020',\n",
       "       '990', '1050', '1203', '950', '1070', '1170', '910', '1060',\n",
       "       '1120', '1142.5', '1045', '1248', '1010', '1078', '940', '1000',\n",
       "       '', '980', '1153', '1012', '1108', '970', '1038', '960', '1143',\n",
       "       '1008', '1245', '1275', '793', '820'], dtype=object)"
      ]
     },
     "execution_count": 22,
     "metadata": {},
     "output_type": "execute_result"
    }
   ],
   "source": [
    "sat_act_by_college[\"sat_25th_percentile\"].unique()"
   ]
  },
  {
   "cell_type": "code",
   "execution_count": 23,
   "metadata": {},
   "outputs": [],
   "source": [
    "sat_act_by_college[\"sat_25th_percentile\"].replace('\\u200b\\u200b ','',regex=True, inplace = True)\n",
    "sat_act_by_college = sat_act_by_college[sat_act_by_college[\"sat_25th_percentile\"] != \"\"]\n",
    "sat_act_by_college[\"sat_25th_percentile\"] = sat_act_by_college[\"sat_25th_percentile\"].astype(float)\n",
    "sat_act_by_college[\"sat_75th_percentile\"] = sat_act_by_college[\"sat_75th_percentile\"].astype(float)\n",
    "\n",
    "sat_act_by_college = sat_act_by_college[sat_act_by_college[\"act_25th_percentile\"] != \"\"]\n",
    "sat_act_by_college[\"act_25th_percentile\"] = sat_act_by_college[\"act_25th_percentile\"].astype(float)\n",
    "sat_act_by_college[\"act_75th_percentile\"] = sat_act_by_college[\"act_75th_percentile\"].astype(float)"
   ]
  },
  {
   "cell_type": "code",
   "execution_count": 24,
   "metadata": {},
   "outputs": [
    {
     "name": "stdout",
     "output_type": "stream",
     "text": [
      "<class 'pandas.core.frame.DataFrame'>\n",
      "Int64Index: 405 entries, 0 to 415\n",
      "Data columns (total 12 columns):\n",
      " #   Column               Non-Null Count  Dtype  \n",
      "---  ------               --------------  -----  \n",
      " 0   school               405 non-null    object \n",
      " 1   are_test_optional    405 non-null    object \n",
      " 2   class_year           405 non-null    object \n",
      " 3   policy_details       405 non-null    object \n",
      " 4   num_of_applicants    405 non-null    int64  \n",
      " 5   acceptance_rate      405 non-null    float64\n",
      " 6   sat_middle_range     405 non-null    object \n",
      " 7   act_middle_range     405 non-null    object \n",
      " 8   sat_25th_percentile  405 non-null    float64\n",
      " 9   sat_75th_percentile  405 non-null    float64\n",
      " 10  act_25th_percentile  405 non-null    float64\n",
      " 11  act_75th_percentile  405 non-null    float64\n",
      "dtypes: float64(5), int64(1), object(6)\n",
      "memory usage: 41.1+ KB\n"
     ]
    }
   ],
   "source": [
    "sat_act_by_college.info()"
   ]
  },
  {
   "cell_type": "markdown",
   "metadata": {},
   "source": [
    "### Data Dictionary\n",
    "\n",
    "Now that we've fixed our data, and given it appropriate names, let's create a [data dictionary](http://library.ucmerced.edu/node/10249). \n",
    "\n",
    "A data dictionary provides a quick overview of features/variables/columns, alongside data types and descriptions. The more descriptive you can be, the more useful this document is.\n",
    "\n",
    "Example of a Fictional Data Dictionary Entry: \n",
    "\n",
    "|Feature|Type|Dataset|Description|\n",
    "|---|---|---|---|\n",
    "|**county_pop**|*integer*|2010 census|The population of the county (units in thousands, where 2.5 represents 2500 people).| \n",
    "|**per_poverty**|*float*|2010 census|The percent of the county over the age of 18 living below the 200% of official US poverty rate (units percent to two decimal places 98.10 means 98.1%)|\n",
    "\n",
    "[Here's a quick link to a short guide for formatting markdown in Jupyter notebooks](https://jupyter-notebook.readthedocs.io/en/stable/examples/Notebook/Working%20With%20Markdown%20Cells.html).\n",
    "\n",
    "Provided is the skeleton for formatting a markdown table, with columns headers that will help you create a data dictionary to quickly summarize your data, as well as some examples. **This would be a great thing to copy and paste into your custom README for this project.**\n",
    "\n",
    "*Note*: if you are unsure of what a feature is, check the source of the data! This can be found in the README."
   ]
  },
  {
   "cell_type": "markdown",
   "metadata": {},
   "source": [
    "**To-Do:** *Edit the table below to create your own data dictionary for the datasets you chose.*\n",
    "\n",
    "|Feature|Type|Dataset|Description|\n",
    "|---|---|---|---|\n",
    "|intended_college_major|object|sat_2019_by_intended_college_major.csv|Major which students intend to take in college| \n",
    "|num_test_takers|int|sat_2019_by_intended_college_major.csv|Number of test takers for each intended college major| \n",
    "|percentage_of_majors|float|sat_2019_by_intended_college_major.csv|Percentage of test takers for each intended college major| \n",
    "|total_score|int|sat_2019_by_intended_college_major.csv|Mean combined SAT reading, writing and math score| \n",
    "|reading_writing|int|sat_2019_by_intended_college_major.csv|Mean SAT reading and writing score| \n",
    "|math|int|sat_2019_by_intended_college_major.csv|Mean SAT math score| \n",
    "|school|object|sat_act_by_college.csv|College or university| \n",
    "|are_test_optional|object|sat_act_by_college.csv|Whether SAT or ACT tests are optional in the college| \n",
    "|class_year|object|sat_act_by_college.csv|The year of the test optional policy| \n",
    "|policy_details|object|sat_act_by_college.csv|Details of the test optional policy| \n",
    "|num_of_applicants|int|sat_act_by_college.csv|Number of applicants to each college or university| \n",
    "|acceptance_rate|float|sat_act_by_college.csv|Percentage of the applicants who were accepted to the school| \n",
    "|sat_middle_range|float|sat_act_by_college.csv|Range of 25th to 75th percentile of SAT score for applicants to the school| \n",
    "|act_middle_range|float|sat_act_by_college.csv|Range of 25th to 75th percentile of ACT score for applicants to the school| \n",
    "|sat_25th_percentile|float|sat_act_by_college.csv|25th percentile of SAT score for applicants to the school| \n",
    "|sat_75th_percentile|float|sat_act_by_college.csv|75th percentile of SAT score for applicants to the school| \n",
    "|act_25th_percentile|float|sat_act_by_college.csv|25th percentile of ACT score for applicants to the school| \n",
    "|act_75th_percentile|float|sat_act_by_college.csv|75th percentile of ACT score for applicants to the school| "
   ]
  },
  {
   "cell_type": "markdown",
   "metadata": {},
   "source": [
    "## Exploratory Data Analysis\n",
    "\n",
    "Complete the following steps to explore your data. You are welcome to do more EDA than the steps outlined here as you feel necessary:\n",
    "1. Summary Statistics.\n",
    "2. Use a **dictionary comprehension** to apply the standard deviation function you create in part 1 to each numeric column in the dataframe.  **No loops**.\n",
    "    - Assign the output to variable `sd` as a dictionary where: \n",
    "        - Each column name is now a key \n",
    "        - That standard deviation of the column is the value \n",
    "        - *Example Output :* `{'ACT_Math': 120, 'ACT_Reading': 120, ...}`\n",
    "3. Investigate trends in the data.\n",
    "    - Using sorting and/or masking (along with the `.head()` method to avoid printing our entire dataframe), consider questions relevant to your problem statement. Some examples are provided below (but feel free to change these questions for your specific problem):\n",
    "        - Which states have the highest and lowest participation rates for the 2017, 2019, or 2019 SAT and ACT?\n",
    "        - Which states have the highest and lowest mean total/composite scores for the 2017, 2019, or 2019 SAT and ACT?\n",
    "        - Do any states with 100% participation on a given test have a rate change year-to-year?\n",
    "        - Do any states show have >50% participation on *both* tests each year?\n",
    "        - Which colleges have the highest median SAT and ACT scores for admittance?\n",
    "        - Which California school districts have the highest and lowest mean test scores?\n",
    "    - **You should comment on your findings at each step in a markdown cell below your code block**. Make sure you include at least one example of sorting your dataframe by a column, and one example of using boolean filtering (i.e., masking) to select a subset of the dataframe."
   ]
  },
  {
   "cell_type": "markdown",
   "metadata": {},
   "source": [
    "### 1. Summary Statistics"
   ]
  },
  {
   "cell_type": "code",
   "execution_count": 25,
   "metadata": {},
   "outputs": [
    {
     "data": {
      "text/html": [
       "<div>\n",
       "<style scoped>\n",
       "    .dataframe tbody tr th:only-of-type {\n",
       "        vertical-align: middle;\n",
       "    }\n",
       "\n",
       "    .dataframe tbody tr th {\n",
       "        vertical-align: top;\n",
       "    }\n",
       "\n",
       "    .dataframe thead th {\n",
       "        text-align: right;\n",
       "    }\n",
       "</style>\n",
       "<table border=\"1\" class=\"dataframe\">\n",
       "  <thead>\n",
       "    <tr style=\"text-align: right;\">\n",
       "      <th></th>\n",
       "      <th>num_test_takers</th>\n",
       "      <th>percentage_of_majors</th>\n",
       "      <th>total_score</th>\n",
       "      <th>reading_writing</th>\n",
       "      <th>math</th>\n",
       "    </tr>\n",
       "  </thead>\n",
       "  <tbody>\n",
       "    <tr>\n",
       "      <th>count</th>\n",
       "      <td>38.000000</td>\n",
       "      <td>38.000000</td>\n",
       "      <td>38.000000</td>\n",
       "      <td>38.000000</td>\n",
       "      <td>38.000000</td>\n",
       "    </tr>\n",
       "    <tr>\n",
       "      <th>mean</th>\n",
       "      <td>48394.500000</td>\n",
       "      <td>0.025789</td>\n",
       "      <td>1058.500000</td>\n",
       "      <td>535.500000</td>\n",
       "      <td>523.000000</td>\n",
       "    </tr>\n",
       "    <tr>\n",
       "      <th>std</th>\n",
       "      <td>72753.092558</td>\n",
       "      <td>0.039975</td>\n",
       "      <td>82.445969</td>\n",
       "      <td>41.362439</td>\n",
       "      <td>43.386385</td>\n",
       "    </tr>\n",
       "    <tr>\n",
       "      <th>min</th>\n",
       "      <td>283.000000</td>\n",
       "      <td>0.000000</td>\n",
       "      <td>916.000000</td>\n",
       "      <td>458.000000</td>\n",
       "      <td>456.000000</td>\n",
       "    </tr>\n",
       "    <tr>\n",
       "      <th>25%</th>\n",
       "      <td>6611.000000</td>\n",
       "      <td>0.000000</td>\n",
       "      <td>988.250000</td>\n",
       "      <td>501.250000</td>\n",
       "      <td>486.500000</td>\n",
       "    </tr>\n",
       "    <tr>\n",
       "      <th>50%</th>\n",
       "      <td>16370.500000</td>\n",
       "      <td>0.010000</td>\n",
       "      <td>1066.500000</td>\n",
       "      <td>537.000000</td>\n",
       "      <td>527.000000</td>\n",
       "    </tr>\n",
       "    <tr>\n",
       "      <th>75%</th>\n",
       "      <td>60215.750000</td>\n",
       "      <td>0.035000</td>\n",
       "      <td>1115.500000</td>\n",
       "      <td>569.750000</td>\n",
       "      <td>542.250000</td>\n",
       "    </tr>\n",
       "    <tr>\n",
       "      <th>max</th>\n",
       "      <td>331026.000000</td>\n",
       "      <td>0.180000</td>\n",
       "      <td>1242.000000</td>\n",
       "      <td>597.000000</td>\n",
       "      <td>646.000000</td>\n",
       "    </tr>\n",
       "  </tbody>\n",
       "</table>\n",
       "</div>"
      ],
      "text/plain": [
       "       num_test_takers  percentage_of_majors  total_score  reading_writing  \\\n",
       "count        38.000000             38.000000    38.000000        38.000000   \n",
       "mean      48394.500000              0.025789  1058.500000       535.500000   \n",
       "std       72753.092558              0.039975    82.445969        41.362439   \n",
       "min         283.000000              0.000000   916.000000       458.000000   \n",
       "25%        6611.000000              0.000000   988.250000       501.250000   \n",
       "50%       16370.500000              0.010000  1066.500000       537.000000   \n",
       "75%       60215.750000              0.035000  1115.500000       569.750000   \n",
       "max      331026.000000              0.180000  1242.000000       597.000000   \n",
       "\n",
       "             math  \n",
       "count   38.000000  \n",
       "mean   523.000000  \n",
       "std     43.386385  \n",
       "min    456.000000  \n",
       "25%    486.500000  \n",
       "50%    527.000000  \n",
       "75%    542.250000  \n",
       "max    646.000000  "
      ]
     },
     "execution_count": 25,
     "metadata": {},
     "output_type": "execute_result"
    }
   ],
   "source": [
    "sat_college_major.describe()"
   ]
  },
  {
   "cell_type": "code",
   "execution_count": 26,
   "metadata": {},
   "outputs": [
    {
     "data": {
      "text/html": [
       "<div>\n",
       "<style scoped>\n",
       "    .dataframe tbody tr th:only-of-type {\n",
       "        vertical-align: middle;\n",
       "    }\n",
       "\n",
       "    .dataframe tbody tr th {\n",
       "        vertical-align: top;\n",
       "    }\n",
       "\n",
       "    .dataframe thead th {\n",
       "        text-align: right;\n",
       "    }\n",
       "</style>\n",
       "<table border=\"1\" class=\"dataframe\">\n",
       "  <thead>\n",
       "    <tr style=\"text-align: right;\">\n",
       "      <th></th>\n",
       "      <th>num_of_applicants</th>\n",
       "      <th>acceptance_rate</th>\n",
       "      <th>sat_25th_percentile</th>\n",
       "      <th>sat_75th_percentile</th>\n",
       "      <th>act_25th_percentile</th>\n",
       "      <th>act_75th_percentile</th>\n",
       "    </tr>\n",
       "  </thead>\n",
       "  <tbody>\n",
       "    <tr>\n",
       "      <th>count</th>\n",
       "      <td>405.000000</td>\n",
       "      <td>405.000000</td>\n",
       "      <td>405.000000</td>\n",
       "      <td>405.000000</td>\n",
       "      <td>405.000000</td>\n",
       "      <td>405.000000</td>\n",
       "    </tr>\n",
       "    <tr>\n",
       "      <th>mean</th>\n",
       "      <td>17339.239506</td>\n",
       "      <td>0.554116</td>\n",
       "      <td>1167.934568</td>\n",
       "      <td>1359.644444</td>\n",
       "      <td>24.739012</td>\n",
       "      <td>29.910617</td>\n",
       "    </tr>\n",
       "    <tr>\n",
       "      <th>std</th>\n",
       "      <td>17187.633091</td>\n",
       "      <td>0.242055</td>\n",
       "      <td>129.923812</td>\n",
       "      <td>111.478484</td>\n",
       "      <td>4.136562</td>\n",
       "      <td>3.158794</td>\n",
       "    </tr>\n",
       "    <tr>\n",
       "      <th>min</th>\n",
       "      <td>211.000000</td>\n",
       "      <td>0.043000</td>\n",
       "      <td>793.000000</td>\n",
       "      <td>1050.000000</td>\n",
       "      <td>15.000000</td>\n",
       "      <td>19.000000</td>\n",
       "    </tr>\n",
       "    <tr>\n",
       "      <th>25%</th>\n",
       "      <td>5208.000000</td>\n",
       "      <td>0.374000</td>\n",
       "      <td>1070.000000</td>\n",
       "      <td>1270.000000</td>\n",
       "      <td>22.000000</td>\n",
       "      <td>28.000000</td>\n",
       "    </tr>\n",
       "    <tr>\n",
       "      <th>50%</th>\n",
       "      <td>11478.000000</td>\n",
       "      <td>0.611000</td>\n",
       "      <td>1150.000000</td>\n",
       "      <td>1350.000000</td>\n",
       "      <td>24.000000</td>\n",
       "      <td>30.000000</td>\n",
       "    </tr>\n",
       "    <tr>\n",
       "      <th>75%</th>\n",
       "      <td>23583.000000</td>\n",
       "      <td>0.742000</td>\n",
       "      <td>1250.000000</td>\n",
       "      <td>1440.000000</td>\n",
       "      <td>28.000000</td>\n",
       "      <td>32.000000</td>\n",
       "    </tr>\n",
       "    <tr>\n",
       "      <th>max</th>\n",
       "      <td>111322.000000</td>\n",
       "      <td>0.999000</td>\n",
       "      <td>1530.000000</td>\n",
       "      <td>1580.000000</td>\n",
       "      <td>35.000000</td>\n",
       "      <td>36.000000</td>\n",
       "    </tr>\n",
       "  </tbody>\n",
       "</table>\n",
       "</div>"
      ],
      "text/plain": [
       "       num_of_applicants  acceptance_rate  sat_25th_percentile  \\\n",
       "count         405.000000       405.000000           405.000000   \n",
       "mean        17339.239506         0.554116          1167.934568   \n",
       "std         17187.633091         0.242055           129.923812   \n",
       "min           211.000000         0.043000           793.000000   \n",
       "25%          5208.000000         0.374000          1070.000000   \n",
       "50%         11478.000000         0.611000          1150.000000   \n",
       "75%         23583.000000         0.742000          1250.000000   \n",
       "max        111322.000000         0.999000          1530.000000   \n",
       "\n",
       "       sat_75th_percentile  act_25th_percentile  act_75th_percentile  \n",
       "count           405.000000           405.000000           405.000000  \n",
       "mean           1359.644444            24.739012            29.910617  \n",
       "std             111.478484             4.136562             3.158794  \n",
       "min            1050.000000            15.000000            19.000000  \n",
       "25%            1270.000000            22.000000            28.000000  \n",
       "50%            1350.000000            24.000000            30.000000  \n",
       "75%            1440.000000            28.000000            32.000000  \n",
       "max            1580.000000            35.000000            36.000000  "
      ]
     },
     "execution_count": 26,
     "metadata": {},
     "output_type": "execute_result"
    }
   ],
   "source": [
    "sat_act_by_college.describe()"
   ]
  },
  {
   "cell_type": "markdown",
   "metadata": {},
   "source": [
    "### 2. Dictionary comprehension"
   ]
  },
  {
   "cell_type": "code",
   "execution_count": 27,
   "metadata": {},
   "outputs": [
    {
     "data": {
      "text/plain": [
       "{'percentage_of_majors': 0.03944560404747735,\n",
       " 'total_score': 81.35392139482761,\n",
       " 'reading_writing': 40.814567832679806,\n",
       " 'math': 42.811705236572365}"
      ]
     },
     "execution_count": 27,
     "metadata": {},
     "output_type": "execute_result"
    }
   ],
   "source": [
    "{col.name:calculate_std_dev(col) for col in [sat_college_major[i] for i in sat_college_major.columns if (sat_college_major[i].dtype=='float64') or (sat_college_major[i].dtype=='int64')]}"
   ]
  },
  {
   "cell_type": "code",
   "execution_count": 28,
   "metadata": {},
   "outputs": [
    {
     "data": {
      "text/plain": [
       "{'num_of_applicants': 17166.400676527417,\n",
       " 'acceptance_rate': 0.24175568498775526,\n",
       " 'sat_25th_percentile': 129.76331270270018,\n",
       " 'sat_75th_percentile': 111.34077154127958,\n",
       " 'act_25th_percentile': 4.131452261611048,\n",
       " 'act_75th_percentile': 3.1548920842724386}"
      ]
     },
     "execution_count": 28,
     "metadata": {},
     "output_type": "execute_result"
    }
   ],
   "source": [
    "{col.name:calculate_std_dev(col) for col in [sat_act_by_college[i] for i in sat_act_by_college.columns if (sat_act_by_college[i].dtype=='float64') or (sat_act_by_college[i].dtype=='int64')]}"
   ]
  },
  {
   "cell_type": "markdown",
   "metadata": {},
   "source": [
    "### 3. Investigate trends in the data"
   ]
  },
  {
   "cell_type": "code",
   "execution_count": 29,
   "metadata": {},
   "outputs": [
    {
     "data": {
      "text/html": [
       "<div>\n",
       "<style scoped>\n",
       "    .dataframe tbody tr th:only-of-type {\n",
       "        vertical-align: middle;\n",
       "    }\n",
       "\n",
       "    .dataframe tbody tr th {\n",
       "        vertical-align: top;\n",
       "    }\n",
       "\n",
       "    .dataframe thead th {\n",
       "        text-align: right;\n",
       "    }\n",
       "</style>\n",
       "<table border=\"1\" class=\"dataframe\">\n",
       "  <thead>\n",
       "    <tr style=\"text-align: right;\">\n",
       "      <th></th>\n",
       "      <th>intended_college_major</th>\n",
       "      <th>num_test_takers</th>\n",
       "      <th>percentage_of_majors</th>\n",
       "      <th>total_score</th>\n",
       "      <th>reading_writing</th>\n",
       "      <th>math</th>\n",
       "    </tr>\n",
       "  </thead>\n",
       "  <tbody>\n",
       "    <tr>\n",
       "      <th>19</th>\n",
       "      <td>Mathematics and Statistics</td>\n",
       "      <td>16508</td>\n",
       "      <td>0.01</td>\n",
       "      <td>1242</td>\n",
       "      <td>597</td>\n",
       "      <td>646</td>\n",
       "    </tr>\n",
       "    <tr>\n",
       "      <th>27</th>\n",
       "      <td>Physical Sciences</td>\n",
       "      <td>26318</td>\n",
       "      <td>0.01</td>\n",
       "      <td>1203</td>\n",
       "      <td>597</td>\n",
       "      <td>606</td>\n",
       "    </tr>\n",
       "    <tr>\n",
       "      <th>32</th>\n",
       "      <td>Social Sciences</td>\n",
       "      <td>33356</td>\n",
       "      <td>0.02</td>\n",
       "      <td>1164</td>\n",
       "      <td>594</td>\n",
       "      <td>570</td>\n",
       "    </tr>\n",
       "    <tr>\n",
       "      <th>6</th>\n",
       "      <td>Computer and Information Sciences and Support ...</td>\n",
       "      <td>79736</td>\n",
       "      <td>0.04</td>\n",
       "      <td>1156</td>\n",
       "      <td>571</td>\n",
       "      <td>585</td>\n",
       "    </tr>\n",
       "    <tr>\n",
       "      <th>22</th>\n",
       "      <td>Multi/Interdisciplinary Studies</td>\n",
       "      <td>2979</td>\n",
       "      <td>0.00</td>\n",
       "      <td>1155</td>\n",
       "      <td>581</td>\n",
       "      <td>574</td>\n",
       "    </tr>\n",
       "  </tbody>\n",
       "</table>\n",
       "</div>"
      ],
      "text/plain": [
       "                               intended_college_major  num_test_takers  \\\n",
       "19                         Mathematics and Statistics            16508   \n",
       "27                                  Physical Sciences            26318   \n",
       "32                                    Social Sciences            33356   \n",
       "6   Computer and Information Sciences and Support ...            79736   \n",
       "22                    Multi/Interdisciplinary Studies             2979   \n",
       "\n",
       "    percentage_of_majors  total_score  reading_writing  math  \n",
       "19                  0.01         1242              597   646  \n",
       "27                  0.01         1203              597   606  \n",
       "32                  0.02         1164              594   570  \n",
       "6                   0.04         1156              571   585  \n",
       "22                  0.00         1155              581   574  "
      ]
     },
     "execution_count": 29,
     "metadata": {},
     "output_type": "execute_result"
    }
   ],
   "source": [
    "sat_college_major.sort_values(by='total_score', ascending=False).head()"
   ]
  },
  {
   "cell_type": "markdown",
   "metadata": {},
   "source": [
    "The top 5 majors with highest total SAT scores are Mathematics and Statistics, Physical Sciences, Social Sciences, Computer and Information Sciences and Support and Multi/Interdisciplinary Studies, most of which are STEM related."
   ]
  },
  {
   "cell_type": "code",
   "execution_count": 30,
   "metadata": {},
   "outputs": [
    {
     "data": {
      "text/html": [
       "<div>\n",
       "<style scoped>\n",
       "    .dataframe tbody tr th:only-of-type {\n",
       "        vertical-align: middle;\n",
       "    }\n",
       "\n",
       "    .dataframe tbody tr th {\n",
       "        vertical-align: top;\n",
       "    }\n",
       "\n",
       "    .dataframe thead th {\n",
       "        text-align: right;\n",
       "    }\n",
       "</style>\n",
       "<table border=\"1\" class=\"dataframe\">\n",
       "  <thead>\n",
       "    <tr style=\"text-align: right;\">\n",
       "      <th></th>\n",
       "      <th>intended_college_major</th>\n",
       "      <th>num_test_takers</th>\n",
       "      <th>percentage_of_majors</th>\n",
       "      <th>total_score</th>\n",
       "      <th>reading_writing</th>\n",
       "      <th>math</th>\n",
       "    </tr>\n",
       "  </thead>\n",
       "  <tbody>\n",
       "    <tr>\n",
       "      <th>19</th>\n",
       "      <td>Mathematics and Statistics</td>\n",
       "      <td>16508</td>\n",
       "      <td>0.01</td>\n",
       "      <td>1242</td>\n",
       "      <td>597</td>\n",
       "      <td>646</td>\n",
       "    </tr>\n",
       "    <tr>\n",
       "      <th>27</th>\n",
       "      <td>Physical Sciences</td>\n",
       "      <td>26318</td>\n",
       "      <td>0.01</td>\n",
       "      <td>1203</td>\n",
       "      <td>597</td>\n",
       "      <td>606</td>\n",
       "    </tr>\n",
       "    <tr>\n",
       "      <th>32</th>\n",
       "      <td>Social Sciences</td>\n",
       "      <td>33356</td>\n",
       "      <td>0.02</td>\n",
       "      <td>1164</td>\n",
       "      <td>594</td>\n",
       "      <td>570</td>\n",
       "    </tr>\n",
       "    <tr>\n",
       "      <th>11</th>\n",
       "      <td>English Language and Literature/Letters</td>\n",
       "      <td>16233</td>\n",
       "      <td>0.01</td>\n",
       "      <td>1119</td>\n",
       "      <td>585</td>\n",
       "      <td>533</td>\n",
       "    </tr>\n",
       "    <tr>\n",
       "      <th>17</th>\n",
       "      <td>Liberal Arts and Sciences, General Studies and...</td>\n",
       "      <td>8611</td>\n",
       "      <td>0.00</td>\n",
       "      <td>1140</td>\n",
       "      <td>584</td>\n",
       "      <td>556</td>\n",
       "    </tr>\n",
       "  </tbody>\n",
       "</table>\n",
       "</div>"
      ],
      "text/plain": [
       "                               intended_college_major  num_test_takers  \\\n",
       "19                         Mathematics and Statistics            16508   \n",
       "27                                  Physical Sciences            26318   \n",
       "32                                    Social Sciences            33356   \n",
       "11            English Language and Literature/Letters            16233   \n",
       "17  Liberal Arts and Sciences, General Studies and...             8611   \n",
       "\n",
       "    percentage_of_majors  total_score  reading_writing  math  \n",
       "19                  0.01         1242              597   646  \n",
       "27                  0.01         1203              597   606  \n",
       "32                  0.02         1164              594   570  \n",
       "11                  0.01         1119              585   533  \n",
       "17                  0.00         1140              584   556  "
      ]
     },
     "execution_count": 30,
     "metadata": {},
     "output_type": "execute_result"
    }
   ],
   "source": [
    "sat_college_major.sort_values(by='reading_writing', ascending=False).head()"
   ]
  },
  {
   "cell_type": "markdown",
   "metadata": {},
   "source": [
    "The top 5 majors with highest SAT reading and writing scores are Mathematics and Statistics, Physical Sciences, Social Sciences, English Language and Literature/Letters and Liberal Arts and Sciences, General Studies."
   ]
  },
  {
   "cell_type": "code",
   "execution_count": 31,
   "metadata": {},
   "outputs": [
    {
     "data": {
      "text/html": [
       "<div>\n",
       "<style scoped>\n",
       "    .dataframe tbody tr th:only-of-type {\n",
       "        vertical-align: middle;\n",
       "    }\n",
       "\n",
       "    .dataframe tbody tr th {\n",
       "        vertical-align: top;\n",
       "    }\n",
       "\n",
       "    .dataframe thead th {\n",
       "        text-align: right;\n",
       "    }\n",
       "</style>\n",
       "<table border=\"1\" class=\"dataframe\">\n",
       "  <thead>\n",
       "    <tr style=\"text-align: right;\">\n",
       "      <th></th>\n",
       "      <th>intended_college_major</th>\n",
       "      <th>num_test_takers</th>\n",
       "      <th>percentage_of_majors</th>\n",
       "      <th>total_score</th>\n",
       "      <th>reading_writing</th>\n",
       "      <th>math</th>\n",
       "    </tr>\n",
       "  </thead>\n",
       "  <tbody>\n",
       "    <tr>\n",
       "      <th>19</th>\n",
       "      <td>Mathematics and Statistics</td>\n",
       "      <td>16508</td>\n",
       "      <td>0.01</td>\n",
       "      <td>1242</td>\n",
       "      <td>597</td>\n",
       "      <td>646</td>\n",
       "    </tr>\n",
       "    <tr>\n",
       "      <th>27</th>\n",
       "      <td>Physical Sciences</td>\n",
       "      <td>26318</td>\n",
       "      <td>0.01</td>\n",
       "      <td>1203</td>\n",
       "      <td>597</td>\n",
       "      <td>606</td>\n",
       "    </tr>\n",
       "    <tr>\n",
       "      <th>6</th>\n",
       "      <td>Computer and Information Sciences and Support ...</td>\n",
       "      <td>79736</td>\n",
       "      <td>0.04</td>\n",
       "      <td>1156</td>\n",
       "      <td>571</td>\n",
       "      <td>585</td>\n",
       "    </tr>\n",
       "    <tr>\n",
       "      <th>9</th>\n",
       "      <td>Engineering</td>\n",
       "      <td>194127</td>\n",
       "      <td>0.11</td>\n",
       "      <td>1139</td>\n",
       "      <td>559</td>\n",
       "      <td>581</td>\n",
       "    </tr>\n",
       "    <tr>\n",
       "      <th>22</th>\n",
       "      <td>Multi/Interdisciplinary Studies</td>\n",
       "      <td>2979</td>\n",
       "      <td>0.00</td>\n",
       "      <td>1155</td>\n",
       "      <td>581</td>\n",
       "      <td>574</td>\n",
       "    </tr>\n",
       "  </tbody>\n",
       "</table>\n",
       "</div>"
      ],
      "text/plain": [
       "                               intended_college_major  num_test_takers  \\\n",
       "19                         Mathematics and Statistics            16508   \n",
       "27                                  Physical Sciences            26318   \n",
       "6   Computer and Information Sciences and Support ...            79736   \n",
       "9                                         Engineering           194127   \n",
       "22                    Multi/Interdisciplinary Studies             2979   \n",
       "\n",
       "    percentage_of_majors  total_score  reading_writing  math  \n",
       "19                  0.01         1242              597   646  \n",
       "27                  0.01         1203              597   606  \n",
       "6                   0.04         1156              571   585  \n",
       "9                   0.11         1139              559   581  \n",
       "22                  0.00         1155              581   574  "
      ]
     },
     "execution_count": 31,
     "metadata": {},
     "output_type": "execute_result"
    }
   ],
   "source": [
    "sat_college_major.sort_values(by='math', ascending=False).head()"
   ]
  },
  {
   "cell_type": "markdown",
   "metadata": {},
   "source": [
    "The top 5 majors with highest SAT reading and writing scores are Mathematics and Statistics, Physical Sciences, Computer and Information Sciences and Support, Engineering and Multi/Interdisciplinary Studies.\n",
    "\n",
    "In general, Mathematics and Statistics and Physical Sciences require high scores for both reading and writing and math so it shows the importance of being good at both areas for competitive courses like these."
   ]
  },
  {
   "cell_type": "code",
   "execution_count": 32,
   "metadata": {},
   "outputs": [
    {
     "data": {
      "text/html": [
       "<div>\n",
       "<style scoped>\n",
       "    .dataframe tbody tr th:only-of-type {\n",
       "        vertical-align: middle;\n",
       "    }\n",
       "\n",
       "    .dataframe tbody tr th {\n",
       "        vertical-align: top;\n",
       "    }\n",
       "\n",
       "    .dataframe thead th {\n",
       "        text-align: right;\n",
       "    }\n",
       "</style>\n",
       "<table border=\"1\" class=\"dataframe\">\n",
       "  <thead>\n",
       "    <tr style=\"text-align: right;\">\n",
       "      <th></th>\n",
       "      <th>school</th>\n",
       "      <th>are_test_optional</th>\n",
       "      <th>class_year</th>\n",
       "      <th>policy_details</th>\n",
       "      <th>num_of_applicants</th>\n",
       "      <th>acceptance_rate</th>\n",
       "      <th>sat_middle_range</th>\n",
       "      <th>act_middle_range</th>\n",
       "      <th>sat_25th_percentile</th>\n",
       "      <th>sat_75th_percentile</th>\n",
       "      <th>act_25th_percentile</th>\n",
       "      <th>act_75th_percentile</th>\n",
       "    </tr>\n",
       "  </thead>\n",
       "  <tbody>\n",
       "    <tr>\n",
       "      <th>1</th>\n",
       "      <td>Harvard College</td>\n",
       "      <td>Yes</td>\n",
       "      <td>2021</td>\n",
       "      <td>Harvard has adopted a one-year test optional p...</td>\n",
       "      <td>42749</td>\n",
       "      <td>0.047</td>\n",
       "      <td>1460-1580</td>\n",
       "      <td>33-35</td>\n",
       "      <td>1460.0</td>\n",
       "      <td>1580.0</td>\n",
       "      <td>33.0</td>\n",
       "      <td>35.0</td>\n",
       "    </tr>\n",
       "    <tr>\n",
       "      <th>0</th>\n",
       "      <td>Stanford University</td>\n",
       "      <td>Yes</td>\n",
       "      <td>2021</td>\n",
       "      <td>Stanford has adopted a one-year test optional ...</td>\n",
       "      <td>47452</td>\n",
       "      <td>0.043</td>\n",
       "      <td>1440-1570</td>\n",
       "      <td>32-35</td>\n",
       "      <td>1440.0</td>\n",
       "      <td>1570.0</td>\n",
       "      <td>32.0</td>\n",
       "      <td>35.0</td>\n",
       "    </tr>\n",
       "    <tr>\n",
       "      <th>2</th>\n",
       "      <td>Princeton University</td>\n",
       "      <td>Yes</td>\n",
       "      <td>2021</td>\n",
       "      <td>Princeton has adopted a one-year test optional...</td>\n",
       "      <td>35370</td>\n",
       "      <td>0.055</td>\n",
       "      <td>1440-1570</td>\n",
       "      <td>32-35</td>\n",
       "      <td>1440.0</td>\n",
       "      <td>1570.0</td>\n",
       "      <td>32.0</td>\n",
       "      <td>35.0</td>\n",
       "    </tr>\n",
       "    <tr>\n",
       "      <th>4</th>\n",
       "      <td>Yale University</td>\n",
       "      <td>Yes</td>\n",
       "      <td>2021</td>\n",
       "      <td>Yale has adopted a one-year test optional poli...</td>\n",
       "      <td>36844</td>\n",
       "      <td>0.061</td>\n",
       "      <td>1460-1570</td>\n",
       "      <td>33-35</td>\n",
       "      <td>1460.0</td>\n",
       "      <td>1570.0</td>\n",
       "      <td>33.0</td>\n",
       "      <td>35.0</td>\n",
       "    </tr>\n",
       "    <tr>\n",
       "      <th>35</th>\n",
       "      <td>Washington University in St. Louis</td>\n",
       "      <td>Yes</td>\n",
       "      <td>2021</td>\n",
       "      <td>Washington University in St. Louis has adopted...</td>\n",
       "      <td>31320</td>\n",
       "      <td>0.150</td>\n",
       "      <td>1470-1570</td>\n",
       "      <td>32-35</td>\n",
       "      <td>1470.0</td>\n",
       "      <td>1570.0</td>\n",
       "      <td>32.0</td>\n",
       "      <td>35.0</td>\n",
       "    </tr>\n",
       "  </tbody>\n",
       "</table>\n",
       "</div>"
      ],
      "text/plain": [
       "                                school are_test_optional class_year  \\\n",
       "1                      Harvard College               Yes       2021   \n",
       "0                  Stanford University               Yes       2021   \n",
       "2                 Princeton University               Yes       2021   \n",
       "4                      Yale University               Yes       2021   \n",
       "35  Washington University in St. Louis               Yes       2021   \n",
       "\n",
       "                                       policy_details  num_of_applicants  \\\n",
       "1   Harvard has adopted a one-year test optional p...              42749   \n",
       "0   Stanford has adopted a one-year test optional ...              47452   \n",
       "2   Princeton has adopted a one-year test optional...              35370   \n",
       "4   Yale has adopted a one-year test optional poli...              36844   \n",
       "35  Washington University in St. Louis has adopted...              31320   \n",
       "\n",
       "    acceptance_rate sat_middle_range act_middle_range  sat_25th_percentile  \\\n",
       "1             0.047        1460-1580            33-35               1460.0   \n",
       "0             0.043        1440-1570            32-35               1440.0   \n",
       "2             0.055        1440-1570            32-35               1440.0   \n",
       "4             0.061        1460-1570            33-35               1460.0   \n",
       "35            0.150        1470-1570            32-35               1470.0   \n",
       "\n",
       "    sat_75th_percentile  act_25th_percentile  act_75th_percentile  \n",
       "1                1580.0                 33.0                 35.0  \n",
       "0                1570.0                 32.0                 35.0  \n",
       "2                1570.0                 32.0                 35.0  \n",
       "4                1570.0                 33.0                 35.0  \n",
       "35               1570.0                 32.0                 35.0  "
      ]
     },
     "execution_count": 32,
     "metadata": {},
     "output_type": "execute_result"
    }
   ],
   "source": [
    "sat_act_by_college.sort_values(by='sat_75th_percentile', ascending=False).head()"
   ]
  },
  {
   "cell_type": "markdown",
   "metadata": {},
   "source": [
    "The top 5 schools with highest 75th percentile scores for SAT are Harvard College, Stanford University, Princeton University, Yale University and Washington University in St. Louis. All top 5 schools have optional test policies."
   ]
  },
  {
   "cell_type": "code",
   "execution_count": 33,
   "metadata": {},
   "outputs": [
    {
     "data": {
      "text/html": [
       "<div>\n",
       "<style scoped>\n",
       "    .dataframe tbody tr th:only-of-type {\n",
       "        vertical-align: middle;\n",
       "    }\n",
       "\n",
       "    .dataframe tbody tr th {\n",
       "        vertical-align: top;\n",
       "    }\n",
       "\n",
       "    .dataframe thead th {\n",
       "        text-align: right;\n",
       "    }\n",
       "</style>\n",
       "<table border=\"1\" class=\"dataframe\">\n",
       "  <thead>\n",
       "    <tr style=\"text-align: right;\">\n",
       "      <th></th>\n",
       "      <th>school</th>\n",
       "      <th>are_test_optional</th>\n",
       "      <th>class_year</th>\n",
       "      <th>policy_details</th>\n",
       "      <th>num_of_applicants</th>\n",
       "      <th>acceptance_rate</th>\n",
       "      <th>sat_middle_range</th>\n",
       "      <th>act_middle_range</th>\n",
       "      <th>sat_25th_percentile</th>\n",
       "      <th>sat_75th_percentile</th>\n",
       "      <th>act_25th_percentile</th>\n",
       "      <th>act_75th_percentile</th>\n",
       "    </tr>\n",
       "  </thead>\n",
       "  <tbody>\n",
       "    <tr>\n",
       "      <th>5</th>\n",
       "      <td>California Institute of Technology</td>\n",
       "      <td>Yes (TB)</td>\n",
       "      <td>2021 2022</td>\n",
       "      <td>CalTech has adopted a two-year Test Blind poli...</td>\n",
       "      <td>8367</td>\n",
       "      <td>0.064</td>\n",
       "      <td>​​ 1530-1560</td>\n",
       "      <td>35-36</td>\n",
       "      <td>1530.0</td>\n",
       "      <td>1560.0</td>\n",
       "      <td>35.0</td>\n",
       "      <td>36.0</td>\n",
       "    </tr>\n",
       "    <tr>\n",
       "      <th>6</th>\n",
       "      <td>Massachusetts Institute of Technology</td>\n",
       "      <td>Yes</td>\n",
       "      <td>2021</td>\n",
       "      <td>MIT has adopted a one-year test optional polic...</td>\n",
       "      <td>21706</td>\n",
       "      <td>0.067</td>\n",
       "      <td>​​ 1500-1570</td>\n",
       "      <td>34-36</td>\n",
       "      <td>1500.0</td>\n",
       "      <td>1570.0</td>\n",
       "      <td>34.0</td>\n",
       "      <td>36.0</td>\n",
       "    </tr>\n",
       "    <tr>\n",
       "      <th>0</th>\n",
       "      <td>Stanford University</td>\n",
       "      <td>Yes</td>\n",
       "      <td>2021</td>\n",
       "      <td>Stanford has adopted a one-year test optional ...</td>\n",
       "      <td>47452</td>\n",
       "      <td>0.043</td>\n",
       "      <td>1440-1570</td>\n",
       "      <td>32-35</td>\n",
       "      <td>1440.0</td>\n",
       "      <td>1570.0</td>\n",
       "      <td>32.0</td>\n",
       "      <td>35.0</td>\n",
       "    </tr>\n",
       "    <tr>\n",
       "      <th>15</th>\n",
       "      <td>Northwestern University</td>\n",
       "      <td>Yes</td>\n",
       "      <td>2021</td>\n",
       "      <td>Northwestern has adopted a one-year test optio...</td>\n",
       "      <td>40585</td>\n",
       "      <td>0.091</td>\n",
       "      <td>1440-1550</td>\n",
       "      <td>33-35</td>\n",
       "      <td>1440.0</td>\n",
       "      <td>1550.0</td>\n",
       "      <td>33.0</td>\n",
       "      <td>35.0</td>\n",
       "    </tr>\n",
       "    <tr>\n",
       "      <th>44</th>\n",
       "      <td>Northeastern University</td>\n",
       "      <td>Yes</td>\n",
       "      <td>2021</td>\n",
       "      <td>Northeastern University has adopted a one-year...</td>\n",
       "      <td>62263</td>\n",
       "      <td>0.181</td>\n",
       "      <td>1390-1540</td>\n",
       "      <td>32-35</td>\n",
       "      <td>1390.0</td>\n",
       "      <td>1540.0</td>\n",
       "      <td>32.0</td>\n",
       "      <td>35.0</td>\n",
       "    </tr>\n",
       "  </tbody>\n",
       "</table>\n",
       "</div>"
      ],
      "text/plain": [
       "                                   school are_test_optional class_year  \\\n",
       "5      California Institute of Technology          Yes (TB)  2021 2022   \n",
       "6   Massachusetts Institute of Technology               Yes       2021   \n",
       "0                     Stanford University               Yes       2021   \n",
       "15                Northwestern University               Yes       2021   \n",
       "44                Northeastern University               Yes       2021   \n",
       "\n",
       "                                       policy_details  num_of_applicants  \\\n",
       "5   CalTech has adopted a two-year Test Blind poli...               8367   \n",
       "6   MIT has adopted a one-year test optional polic...              21706   \n",
       "0   Stanford has adopted a one-year test optional ...              47452   \n",
       "15  Northwestern has adopted a one-year test optio...              40585   \n",
       "44  Northeastern University has adopted a one-year...              62263   \n",
       "\n",
       "    acceptance_rate sat_middle_range act_middle_range  sat_25th_percentile  \\\n",
       "5             0.064     ​​ 1530-1560            35-36               1530.0   \n",
       "6             0.067     ​​ 1500-1570            34-36               1500.0   \n",
       "0             0.043        1440-1570            32-35               1440.0   \n",
       "15            0.091        1440-1550            33-35               1440.0   \n",
       "44            0.181        1390-1540            32-35               1390.0   \n",
       "\n",
       "    sat_75th_percentile  act_25th_percentile  act_75th_percentile  \n",
       "5                1560.0                 35.0                 36.0  \n",
       "6                1570.0                 34.0                 36.0  \n",
       "0                1570.0                 32.0                 35.0  \n",
       "15               1550.0                 33.0                 35.0  \n",
       "44               1540.0                 32.0                 35.0  "
      ]
     },
     "execution_count": 33,
     "metadata": {},
     "output_type": "execute_result"
    }
   ],
   "source": [
    "sat_act_by_college.sort_values(by='act_75th_percentile', ascending=False).head()"
   ]
  },
  {
   "cell_type": "markdown",
   "metadata": {},
   "source": [
    "The top 5 schools with highest 75th percentile scores for ACT are California Institute of Technology, Massachusetts Institute of Technology, Stanford University, Northwestern University and Northeastern University. All top 5 schools have optional test policies."
   ]
  },
  {
   "cell_type": "code",
   "execution_count": 34,
   "metadata": {},
   "outputs": [
    {
     "data": {
      "text/html": [
       "<div>\n",
       "<style scoped>\n",
       "    .dataframe tbody tr th:only-of-type {\n",
       "        vertical-align: middle;\n",
       "    }\n",
       "\n",
       "    .dataframe tbody tr th {\n",
       "        vertical-align: top;\n",
       "    }\n",
       "\n",
       "    .dataframe thead th {\n",
       "        text-align: right;\n",
       "    }\n",
       "</style>\n",
       "<table border=\"1\" class=\"dataframe\">\n",
       "  <thead>\n",
       "    <tr style=\"text-align: right;\">\n",
       "      <th></th>\n",
       "      <th>school</th>\n",
       "      <th>are_test_optional</th>\n",
       "      <th>class_year</th>\n",
       "      <th>policy_details</th>\n",
       "      <th>num_of_applicants</th>\n",
       "      <th>acceptance_rate</th>\n",
       "      <th>sat_middle_range</th>\n",
       "      <th>act_middle_range</th>\n",
       "      <th>sat_25th_percentile</th>\n",
       "      <th>sat_75th_percentile</th>\n",
       "      <th>act_25th_percentile</th>\n",
       "      <th>act_75th_percentile</th>\n",
       "    </tr>\n",
       "  </thead>\n",
       "  <tbody>\n",
       "    <tr>\n",
       "      <th>0</th>\n",
       "      <td>Stanford University</td>\n",
       "      <td>Yes</td>\n",
       "      <td>2021</td>\n",
       "      <td>Stanford has adopted a one-year test optional ...</td>\n",
       "      <td>47452</td>\n",
       "      <td>0.043</td>\n",
       "      <td>1440-1570</td>\n",
       "      <td>32-35</td>\n",
       "      <td>1440.0</td>\n",
       "      <td>1570.0</td>\n",
       "      <td>32.0</td>\n",
       "      <td>35.0</td>\n",
       "    </tr>\n",
       "    <tr>\n",
       "      <th>1</th>\n",
       "      <td>Harvard College</td>\n",
       "      <td>Yes</td>\n",
       "      <td>2021</td>\n",
       "      <td>Harvard has adopted a one-year test optional p...</td>\n",
       "      <td>42749</td>\n",
       "      <td>0.047</td>\n",
       "      <td>1460-1580</td>\n",
       "      <td>33-35</td>\n",
       "      <td>1460.0</td>\n",
       "      <td>1580.0</td>\n",
       "      <td>33.0</td>\n",
       "      <td>35.0</td>\n",
       "    </tr>\n",
       "    <tr>\n",
       "      <th>2</th>\n",
       "      <td>Princeton University</td>\n",
       "      <td>Yes</td>\n",
       "      <td>2021</td>\n",
       "      <td>Princeton has adopted a one-year test optional...</td>\n",
       "      <td>35370</td>\n",
       "      <td>0.055</td>\n",
       "      <td>1440-1570</td>\n",
       "      <td>32-35</td>\n",
       "      <td>1440.0</td>\n",
       "      <td>1570.0</td>\n",
       "      <td>32.0</td>\n",
       "      <td>35.0</td>\n",
       "    </tr>\n",
       "    <tr>\n",
       "      <th>3</th>\n",
       "      <td>Columbia University</td>\n",
       "      <td>Yes</td>\n",
       "      <td>2021</td>\n",
       "      <td>Columbia has adopted a one-year test optional ...</td>\n",
       "      <td>40203</td>\n",
       "      <td>0.055</td>\n",
       "      <td>1450-1560</td>\n",
       "      <td>33-35</td>\n",
       "      <td>1450.0</td>\n",
       "      <td>1560.0</td>\n",
       "      <td>33.0</td>\n",
       "      <td>35.0</td>\n",
       "    </tr>\n",
       "    <tr>\n",
       "      <th>4</th>\n",
       "      <td>Yale University</td>\n",
       "      <td>Yes</td>\n",
       "      <td>2021</td>\n",
       "      <td>Yale has adopted a one-year test optional poli...</td>\n",
       "      <td>36844</td>\n",
       "      <td>0.061</td>\n",
       "      <td>1460-1570</td>\n",
       "      <td>33-35</td>\n",
       "      <td>1460.0</td>\n",
       "      <td>1570.0</td>\n",
       "      <td>33.0</td>\n",
       "      <td>35.0</td>\n",
       "    </tr>\n",
       "  </tbody>\n",
       "</table>\n",
       "</div>"
      ],
      "text/plain": [
       "                 school are_test_optional class_year  \\\n",
       "0   Stanford University               Yes       2021   \n",
       "1       Harvard College               Yes       2021   \n",
       "2  Princeton University               Yes       2021   \n",
       "3   Columbia University               Yes       2021   \n",
       "4       Yale University               Yes       2021   \n",
       "\n",
       "                                      policy_details  num_of_applicants  \\\n",
       "0  Stanford has adopted a one-year test optional ...              47452   \n",
       "1  Harvard has adopted a one-year test optional p...              42749   \n",
       "2  Princeton has adopted a one-year test optional...              35370   \n",
       "3  Columbia has adopted a one-year test optional ...              40203   \n",
       "4  Yale has adopted a one-year test optional poli...              36844   \n",
       "\n",
       "   acceptance_rate sat_middle_range act_middle_range  sat_25th_percentile  \\\n",
       "0            0.043        1440-1570            32-35               1440.0   \n",
       "1            0.047        1460-1580            33-35               1460.0   \n",
       "2            0.055        1440-1570            32-35               1440.0   \n",
       "3            0.055        1450-1560            33-35               1450.0   \n",
       "4            0.061        1460-1570            33-35               1460.0   \n",
       "\n",
       "   sat_75th_percentile  act_25th_percentile  act_75th_percentile  \n",
       "0               1570.0                 32.0                 35.0  \n",
       "1               1580.0                 33.0                 35.0  \n",
       "2               1570.0                 32.0                 35.0  \n",
       "3               1560.0                 33.0                 35.0  \n",
       "4               1570.0                 33.0                 35.0  "
      ]
     },
     "execution_count": 34,
     "metadata": {},
     "output_type": "execute_result"
    }
   ],
   "source": [
    "sat_act_by_college.sort_values(by='acceptance_rate', ascending=True).head()"
   ]
  },
  {
   "cell_type": "code",
   "execution_count": 35,
   "metadata": {},
   "outputs": [
    {
     "data": {
      "text/plain": [
       "school                 25\n",
       "are_test_optional      25\n",
       "class_year             25\n",
       "policy_details         25\n",
       "num_of_applicants      25\n",
       "acceptance_rate        25\n",
       "sat_middle_range       25\n",
       "act_middle_range       25\n",
       "sat_25th_percentile    25\n",
       "sat_75th_percentile    25\n",
       "act_25th_percentile    25\n",
       "act_75th_percentile    25\n",
       "dtype: int64"
      ]
     },
     "execution_count": 35,
     "metadata": {},
     "output_type": "execute_result"
    }
   ],
   "source": [
    "sat_act_by_college[sat_act_by_college[\"are_test_optional\"]==\"No\"].count()"
   ]
  },
  {
   "cell_type": "markdown",
   "metadata": {},
   "source": [
    "25 out of 405 colleges have test mandatory policies, which is only 6.17%"
   ]
  },
  {
   "cell_type": "code",
   "execution_count": 36,
   "metadata": {},
   "outputs": [
    {
     "data": {
      "text/html": [
       "<div>\n",
       "<style scoped>\n",
       "    .dataframe tbody tr th:only-of-type {\n",
       "        vertical-align: middle;\n",
       "    }\n",
       "\n",
       "    .dataframe tbody tr th {\n",
       "        vertical-align: top;\n",
       "    }\n",
       "\n",
       "    .dataframe thead th {\n",
       "        text-align: right;\n",
       "    }\n",
       "</style>\n",
       "<table border=\"1\" class=\"dataframe\">\n",
       "  <thead>\n",
       "    <tr style=\"text-align: right;\">\n",
       "      <th></th>\n",
       "      <th>school</th>\n",
       "      <th>are_test_optional</th>\n",
       "      <th>class_year</th>\n",
       "      <th>policy_details</th>\n",
       "      <th>num_of_applicants</th>\n",
       "      <th>acceptance_rate</th>\n",
       "      <th>sat_middle_range</th>\n",
       "      <th>act_middle_range</th>\n",
       "      <th>sat_25th_percentile</th>\n",
       "      <th>sat_75th_percentile</th>\n",
       "      <th>act_25th_percentile</th>\n",
       "      <th>act_75th_percentile</th>\n",
       "    </tr>\n",
       "  </thead>\n",
       "  <tbody>\n",
       "    <tr>\n",
       "      <th>24</th>\n",
       "      <td>University of California—​Los Angeles</td>\n",
       "      <td>Yes</td>\n",
       "      <td>2021 2022 2023 2024</td>\n",
       "      <td>The UC system has adopted a two-year test opti...</td>\n",
       "      <td>111322</td>\n",
       "      <td>0.123</td>\n",
       "      <td>1290-1510</td>\n",
       "      <td>27-34</td>\n",
       "      <td>1290.0</td>\n",
       "      <td>1510.0</td>\n",
       "      <td>27.0</td>\n",
       "      <td>34.0</td>\n",
       "    </tr>\n",
       "    <tr>\n",
       "      <th>72</th>\n",
       "      <td>University of California—​San Diego</td>\n",
       "      <td>Yes</td>\n",
       "      <td>2021 2022 2023 2024</td>\n",
       "      <td>The UC system has adopted a two-year test opti...</td>\n",
       "      <td>97901</td>\n",
       "      <td>0.302</td>\n",
       "      <td>1250-1470</td>\n",
       "      <td>26-33</td>\n",
       "      <td>1250.0</td>\n",
       "      <td>1470.0</td>\n",
       "      <td>26.0</td>\n",
       "      <td>33.0</td>\n",
       "    </tr>\n",
       "    <tr>\n",
       "      <th>69</th>\n",
       "      <td>University of California—​Santa Barbara</td>\n",
       "      <td>Yes</td>\n",
       "      <td>2021 2022 2023 2024</td>\n",
       "      <td>The UC system has adopted a two-year test opti...</td>\n",
       "      <td>93457</td>\n",
       "      <td>0.296</td>\n",
       "      <td>1260-1460</td>\n",
       "      <td>25-33</td>\n",
       "      <td>1260.0</td>\n",
       "      <td>1460.0</td>\n",
       "      <td>25.0</td>\n",
       "      <td>33.0</td>\n",
       "    </tr>\n",
       "    <tr>\n",
       "      <th>33</th>\n",
       "      <td>University of California—​Berkeley</td>\n",
       "      <td>Yes (TB)</td>\n",
       "      <td>2021 2022 2023 2024</td>\n",
       "      <td>Cal has adopted a four-year test blind policy ...</td>\n",
       "      <td>89621</td>\n",
       "      <td>0.148</td>\n",
       "      <td>1300-1530</td>\n",
       "      <td>28-34</td>\n",
       "      <td>1300.0</td>\n",
       "      <td>1530.0</td>\n",
       "      <td>28.0</td>\n",
       "      <td>34.0</td>\n",
       "    </tr>\n",
       "    <tr>\n",
       "      <th>40</th>\n",
       "      <td>New York University</td>\n",
       "      <td>Yes</td>\n",
       "      <td>2021</td>\n",
       "      <td>NYU has adopted a one-year test optional polic...</td>\n",
       "      <td>79462</td>\n",
       "      <td>0.162</td>\n",
       "      <td>1370-1510</td>\n",
       "      <td>30-34</td>\n",
       "      <td>1370.0</td>\n",
       "      <td>1510.0</td>\n",
       "      <td>30.0</td>\n",
       "      <td>34.0</td>\n",
       "    </tr>\n",
       "  </tbody>\n",
       "</table>\n",
       "</div>"
      ],
      "text/plain": [
       "                                     school are_test_optional  \\\n",
       "24    University of California—​Los Angeles               Yes   \n",
       "72      University of California—​San Diego               Yes   \n",
       "69  University of California—​Santa Barbara               Yes   \n",
       "33       University of California—​Berkeley          Yes (TB)   \n",
       "40                      New York University               Yes   \n",
       "\n",
       "             class_year                                     policy_details  \\\n",
       "24  2021 2022 2023 2024  The UC system has adopted a two-year test opti...   \n",
       "72  2021 2022 2023 2024  The UC system has adopted a two-year test opti...   \n",
       "69  2021 2022 2023 2024  The UC system has adopted a two-year test opti...   \n",
       "33  2021 2022 2023 2024  Cal has adopted a four-year test blind policy ...   \n",
       "40                 2021  NYU has adopted a one-year test optional polic...   \n",
       "\n",
       "    num_of_applicants  acceptance_rate sat_middle_range act_middle_range  \\\n",
       "24             111322            0.123        1290-1510            27-34   \n",
       "72              97901            0.302        1250-1470            26-33   \n",
       "69              93457            0.296        1260-1460            25-33   \n",
       "33              89621            0.148        1300-1530            28-34   \n",
       "40              79462            0.162        1370-1510            30-34   \n",
       "\n",
       "    sat_25th_percentile  sat_75th_percentile  act_25th_percentile  \\\n",
       "24               1290.0               1510.0                 27.0   \n",
       "72               1250.0               1470.0                 26.0   \n",
       "69               1260.0               1460.0                 25.0   \n",
       "33               1300.0               1530.0                 28.0   \n",
       "40               1370.0               1510.0                 30.0   \n",
       "\n",
       "    act_75th_percentile  \n",
       "24                 34.0  \n",
       "72                 33.0  \n",
       "69                 33.0  \n",
       "33                 34.0  \n",
       "40                 34.0  "
      ]
     },
     "execution_count": 36,
     "metadata": {},
     "output_type": "execute_result"
    }
   ],
   "source": [
    "sat_act_by_college.sort_values(by='num_of_applicants', ascending=False).head()"
   ]
  },
  {
   "cell_type": "markdown",
   "metadata": {},
   "source": [
    "The school with the most number of applicants is University of California—​Los Angeles and it has the lowest acceptance rate amongst the top 5 most popular schools. 4 out of 5 of the most popular schools are in California hence we infer it is a popular state for college study. "
   ]
  },
  {
   "cell_type": "markdown",
   "metadata": {},
   "source": [
    "## Visualize the Data\n",
    "\n",
    "There's not a magic bullet recommendation for the right number of plots to understand a given dataset, but visualizing your data is *always* a good idea. Not only does it allow you to quickly convey your findings (even if you have a non-technical audience), it will often reveal trends in your data that escaped you when you were looking only at numbers. It is important to not only create visualizations, but to **interpret your visualizations** as well.\n",
    "\n",
    "**Every plot should**:\n",
    "- Have a title\n",
    "- Have axis labels\n",
    "- Have appropriate tick labels\n",
    "- Text is legible in a plot\n",
    "- Plots demonstrate meaningful and valid relationships\n",
    "- Have an interpretation to aid understanding\n",
    "\n",
    "Here is an example of what your plots should look like following the above guidelines. Note that while the content of this example is unrelated, the principles of visualization hold:\n",
    "\n",
    "![](https://snag.gy/hCBR1U.jpg)\n",
    "*Interpretation: The above image shows that as we increase our spending on advertising, our sales numbers also tend to increase. There is a positive correlation between advertising spending and sales.*\n",
    "\n",
    "---\n",
    "\n",
    "Here are some prompts to get you started with visualizations. Feel free to add additional visualizations as you see fit:\n",
    "1. Use Seaborn's heatmap with pandas `.corr()` to visualize correlations between all numeric features.\n",
    "    - Heatmaps are generally not appropriate for presentations, and should often be excluded from reports as they can be visually overwhelming. **However**, they can be extremely useful in identify relationships of potential interest (as well as identifying potential collinearity before modeling).\n",
    "    - Please take time to format your output, adding a title. Look through some of the additional arguments and options. (Axis labels aren't really necessary, as long as the title is informative).\n",
    "2. Visualize distributions using histograms. If you have a lot, consider writing a custom function and use subplots.\n",
    "    - *OPTIONAL*: Summarize the underlying distributions of your features (in words & statistics)\n",
    "         - Be thorough in your verbal description of these distributions.\n",
    "         - Be sure to back up these summaries with statistics.\n",
    "         - We generally assume that data we sample from a population will be normally distributed. Do we observe this trend? Explain your answers for each distribution and how you think this will affect estimates made from these data.\n",
    "3. Plot and interpret boxplots. \n",
    "    - Boxplots demonstrate central tendency and spread in variables. In a certain sense, these are somewhat redundant with histograms, but you may be better able to identify clear outliers or differences in IQR, etc.\n",
    "    - Multiple values can be plotted to a single boxplot as long as they are of the same relative scale (meaning they have similar min/max values).\n",
    "    - Each boxplot should:\n",
    "        - Only include variables of a similar scale\n",
    "        - Have clear labels for each variable\n",
    "        - Have appropriate titles and labels\n",
    "4. Plot and interpret scatter plots to view relationships between features. Feel free to write a custom function, and subplot if you'd like. Functions save both time and space.\n",
    "    - Your plots should have:\n",
    "        - Two clearly labeled axes\n",
    "        - A proper title\n",
    "        - Colors and symbols that are clear and unmistakable\n",
    "5. Additional plots of your choosing.\n",
    "    - Are there any additional trends or relationships you haven't explored? Was there something interesting you saw that you'd like to dive further into? It's likely that there are a few more plots you might want to generate to support your narrative and recommendations that you are building toward. **As always, make sure you're interpreting your plots as you go**."
   ]
  },
  {
   "cell_type": "code",
   "execution_count": 37,
   "metadata": {},
   "outputs": [
    {
     "data": {
      "image/png": "[encoded data removed]",
      "text/plain": [
       "<Figure size 864x576 with 2 Axes>"
      ]
     },
     "metadata": {
      "needs_background": "light"
     },
     "output_type": "display_data"
    }
   ],
   "source": [
    "\n",
    "plt.figure(figsize=(12, 8))\n",
    "ax = plt.axes()\n",
    "sns.heatmap(sat_act_by_college.corr(),annot=True)\n",
    "\n",
    "ax.set_title('Heat map of SAT and ACT scores for college application')\n",
    "plt.show()\n"
   ]
  },
  {
   "cell_type": "markdown",
   "metadata": {},
   "source": [
    "**Scatter plot of sat_75th_percentile against acceptance_rate**"
   ]
  },
  {
   "cell_type": "code",
   "execution_count": 38,
   "metadata": {},
   "outputs": [
    {
     "data": {
      "text/plain": [
       "Text(0.5, 0, 'Acceptance rate')"
      ]
     },
     "execution_count": 38,
     "metadata": {},
     "output_type": "execute_result"
    },
    {
     "data": {
      "image/png": "[encoded data removed]",
      "text/plain": [
       "<Figure size 864x576 with 1 Axes>"
      ]
     },
     "metadata": {
      "needs_background": "light"
     },
     "output_type": "display_data"
    }
   ],
   "source": [
    "plt.figure(figsize=(12, 8))\n",
    "\n",
    "plt.scatter(sat_act_by_college[\"acceptance_rate\"], sat_act_by_college[\"sat_75th_percentile\"])\n",
    "plt.title('Acceptance Rate vs SAT 75th percentile', size=20)\n",
    "plt.ylabel('SAT 75th percentile score', size=15)\n",
    "plt.xlabel('Acceptance rate', size=15)\n"
   ]
  },
  {
   "cell_type": "markdown",
   "metadata": {},
   "source": [
    "The lower the acceptance rate, the higher the SAT 75th percentile score. The more selective and prestigious the college is (i.e. lower acceptance rate), the higher the SAT 75th percentile score. "
   ]
  },
  {
   "cell_type": "markdown",
   "metadata": {},
   "source": [
    "**Scatter plot of act_75th_percentile against acceptance_rate**"
   ]
  },
  {
   "cell_type": "code",
   "execution_count": 39,
   "metadata": {},
   "outputs": [
    {
     "data": {
      "text/plain": [
       "Text(0.5, 0, 'Acceptance rate')"
      ]
     },
     "execution_count": 39,
     "metadata": {},
     "output_type": "execute_result"
    },
    {
     "data": {
      "image/png": "[encoded data removed]",
      "text/plain": [
       "<Figure size 864x576 with 1 Axes>"
      ]
     },
     "metadata": {
      "needs_background": "light"
     },
     "output_type": "display_data"
    }
   ],
   "source": [
    "plt.figure(figsize=(12, 8))\n",
    "\n",
    "plt.scatter(sat_act_by_college[\"acceptance_rate\"], sat_act_by_college[\"act_75th_percentile\"])\n",
    "plt.title('Acceptance Rate vs ACT 75th percentile', size=20)\n",
    "plt.ylabel('ACT 75th percentile score', size=15)\n",
    "plt.xlabel('Acceptance rate', size=15)\n"
   ]
  },
  {
   "cell_type": "markdown",
   "metadata": {},
   "source": [
    "Similar to the SAT scores, we see a negative correlation between ACT 75th percentile score and acceptance rate. Hence, students should target a high score for both SAT and ACT to enter top schools with low acceptance rates."
   ]
  },
  {
   "cell_type": "code",
   "execution_count": 40,
   "metadata": {},
   "outputs": [
    {
     "data": {
      "text/plain": [
       "Text(0.5, 1.0, 'Intended college majors and total SAT score')"
      ]
     },
     "execution_count": 40,
     "metadata": {},
     "output_type": "execute_result"
    },
    {
     "data": {
      "image/png": "[encoded data removed]",
      "text/plain": [
       "<Figure size 864x576 with 1 Axes>"
      ]
     },
     "metadata": {
      "needs_background": "light"
     },
     "output_type": "display_data"
    }
   ],
   "source": [
    "test = sat_college_major[['intended_college_major','total_score']].sort_values('total_score', ascending=False)\n",
    "test = test.head(10).sort_values('total_score',ascending=True)\n",
    "\n",
    "plt.figure(figsize=(12, 8))\n",
    "plt.barh('intended_college_major', 'total_score',data=test)\n",
    "plt.xlabel(\"Total SAT score\", size=15)\n",
    "plt.ylabel(\"Intended college majors\", size=15)\n",
    "plt.title(\"Intended college majors and total SAT score\", size=20)"
   ]
  },
  {
   "cell_type": "code",
   "execution_count": 41,
   "metadata": {},
   "outputs": [
    {
     "data": {
      "image/png": "[encoded data removed]",
      "text/plain": [
       "<Figure size 864x576 with 1 Axes>"
      ]
     },
     "metadata": {
      "needs_background": "light"
     },
     "output_type": "display_data"
    }
   ],
   "source": [
    "plt.figure(figsize=(12, 8))\n",
    "\n",
    "top_15_schools = sat_act_by_college.head(15) #by acceptance rate\n",
    "sorted_top_15_schools = top_15_schools.sort_values(by='acceptance_rate',ascending=False)\n",
    "\n",
    "t11 = sorted_top_15_schools['school']\n",
    "t10 = sorted_top_15_schools['sat_25th_percentile']\n",
    "t12 = sorted_top_15_schools['sat_75th_percentile']\n",
    "\n",
    "plt.barh(range(len(t12)),width=[h-b for h, b in zip(t12, t10)], left=t10, align='center')\n",
    "plt.yticks(range(len(t11)), t11, size='small', rotation=0\n",
    "          )    \n",
    "plt.xlabel(\"SAT score\", size=15)\n",
    "plt.ylabel(\"School\", size=15)\n",
    "plt.title(\"SAT 25th to 75th percentile by school\", size=20)\n",
    "\n",
    "plt.show()"
   ]
  },
  {
   "cell_type": "code",
   "execution_count": 42,
   "metadata": {},
   "outputs": [
    {
     "data": {
      "image/png": "[encoded data removed]",
      "text/plain": [
       "<Figure size 864x576 with 1 Axes>"
      ]
     },
     "metadata": {
      "needs_background": "light"
     },
     "output_type": "display_data"
    }
   ],
   "source": [
    "plt.figure(figsize=(12, 8))\n",
    "\n",
    "top_15_schools = sat_act_by_college.head(15) #by acceptance rate\n",
    "sorted_top_15_schools = top_15_schools.sort_values(by='acceptance_rate',ascending=False)\n",
    "\n",
    "t21 = sorted_top_15_schools['school']\n",
    "t20 = sorted_top_15_schools['act_25th_percentile']\n",
    "t22 = sorted_top_15_schools['act_75th_percentile']\n",
    "\n",
    "plt.barh(range(len(t22)),width=[h-b for h, b in zip(t22, t20)], left=t20, align='center')\n",
    "plt.yticks(range(len(t21)), t21, size='small', rotation=0\n",
    "          )    \n",
    "plt.xlabel(\"ACT score\", size=15)\n",
    "plt.ylabel(\"School\", size=15)\n",
    "plt.title(\"ACT 25th to 75th percentile by school\", size=20)\n",
    "\n",
    "plt.show()"
   ]
  },
  {
   "cell_type": "markdown",
   "metadata": {},
   "source": [
    "## Conclusions and Recommendations"
   ]
  },
  {
   "cell_type": "markdown",
   "metadata": {},
   "source": [
    "Most colleges and universities have adopted test-optional policies and only around 6% of schools have mandatory SAT and ACT scores requirements.\n",
    "\n",
    "However, SAT and ACT scores still play an important role for college admissions especially for top schools with very low acceptance rates and for popular STEM related majors. There is a strong negative correlation between the college acceptance rate and SAT and ACT scores i.e. the lower the college acceptance rate, the higher the SAT and ACT scores of students.\n",
    "\n",
    "It might be beneficial for students to take the tests and then decide whether to submit their scores by comparing against that the score range of the school.\n",
    "\n",
    "Students should target for the 75th percentile of the SAT and ACT score of the school which they wish to enter for higher chances of college acceptance."
   ]
  },
  {
   "cell_type": "markdown",
   "metadata": {},
   "source": [
    "Don't forget to create your README!\n",
    "\n",
    "**To-Do:** *If you combine your problem statement, data dictionary, brief summary of your analysis, and conclusions/recommendations, you have an amazing README.md file that quickly aligns your audience to the contents of your project.* Don't forget to cite your data sources!"
   ]
  }
 ],
 "metadata": {
  "anaconda-cloud": {},
  "kernelspec": {
   "display_name": "Python 3 (ipykernel)",
   "language": "python",
   "name": "python3"
  },
  "language_info": {
   "codemirror_mode": {
    "name": "ipython",
    "version": 3
   },
   "file_extension": ".py",
   "mimetype": "text/x-python",
   "name": "python",
   "nbconvert_exporter": "python",
   "pygments_lexer": "ipython3",
   "version": "3.9.7"
  }
 },
 "nbformat": 4,
 "nbformat_minor": 4
}
