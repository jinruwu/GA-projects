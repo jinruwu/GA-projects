{
 "cells": [
  {
   "cell_type": "markdown",
   "id": "bc6a9077",
   "metadata": {},
   "source": [
    "<img src=\"http://imgur.com/1ZcRyrc.png\" style=\"float: left; margin: 20px; height: 55px\">\n",
    "\n",
    "\n",
    "# Project 4: West Nile Virus Prediction"
   ]
  },
  {
   "cell_type": "markdown",
   "id": "335e27c7",
   "metadata": {},
   "source": [
    "---\n",
    "## Problem Statement\n",
    "Due to the recent epidemic of West Nile Virus in the Windy City, the Department of Public Health has set up a surveillance and control system in hope to learn something from the mosquito population. In order to curb the epidemic, pesticides will have to be deployed through the city. A more accurate method of predicting outbreaks of West Nile virus in mosquitos will help the City of Chicago and CPHD more efficiently and effectively allocate resources towards preventing transmission of this potentially deadly virus. \n",
    "\n",
    "The Department of Public Health has engaged us, an independent Data Science company, to derive an effective plan using data science methods to deploy these pesiticides. We would have to make recommendations on where pesticides should be sprayed and the cost vs benefit of deploying these pesticides."
   ]
  },
  {
   "cell_type": "markdown",
   "id": "32014dca",
   "metadata": {},
   "source": [
    "## Contents:\n",
    "\n",
    "- [Background](#Background)\n",
    "- [Datasets Used](#Datasets-Used)\n",
    "- [Data Dictionaries](#Data-Dictionaries)\n",
    "- [Data Import & Data Cleaning](#Data-Import-&-Data-Cleaning)\n",
    "- [Exploratory Data Analysis](#Exploratory-Data-Analysis)\n",
    "- [Feature Engineering](#Feature-Engineering)\n",
    "- [Modelling](#Modelling)\n",
    "- [Feature Importances](#Feature-Importances)\n",
    "- [Feature Importances](#Feature-Importances)\n",
    "- [Kaggle Submission](#Kaggle-Submission)\n",
    "- [Cost Benefit Analysis](#Cost-Benefit-Analysis)\n",
    "- [Conclusion and Recommendations](#Conclusion-and-Recommendations)"
   ]
  },
  {
   "cell_type": "markdown",
   "id": "ce06ed68",
   "metadata": {},
   "source": [
    "## Background"
   ]
  },
  {
   "cell_type": "markdown",
   "id": "7986fd42",
   "metadata": {},
   "source": [
    "West Nile virus is most commonly spread to humans through infected mosquitos. Around 20% of people who become infected with the virus develop symptoms ranging from a persistent fever, to serious neurological illnesses that can result in death.\n",
    "\n",
    "In 2002, the first human cases of West Nile virus were reported in Chicago. By 2004 the City of Chicago and the Chicago Department of Public Health (CDPH) had established a comprehensive surveillance and control program that is still in effect today.\n",
    "\n",
    "Every week from late spring through the fall, mosquitos in traps across the city are tested for the virus. The results of these tests influence when and where the city will spray airborne pesticides to control adult mosquito populations."
   ]
  },
  {
   "cell_type": "markdown",
   "id": "5d4166c2",
   "metadata": {},
   "source": [
    "## Datasets Used"
   ]
  },
  {
   "cell_type": "markdown",
   "id": "c0cd6ea4",
   "metadata": {},
   "source": [
    "For the purpose of the analysis, we are provided with the `train`, `test`, `spray` and `weather` datasets. \n",
    "\n",
    "The `train` dataset consists of data from 2007, 2009, 2011 and 2013. We will be using this dataset for model building purposes. The `test` dataset consists of data from 2008, 2010, 2012 and 2014. We will be predicting the mosquito population information using this dataset. \n",
    "\n",
    "The `spray` dataset consists of Geographic Information Mapping (GIS) data for the spray efforts in 2011 and 2013. Spraying can reduce the number of mosquitos in the area, and therefore might eliminate the appearance of West Nile virus. \n",
    "\n",
    "The `weather` dataset consists of weather conditions of 2007 to 2014, during the months of the tests. It is believed that hot and dry conditions are more favorable for West Nile virus than cold and wet. \n",
    "\n",
    "Please refer to data dictionaries below for the full infomation found in the datasets."
   ]
  },
  {
   "cell_type": "markdown",
   "id": "dc416291",
   "metadata": {},
   "source": [
    "## Data Dictionaries"
   ]
  },
  {
   "cell_type": "markdown",
   "id": "30bdc9d4",
   "metadata": {},
   "source": [
    "Three main datasets were used in this project. The data dictionaries of the datasets can be found below.\n",
    "\n",
    "<br>**Dataset name: `train`**\n",
    "<br>This dataset contains data from 2007, 2009, 2011, and 2013.\n",
    "\n",
    "| Feature | Type | Dataset | Description |\n",
    "|:--|:-:|:-:|:--|\n",
    "|date|datetime|train| Date that the WNV test is performed.|\n",
    "|address|string|train| Approximate address of the location of trap. This is used to send to the GeoCoder. |\n",
    "|species|string|train| The species of mosquitos.|\n",
    "|block|integer|train| Block number of address.|\n",
    "|street|string|train| Street name.|\n",
    "|trap|string|train| Id of the trap.|\n",
    "|addressnumberandstreet|string|train| Approximate address returned from GeoCoder.|\n",
    "|latitude|float|train| Latitude returned from GeoCoder.|\n",
    "|longitude|float|train| Longitude returned from GeoCoder.|\n",
    "|addressaccuracy|integer|train| Accuracy returned from GeoCoder.|\n",
    "|nummosquitos|integer|train| Number of mosquitoes caught in this trap.|\n",
    "|wnvpresent|integer|train| Whether West Nile Virus was present in these mosquitos. 1 means WNV is present, and 0 means not present.|\n",
    "\n",
    "<br>**Dataset name: `test`**\n",
    "<br>This dataset contains data from 2007, 2009, 2011, and 2013.\n",
    "\n",
    "| Feature | Type | Dataset | Description |\n",
    "|:--|:-:|:-:|:--|\n",
    "|id|string|test| The id of the record.|\n",
    "|date|datetime|test| Date that the WNV test is performed.|\n",
    "|address|string|test| Approximate address of the location of trap. This is used to send to the GeoCoder. |\n",
    "|species|string|test| The species of mosquitos.|\n",
    "|block|integer|test| Block number of address.|\n",
    "|street|string|test| Street name.|\n",
    "|trap|string|test| Id of the trap.|\n",
    "|addressnumberandstreet|*string*|test| Approximate address returned from GeoCoder.|\n",
    "|latitude|float|test| Latitude returned from GeoCoder.|\n",
    "|longitude|float|test| Longitude returned from GeoCoder.|\n",
    "|addressaccuracy|integer|test| Accuracy returned from GeoCoder.|\n",
    "\n",
    "<br>**Dataset name: `spray`**\n",
    "<br>This dataset contains the GIS data of spraying efforts in 2011 and 2013.\n",
    "\n",
    "| Feature | Type | Dataset | Description |\n",
    "|:--|:-:|:-:|:--|\n",
    "|date|datetime|spray|The date and time of the spray.|\n",
    "|time|string|spray|The date and time of the spray.|\n",
    "|Latitude|string|spray|The Latitude of the spray.|\n",
    "|Longitude|string|spray|The Longitude of the spray.|\n",
    "\n",
    "\n",
    "<br>**Dataset name: `weather`**\n",
    "<br>This dataset contains the weather data from 2007 to 2014.\n",
    "\n",
    "| Feature | Type | Dataset | Description |\n",
    "|:--|:-:|:-:|:--|\n",
    "|station|integer|weather|Station ID.|\n",
    "|date|datetime|weather|Date of the weather data.|\n",
    "|tmax|integer|weather|Maximum temperature in Degrees Fahrenheit.|\n",
    "|tmin|integer|weather|Minimum temperature in Degrees Fahrenheit.|\n",
    "|tavg|integer|weather|Average temperature in Degrees Fahrenheit.|\n",
    "|depart|integer|weather|Departure from normal temperature in Degrees Fahrenheit.|\n",
    "|dewpoint|integer|weather|Average dew point in Degrees Fahrenheit.|\n",
    "|wetbulb|integer|weather|Average wet bulb in Degrees Fahrenheit.|\n",
    "|heat|integer|weather|Absolute temperature difference of average temperature (Tavg) from base 65 deg Fahrenheit for Tavg >=65|\n",
    "|cool|integer|weather|Absolute temperature difference of average temperature (Tavg) from base 65 deg Fahrenheit for Tavg <=65|\n",
    "|sunrise|string|weather|Sunrise timing in 24H format. (Calculated, not observed)|\n",
    "|sunset|string|weather|Sunset timing in 24H format. (Calculated, not observed)|\n",
    "|codesum|string|weather|Significant weather types.|\n",
    "|depth|integer|weather|Snowfall in inches.|\n",
    "|water1|integer|weather|Amount of water equivalent from melted snow.|\n",
    "|snowfall|float|weather|Snowfall in precipitation.|\n",
    "|preciptotal|float|weather|Water equivalent(Inches & Hundredths(2400 Local Standard Time). Rainfall & melted snow.|\n",
    "|stnpressure|float|weather|Average station pressure. Inches of HG.|\n",
    "|sealevel|float|weather|Average sea level pressure. Inches of HG.|\n",
    "|resultspeed|float|weather|Resultant wind speed. Speed in miles per hour.|\n",
    "|resultdir|float|weather|Resultant wind direction. To tens of degrees. Whole degrees.|\n",
    "|avgspeed|float|weather|Average wind speed. Speed in miles per hour.|"
   ]
  },
  {
   "cell_type": "markdown",
   "id": "e24b148c",
   "metadata": {},
   "source": [
    "## Data Import & Data Cleaning"
   ]
  },
  {
   "cell_type": "markdown",
   "id": "8fa0d717",
   "metadata": {},
   "source": [
    "Please refer to Project 4 Part 1 - Data Cleaning."
   ]
  },
  {
   "cell_type": "markdown",
   "id": "aa767e31",
   "metadata": {},
   "source": [
    "## Exploratory Data Analysis"
   ]
  },
  {
   "cell_type": "markdown",
   "id": "355bf84f",
   "metadata": {},
   "source": [
    "Please refer to Project 4 Part 2 - EDA."
   ]
  },
  {
   "cell_type": "markdown",
   "id": "7ff88236",
   "metadata": {},
   "source": [
    "## Feature Engineering"
   ]
  },
  {
   "cell_type": "markdown",
   "id": "1ca0ac48",
   "metadata": {},
   "source": [
    "Please refer to Project 4 Part 3 - Feature Engineering."
   ]
  },
  {
   "cell_type": "markdown",
   "id": "b1a04c8b",
   "metadata": {},
   "source": [
    "## Modelling"
   ]
  },
  {
   "cell_type": "markdown",
   "id": "2c60d1a1",
   "metadata": {},
   "source": [
    "### Importing the necessary libraries and packages."
   ]
  },
  {
   "cell_type": "code",
   "execution_count": 1,
   "id": "99fa8557",
   "metadata": {},
   "outputs": [],
   "source": [
    "import pandas as pd\n",
    "import numpy as np\n",
    "import matplotlib.pyplot as plt\n",
    "import seaborn as sns\n",
    "\n",
    "from sklearn.model_selection import train_test_split, cross_val_score, cross_val_predict\n",
    "from sklearn.linear_model import LogisticRegression\n",
    "from sklearn.neighbors import KNeighborsClassifier\n",
    "from sklearn.preprocessing import StandardScaler\n",
    "from sklearn.metrics import confusion_matrix, plot_confusion_matrix, accuracy_score, plot_roc_curve, roc_auc_score, recall_score, precision_score, f1_score\n",
    "from sklearn.pipeline import Pipeline\n",
    "from sklearn.model_selection import GridSearchCV\n",
    "from sklearn.ensemble import RandomForestClassifier,AdaBoostClassifier,GradientBoostingClassifier\n",
    "from sklearn.svm import SVC\n",
    "\n",
    "from imblearn.over_sampling import SMOTE\n",
    "\n",
    "# Ignore warnings\n",
    "import warnings\n",
    "warnings.filterwarnings(\"ignore\")"
   ]
  },
  {
   "cell_type": "code",
   "execution_count": 2,
   "id": "223e701c",
   "metadata": {},
   "outputs": [],
   "source": [
    "pd.options.display.max_columns = None\n",
    "pd.options.display.max_rows = None"
   ]
  },
  {
   "cell_type": "code",
   "execution_count": 3,
   "id": "cb4a231e",
   "metadata": {},
   "outputs": [],
   "source": [
    "# Load datasets\n",
    "final_train_df = pd.read_csv('../dataset/final_train.csv')\n",
    "final_test_df = pd.read_csv('../dataset/final_test.csv')"
   ]
  },
  {
   "cell_type": "code",
   "execution_count": 4,
   "id": "64e28dc9",
   "metadata": {},
   "outputs": [
    {
     "data": {
      "text/html": [
       "<div>\n",
       "<style scoped>\n",
       "    .dataframe tbody tr th:only-of-type {\n",
       "        vertical-align: middle;\n",
       "    }\n",
       "\n",
       "    .dataframe tbody tr th {\n",
       "        vertical-align: top;\n",
       "    }\n",
       "\n",
       "    .dataframe thead th {\n",
       "        text-align: right;\n",
       "    }\n",
       "</style>\n",
       "<table border=\"1\" class=\"dataframe\">\n",
       "  <thead>\n",
       "    <tr style=\"text-align: right;\">\n",
       "      <th></th>\n",
       "      <th>wnvpresent</th>\n",
       "      <th>sunrise_wetbulb</th>\n",
       "      <th>sunrise_weekavgtemp</th>\n",
       "      <th>rainlag2</th>\n",
       "      <th>species</th>\n",
       "      <th>templag3</th>\n",
       "      <th>dewpoint</th>\n",
       "      <th>wetbulb</th>\n",
       "      <th>week_weekavgtemp</th>\n",
       "      <th>weekpreciptotal</th>\n",
       "      <th>tmin</th>\n",
       "      <th>tavg</th>\n",
       "      <th>r_humid</th>\n",
       "      <th>templag2</th>\n",
       "      <th>cool</th>\n",
       "      <th>sunrise</th>\n",
       "      <th>weekavgtemp</th>\n",
       "      <th>templag1</th>\n",
       "      <th>month</th>\n",
       "      <th>templag4</th>\n",
       "      <th>heat</th>\n",
       "      <th>humidlag3</th>\n",
       "      <th>resultspeed</th>\n",
       "      <th>humidlag1</th>\n",
       "      <th>tmax</th>\n",
       "      <th>week</th>\n",
       "      <th>depart</th>\n",
       "      <th>trap_T143</th>\n",
       "      <th>longitude</th>\n",
       "      <th>rainlag4</th>\n",
       "      <th>trap_T233</th>\n",
       "      <th>avgspeed</th>\n",
       "      <th>trap_T006</th>\n",
       "      <th>trap_T014</th>\n",
       "      <th>sunset</th>\n",
       "      <th>trap_T016</th>\n",
       "      <th>trap_T003</th>\n",
       "      <th>trap_T086</th>\n",
       "      <th>resultdir</th>\n",
       "      <th>rainlag3</th>\n",
       "    </tr>\n",
       "  </thead>\n",
       "  <tbody>\n",
       "    <tr>\n",
       "      <th>0</th>\n",
       "      <td>0</td>\n",
       "      <td>27365</td>\n",
       "      <td>30372.142857</td>\n",
       "      <td>0.59</td>\n",
       "      <td>2.0</td>\n",
       "      <td>63.428571</td>\n",
       "      <td>58</td>\n",
       "      <td>65</td>\n",
       "      <td>1587.142857</td>\n",
       "      <td>0.4</td>\n",
       "      <td>60</td>\n",
       "      <td>74</td>\n",
       "      <td>57</td>\n",
       "      <td>61.571429</td>\n",
       "      <td>9</td>\n",
       "      <td>421</td>\n",
       "      <td>72.142857</td>\n",
       "      <td>67.142857</td>\n",
       "      <td>5</td>\n",
       "      <td>58.5</td>\n",
       "      <td>0</td>\n",
       "      <td>41.0</td>\n",
       "      <td>5.8</td>\n",
       "      <td>65.0</td>\n",
       "      <td>88</td>\n",
       "      <td>22</td>\n",
       "      <td>10</td>\n",
       "      <td>0</td>\n",
       "      <td>-87.800991</td>\n",
       "      <td>0.3</td>\n",
       "      <td>0</td>\n",
       "      <td>6.5</td>\n",
       "      <td>0</td>\n",
       "      <td>0</td>\n",
       "      <td>1917</td>\n",
       "      <td>0</td>\n",
       "      <td>0</td>\n",
       "      <td>0</td>\n",
       "      <td>18</td>\n",
       "      <td>0.28</td>\n",
       "    </tr>\n",
       "    <tr>\n",
       "      <th>1</th>\n",
       "      <td>0</td>\n",
       "      <td>27365</td>\n",
       "      <td>30372.142857</td>\n",
       "      <td>0.59</td>\n",
       "      <td>1.0</td>\n",
       "      <td>63.428571</td>\n",
       "      <td>58</td>\n",
       "      <td>65</td>\n",
       "      <td>1587.142857</td>\n",
       "      <td>0.4</td>\n",
       "      <td>60</td>\n",
       "      <td>74</td>\n",
       "      <td>57</td>\n",
       "      <td>61.571429</td>\n",
       "      <td>9</td>\n",
       "      <td>421</td>\n",
       "      <td>72.142857</td>\n",
       "      <td>67.142857</td>\n",
       "      <td>5</td>\n",
       "      <td>58.5</td>\n",
       "      <td>0</td>\n",
       "      <td>41.0</td>\n",
       "      <td>5.8</td>\n",
       "      <td>65.0</td>\n",
       "      <td>88</td>\n",
       "      <td>22</td>\n",
       "      <td>10</td>\n",
       "      <td>0</td>\n",
       "      <td>-87.800991</td>\n",
       "      <td>0.3</td>\n",
       "      <td>0</td>\n",
       "      <td>6.5</td>\n",
       "      <td>0</td>\n",
       "      <td>0</td>\n",
       "      <td>1917</td>\n",
       "      <td>0</td>\n",
       "      <td>0</td>\n",
       "      <td>0</td>\n",
       "      <td>18</td>\n",
       "      <td>0.28</td>\n",
       "    </tr>\n",
       "    <tr>\n",
       "      <th>2</th>\n",
       "      <td>0</td>\n",
       "      <td>27365</td>\n",
       "      <td>30372.142857</td>\n",
       "      <td>0.59</td>\n",
       "      <td>1.0</td>\n",
       "      <td>63.428571</td>\n",
       "      <td>58</td>\n",
       "      <td>65</td>\n",
       "      <td>1587.142857</td>\n",
       "      <td>0.4</td>\n",
       "      <td>60</td>\n",
       "      <td>74</td>\n",
       "      <td>57</td>\n",
       "      <td>61.571429</td>\n",
       "      <td>9</td>\n",
       "      <td>421</td>\n",
       "      <td>72.142857</td>\n",
       "      <td>67.142857</td>\n",
       "      <td>5</td>\n",
       "      <td>58.5</td>\n",
       "      <td>0</td>\n",
       "      <td>41.0</td>\n",
       "      <td>5.8</td>\n",
       "      <td>65.0</td>\n",
       "      <td>88</td>\n",
       "      <td>22</td>\n",
       "      <td>10</td>\n",
       "      <td>0</td>\n",
       "      <td>-87.769279</td>\n",
       "      <td>0.3</td>\n",
       "      <td>0</td>\n",
       "      <td>6.5</td>\n",
       "      <td>0</td>\n",
       "      <td>0</td>\n",
       "      <td>1917</td>\n",
       "      <td>0</td>\n",
       "      <td>0</td>\n",
       "      <td>0</td>\n",
       "      <td>18</td>\n",
       "      <td>0.28</td>\n",
       "    </tr>\n",
       "    <tr>\n",
       "      <th>3</th>\n",
       "      <td>0</td>\n",
       "      <td>27365</td>\n",
       "      <td>30372.142857</td>\n",
       "      <td>0.59</td>\n",
       "      <td>2.0</td>\n",
       "      <td>63.428571</td>\n",
       "      <td>58</td>\n",
       "      <td>65</td>\n",
       "      <td>1587.142857</td>\n",
       "      <td>0.4</td>\n",
       "      <td>60</td>\n",
       "      <td>74</td>\n",
       "      <td>57</td>\n",
       "      <td>61.571429</td>\n",
       "      <td>9</td>\n",
       "      <td>421</td>\n",
       "      <td>72.142857</td>\n",
       "      <td>67.142857</td>\n",
       "      <td>5</td>\n",
       "      <td>58.5</td>\n",
       "      <td>0</td>\n",
       "      <td>41.0</td>\n",
       "      <td>5.8</td>\n",
       "      <td>65.0</td>\n",
       "      <td>88</td>\n",
       "      <td>22</td>\n",
       "      <td>10</td>\n",
       "      <td>0</td>\n",
       "      <td>-87.824812</td>\n",
       "      <td>0.3</td>\n",
       "      <td>0</td>\n",
       "      <td>6.5</td>\n",
       "      <td>0</td>\n",
       "      <td>0</td>\n",
       "      <td>1917</td>\n",
       "      <td>0</td>\n",
       "      <td>0</td>\n",
       "      <td>0</td>\n",
       "      <td>18</td>\n",
       "      <td>0.28</td>\n",
       "    </tr>\n",
       "    <tr>\n",
       "      <th>4</th>\n",
       "      <td>0</td>\n",
       "      <td>27365</td>\n",
       "      <td>30372.142857</td>\n",
       "      <td>0.59</td>\n",
       "      <td>1.0</td>\n",
       "      <td>63.428571</td>\n",
       "      <td>58</td>\n",
       "      <td>65</td>\n",
       "      <td>1587.142857</td>\n",
       "      <td>0.4</td>\n",
       "      <td>60</td>\n",
       "      <td>74</td>\n",
       "      <td>57</td>\n",
       "      <td>61.571429</td>\n",
       "      <td>9</td>\n",
       "      <td>421</td>\n",
       "      <td>72.142857</td>\n",
       "      <td>67.142857</td>\n",
       "      <td>5</td>\n",
       "      <td>58.5</td>\n",
       "      <td>0</td>\n",
       "      <td>41.0</td>\n",
       "      <td>5.8</td>\n",
       "      <td>65.0</td>\n",
       "      <td>88</td>\n",
       "      <td>22</td>\n",
       "      <td>10</td>\n",
       "      <td>0</td>\n",
       "      <td>-87.824812</td>\n",
       "      <td>0.3</td>\n",
       "      <td>0</td>\n",
       "      <td>6.5</td>\n",
       "      <td>0</td>\n",
       "      <td>0</td>\n",
       "      <td>1917</td>\n",
       "      <td>0</td>\n",
       "      <td>0</td>\n",
       "      <td>0</td>\n",
       "      <td>18</td>\n",
       "      <td>0.28</td>\n",
       "    </tr>\n",
       "  </tbody>\n",
       "</table>\n",
       "</div>"
      ],
      "text/plain": [
       "   wnvpresent  sunrise_wetbulb  sunrise_weekavgtemp  rainlag2  species  \\\n",
       "0           0            27365         30372.142857      0.59      2.0   \n",
       "1           0            27365         30372.142857      0.59      1.0   \n",
       "2           0            27365         30372.142857      0.59      1.0   \n",
       "3           0            27365         30372.142857      0.59      2.0   \n",
       "4           0            27365         30372.142857      0.59      1.0   \n",
       "\n",
       "    templag3  dewpoint  wetbulb  week_weekavgtemp  weekpreciptotal  tmin  \\\n",
       "0  63.428571        58       65       1587.142857              0.4    60   \n",
       "1  63.428571        58       65       1587.142857              0.4    60   \n",
       "2  63.428571        58       65       1587.142857              0.4    60   \n",
       "3  63.428571        58       65       1587.142857              0.4    60   \n",
       "4  63.428571        58       65       1587.142857              0.4    60   \n",
       "\n",
       "   tavg  r_humid   templag2  cool  sunrise  weekavgtemp   templag1  month  \\\n",
       "0    74       57  61.571429     9      421    72.142857  67.142857      5   \n",
       "1    74       57  61.571429     9      421    72.142857  67.142857      5   \n",
       "2    74       57  61.571429     9      421    72.142857  67.142857      5   \n",
       "3    74       57  61.571429     9      421    72.142857  67.142857      5   \n",
       "4    74       57  61.571429     9      421    72.142857  67.142857      5   \n",
       "\n",
       "   templag4  heat  humidlag3  resultspeed  humidlag1  tmax  week  depart  \\\n",
       "0      58.5     0       41.0          5.8       65.0    88    22      10   \n",
       "1      58.5     0       41.0          5.8       65.0    88    22      10   \n",
       "2      58.5     0       41.0          5.8       65.0    88    22      10   \n",
       "3      58.5     0       41.0          5.8       65.0    88    22      10   \n",
       "4      58.5     0       41.0          5.8       65.0    88    22      10   \n",
       "\n",
       "   trap_T143  longitude  rainlag4  trap_T233  avgspeed  trap_T006  trap_T014  \\\n",
       "0          0 -87.800991       0.3          0       6.5          0          0   \n",
       "1          0 -87.800991       0.3          0       6.5          0          0   \n",
       "2          0 -87.769279       0.3          0       6.5          0          0   \n",
       "3          0 -87.824812       0.3          0       6.5          0          0   \n",
       "4          0 -87.824812       0.3          0       6.5          0          0   \n",
       "\n",
       "   sunset  trap_T016  trap_T003  trap_T086  resultdir  rainlag3  \n",
       "0    1917          0          0          0         18      0.28  \n",
       "1    1917          0          0          0         18      0.28  \n",
       "2    1917          0          0          0         18      0.28  \n",
       "3    1917          0          0          0         18      0.28  \n",
       "4    1917          0          0          0         18      0.28  "
      ]
     },
     "execution_count": 4,
     "metadata": {},
     "output_type": "execute_result"
    }
   ],
   "source": [
    "final_train_df.head()"
   ]
  },
  {
   "cell_type": "code",
   "execution_count": 5,
   "id": "2e583540",
   "metadata": {},
   "outputs": [
    {
     "name": "stdout",
     "output_type": "stream",
     "text": [
      "<class 'pandas.core.frame.DataFrame'>\n",
      "RangeIndex: 7824 entries, 0 to 7823\n",
      "Data columns (total 40 columns):\n",
      " #   Column               Non-Null Count  Dtype  \n",
      "---  ------               --------------  -----  \n",
      " 0   wnvpresent           7824 non-null   int64  \n",
      " 1   sunrise_wetbulb      7824 non-null   int64  \n",
      " 2   sunrise_weekavgtemp  7824 non-null   float64\n",
      " 3   rainlag2             7824 non-null   float64\n",
      " 4   species              7824 non-null   float64\n",
      " 5   templag3             7824 non-null   float64\n",
      " 6   dewpoint             7824 non-null   int64  \n",
      " 7   wetbulb              7824 non-null   int64  \n",
      " 8   week_weekavgtemp     7824 non-null   float64\n",
      " 9   weekpreciptotal      7824 non-null   float64\n",
      " 10  tmin                 7824 non-null   int64  \n",
      " 11  tavg                 7824 non-null   int64  \n",
      " 12  r_humid              7824 non-null   int64  \n",
      " 13  templag2             7824 non-null   float64\n",
      " 14  cool                 7824 non-null   int64  \n",
      " 15  sunrise              7824 non-null   int64  \n",
      " 16  weekavgtemp          7824 non-null   float64\n",
      " 17  templag1             7824 non-null   float64\n",
      " 18  month                7824 non-null   int64  \n",
      " 19  templag4             7824 non-null   float64\n",
      " 20  heat                 7824 non-null   int64  \n",
      " 21  humidlag3            7824 non-null   float64\n",
      " 22  resultspeed          7824 non-null   float64\n",
      " 23  humidlag1            7824 non-null   float64\n",
      " 24  tmax                 7824 non-null   int64  \n",
      " 25  week                 7824 non-null   int64  \n",
      " 26  depart               7824 non-null   int64  \n",
      " 27  trap_T143            7824 non-null   int64  \n",
      " 28  longitude            7824 non-null   float64\n",
      " 29  rainlag4             7824 non-null   float64\n",
      " 30  trap_T233            7824 non-null   int64  \n",
      " 31  avgspeed             7824 non-null   float64\n",
      " 32  trap_T006            7824 non-null   int64  \n",
      " 33  trap_T014            7824 non-null   int64  \n",
      " 34  sunset               7824 non-null   int64  \n",
      " 35  trap_T016            7824 non-null   int64  \n",
      " 36  trap_T003            7824 non-null   int64  \n",
      " 37  trap_T086            7824 non-null   int64  \n",
      " 38  resultdir            7824 non-null   int64  \n",
      " 39  rainlag3             7824 non-null   float64\n",
      "dtypes: float64(17), int64(23)\n",
      "memory usage: 2.4 MB\n"
     ]
    }
   ],
   "source": [
    "final_train_df.info()"
   ]
  },
  {
   "cell_type": "code",
   "execution_count": 6,
   "id": "03889fdc",
   "metadata": {},
   "outputs": [
    {
     "data": {
      "text/html": [
       "<div>\n",
       "<style scoped>\n",
       "    .dataframe tbody tr th:only-of-type {\n",
       "        vertical-align: middle;\n",
       "    }\n",
       "\n",
       "    .dataframe tbody tr th {\n",
       "        vertical-align: top;\n",
       "    }\n",
       "\n",
       "    .dataframe thead th {\n",
       "        text-align: right;\n",
       "    }\n",
       "</style>\n",
       "<table border=\"1\" class=\"dataframe\">\n",
       "  <thead>\n",
       "    <tr style=\"text-align: right;\">\n",
       "      <th></th>\n",
       "      <th>sunrise_wetbulb</th>\n",
       "      <th>sunrise_weekavgtemp</th>\n",
       "      <th>rainlag2</th>\n",
       "      <th>species</th>\n",
       "      <th>templag3</th>\n",
       "      <th>dewpoint</th>\n",
       "      <th>wetbulb</th>\n",
       "      <th>week_weekavgtemp</th>\n",
       "      <th>weekpreciptotal</th>\n",
       "      <th>tmin</th>\n",
       "      <th>tavg</th>\n",
       "      <th>r_humid</th>\n",
       "      <th>templag2</th>\n",
       "      <th>cool</th>\n",
       "      <th>sunrise</th>\n",
       "      <th>weekavgtemp</th>\n",
       "      <th>templag1</th>\n",
       "      <th>month</th>\n",
       "      <th>templag4</th>\n",
       "      <th>heat</th>\n",
       "      <th>humidlag3</th>\n",
       "      <th>resultspeed</th>\n",
       "      <th>humidlag1</th>\n",
       "      <th>tmax</th>\n",
       "      <th>week</th>\n",
       "      <th>depart</th>\n",
       "      <th>trap_T143</th>\n",
       "      <th>longitude</th>\n",
       "      <th>rainlag4</th>\n",
       "      <th>trap_T233</th>\n",
       "      <th>avgspeed</th>\n",
       "      <th>trap_T006</th>\n",
       "      <th>trap_T014</th>\n",
       "      <th>sunset</th>\n",
       "      <th>trap_T016</th>\n",
       "      <th>trap_T003</th>\n",
       "      <th>trap_T086</th>\n",
       "      <th>resultdir</th>\n",
       "      <th>rainlag3</th>\n",
       "    </tr>\n",
       "  </thead>\n",
       "  <tbody>\n",
       "    <tr>\n",
       "      <th>0</th>\n",
       "      <td>26624</td>\n",
       "      <td>30427.428571</td>\n",
       "      <td>0.89</td>\n",
       "      <td>2.0</td>\n",
       "      <td>54.285714</td>\n",
       "      <td>56</td>\n",
       "      <td>64</td>\n",
       "      <td>1755.428571</td>\n",
       "      <td>0.86</td>\n",
       "      <td>61</td>\n",
       "      <td>74</td>\n",
       "      <td>53</td>\n",
       "      <td>59.571429</td>\n",
       "      <td>9</td>\n",
       "      <td>416</td>\n",
       "      <td>73.142857</td>\n",
       "      <td>72.142857</td>\n",
       "      <td>6</td>\n",
       "      <td>54.285714</td>\n",
       "      <td>0</td>\n",
       "      <td>52.0</td>\n",
       "      <td>8.9</td>\n",
       "      <td>51.0</td>\n",
       "      <td>86</td>\n",
       "      <td>24</td>\n",
       "      <td>7</td>\n",
       "      <td>0</td>\n",
       "      <td>-87.800991</td>\n",
       "      <td>0.22</td>\n",
       "      <td>0</td>\n",
       "      <td>10.0</td>\n",
       "      <td>0</td>\n",
       "      <td>0</td>\n",
       "      <td>1926</td>\n",
       "      <td>0</td>\n",
       "      <td>0</td>\n",
       "      <td>0</td>\n",
       "      <td>18</td>\n",
       "      <td>0.3</td>\n",
       "    </tr>\n",
       "    <tr>\n",
       "      <th>1</th>\n",
       "      <td>26624</td>\n",
       "      <td>30427.428571</td>\n",
       "      <td>0.89</td>\n",
       "      <td>1.0</td>\n",
       "      <td>54.285714</td>\n",
       "      <td>56</td>\n",
       "      <td>64</td>\n",
       "      <td>1755.428571</td>\n",
       "      <td>0.86</td>\n",
       "      <td>61</td>\n",
       "      <td>74</td>\n",
       "      <td>53</td>\n",
       "      <td>59.571429</td>\n",
       "      <td>9</td>\n",
       "      <td>416</td>\n",
       "      <td>73.142857</td>\n",
       "      <td>72.142857</td>\n",
       "      <td>6</td>\n",
       "      <td>54.285714</td>\n",
       "      <td>0</td>\n",
       "      <td>52.0</td>\n",
       "      <td>8.9</td>\n",
       "      <td>51.0</td>\n",
       "      <td>86</td>\n",
       "      <td>24</td>\n",
       "      <td>7</td>\n",
       "      <td>0</td>\n",
       "      <td>-87.800991</td>\n",
       "      <td>0.22</td>\n",
       "      <td>0</td>\n",
       "      <td>10.0</td>\n",
       "      <td>0</td>\n",
       "      <td>0</td>\n",
       "      <td>1926</td>\n",
       "      <td>0</td>\n",
       "      <td>0</td>\n",
       "      <td>0</td>\n",
       "      <td>18</td>\n",
       "      <td>0.3</td>\n",
       "    </tr>\n",
       "    <tr>\n",
       "      <th>2</th>\n",
       "      <td>26624</td>\n",
       "      <td>30427.428571</td>\n",
       "      <td>0.89</td>\n",
       "      <td>2.0</td>\n",
       "      <td>54.285714</td>\n",
       "      <td>56</td>\n",
       "      <td>64</td>\n",
       "      <td>1755.428571</td>\n",
       "      <td>0.86</td>\n",
       "      <td>61</td>\n",
       "      <td>74</td>\n",
       "      <td>53</td>\n",
       "      <td>59.571429</td>\n",
       "      <td>9</td>\n",
       "      <td>416</td>\n",
       "      <td>73.142857</td>\n",
       "      <td>72.142857</td>\n",
       "      <td>6</td>\n",
       "      <td>54.285714</td>\n",
       "      <td>0</td>\n",
       "      <td>52.0</td>\n",
       "      <td>8.9</td>\n",
       "      <td>51.0</td>\n",
       "      <td>86</td>\n",
       "      <td>24</td>\n",
       "      <td>7</td>\n",
       "      <td>0</td>\n",
       "      <td>-87.800991</td>\n",
       "      <td>0.22</td>\n",
       "      <td>0</td>\n",
       "      <td>10.0</td>\n",
       "      <td>0</td>\n",
       "      <td>0</td>\n",
       "      <td>1926</td>\n",
       "      <td>0</td>\n",
       "      <td>0</td>\n",
       "      <td>0</td>\n",
       "      <td>18</td>\n",
       "      <td>0.3</td>\n",
       "    </tr>\n",
       "    <tr>\n",
       "      <th>3</th>\n",
       "      <td>26624</td>\n",
       "      <td>30427.428571</td>\n",
       "      <td>0.89</td>\n",
       "      <td>0.0</td>\n",
       "      <td>54.285714</td>\n",
       "      <td>56</td>\n",
       "      <td>64</td>\n",
       "      <td>1755.428571</td>\n",
       "      <td>0.86</td>\n",
       "      <td>61</td>\n",
       "      <td>74</td>\n",
       "      <td>53</td>\n",
       "      <td>59.571429</td>\n",
       "      <td>9</td>\n",
       "      <td>416</td>\n",
       "      <td>73.142857</td>\n",
       "      <td>72.142857</td>\n",
       "      <td>6</td>\n",
       "      <td>54.285714</td>\n",
       "      <td>0</td>\n",
       "      <td>52.0</td>\n",
       "      <td>8.9</td>\n",
       "      <td>51.0</td>\n",
       "      <td>86</td>\n",
       "      <td>24</td>\n",
       "      <td>7</td>\n",
       "      <td>0</td>\n",
       "      <td>-87.800991</td>\n",
       "      <td>0.22</td>\n",
       "      <td>0</td>\n",
       "      <td>10.0</td>\n",
       "      <td>0</td>\n",
       "      <td>0</td>\n",
       "      <td>1926</td>\n",
       "      <td>0</td>\n",
       "      <td>0</td>\n",
       "      <td>0</td>\n",
       "      <td>18</td>\n",
       "      <td>0.3</td>\n",
       "    </tr>\n",
       "    <tr>\n",
       "      <th>4</th>\n",
       "      <td>26624</td>\n",
       "      <td>30427.428571</td>\n",
       "      <td>0.89</td>\n",
       "      <td>0.0</td>\n",
       "      <td>54.285714</td>\n",
       "      <td>56</td>\n",
       "      <td>64</td>\n",
       "      <td>1755.428571</td>\n",
       "      <td>0.86</td>\n",
       "      <td>61</td>\n",
       "      <td>74</td>\n",
       "      <td>53</td>\n",
       "      <td>59.571429</td>\n",
       "      <td>9</td>\n",
       "      <td>416</td>\n",
       "      <td>73.142857</td>\n",
       "      <td>72.142857</td>\n",
       "      <td>6</td>\n",
       "      <td>54.285714</td>\n",
       "      <td>0</td>\n",
       "      <td>52.0</td>\n",
       "      <td>8.9</td>\n",
       "      <td>51.0</td>\n",
       "      <td>86</td>\n",
       "      <td>24</td>\n",
       "      <td>7</td>\n",
       "      <td>0</td>\n",
       "      <td>-87.800991</td>\n",
       "      <td>0.22</td>\n",
       "      <td>0</td>\n",
       "      <td>10.0</td>\n",
       "      <td>0</td>\n",
       "      <td>0</td>\n",
       "      <td>1926</td>\n",
       "      <td>0</td>\n",
       "      <td>0</td>\n",
       "      <td>0</td>\n",
       "      <td>18</td>\n",
       "      <td>0.3</td>\n",
       "    </tr>\n",
       "  </tbody>\n",
       "</table>\n",
       "</div>"
      ],
      "text/plain": [
       "   sunrise_wetbulb  sunrise_weekavgtemp  rainlag2  species   templag3  \\\n",
       "0            26624         30427.428571      0.89      2.0  54.285714   \n",
       "1            26624         30427.428571      0.89      1.0  54.285714   \n",
       "2            26624         30427.428571      0.89      2.0  54.285714   \n",
       "3            26624         30427.428571      0.89      0.0  54.285714   \n",
       "4            26624         30427.428571      0.89      0.0  54.285714   \n",
       "\n",
       "   dewpoint  wetbulb  week_weekavgtemp  weekpreciptotal  tmin  tavg  r_humid  \\\n",
       "0        56       64       1755.428571             0.86    61    74       53   \n",
       "1        56       64       1755.428571             0.86    61    74       53   \n",
       "2        56       64       1755.428571             0.86    61    74       53   \n",
       "3        56       64       1755.428571             0.86    61    74       53   \n",
       "4        56       64       1755.428571             0.86    61    74       53   \n",
       "\n",
       "    templag2  cool  sunrise  weekavgtemp   templag1  month   templag4  heat  \\\n",
       "0  59.571429     9      416    73.142857  72.142857      6  54.285714     0   \n",
       "1  59.571429     9      416    73.142857  72.142857      6  54.285714     0   \n",
       "2  59.571429     9      416    73.142857  72.142857      6  54.285714     0   \n",
       "3  59.571429     9      416    73.142857  72.142857      6  54.285714     0   \n",
       "4  59.571429     9      416    73.142857  72.142857      6  54.285714     0   \n",
       "\n",
       "   humidlag3  resultspeed  humidlag1  tmax  week  depart  trap_T143  \\\n",
       "0       52.0          8.9       51.0    86    24       7          0   \n",
       "1       52.0          8.9       51.0    86    24       7          0   \n",
       "2       52.0          8.9       51.0    86    24       7          0   \n",
       "3       52.0          8.9       51.0    86    24       7          0   \n",
       "4       52.0          8.9       51.0    86    24       7          0   \n",
       "\n",
       "   longitude  rainlag4  trap_T233  avgspeed  trap_T006  trap_T014  sunset  \\\n",
       "0 -87.800991      0.22          0      10.0          0          0    1926   \n",
       "1 -87.800991      0.22          0      10.0          0          0    1926   \n",
       "2 -87.800991      0.22          0      10.0          0          0    1926   \n",
       "3 -87.800991      0.22          0      10.0          0          0    1926   \n",
       "4 -87.800991      0.22          0      10.0          0          0    1926   \n",
       "\n",
       "   trap_T016  trap_T003  trap_T086  resultdir  rainlag3  \n",
       "0          0          0          0         18       0.3  \n",
       "1          0          0          0         18       0.3  \n",
       "2          0          0          0         18       0.3  \n",
       "3          0          0          0         18       0.3  \n",
       "4          0          0          0         18       0.3  "
      ]
     },
     "execution_count": 6,
     "metadata": {},
     "output_type": "execute_result"
    }
   ],
   "source": [
    "final_test_df.head()"
   ]
  },
  {
   "cell_type": "code",
   "execution_count": 7,
   "id": "dab4a08c",
   "metadata": {},
   "outputs": [
    {
     "name": "stdout",
     "output_type": "stream",
     "text": [
      "<class 'pandas.core.frame.DataFrame'>\n",
      "RangeIndex: 116293 entries, 0 to 116292\n",
      "Data columns (total 39 columns):\n",
      " #   Column               Non-Null Count   Dtype  \n",
      "---  ------               --------------   -----  \n",
      " 0   sunrise_wetbulb      116293 non-null  int64  \n",
      " 1   sunrise_weekavgtemp  116293 non-null  float64\n",
      " 2   rainlag2             116293 non-null  float64\n",
      " 3   species              116293 non-null  float64\n",
      " 4   templag3             116293 non-null  float64\n",
      " 5   dewpoint             116293 non-null  int64  \n",
      " 6   wetbulb              116293 non-null  int64  \n",
      " 7   week_weekavgtemp     116293 non-null  float64\n",
      " 8   weekpreciptotal      116293 non-null  float64\n",
      " 9   tmin                 116293 non-null  int64  \n",
      " 10  tavg                 116293 non-null  int64  \n",
      " 11  r_humid              116293 non-null  int64  \n",
      " 12  templag2             116293 non-null  float64\n",
      " 13  cool                 116293 non-null  int64  \n",
      " 14  sunrise              116293 non-null  int64  \n",
      " 15  weekavgtemp          116293 non-null  float64\n",
      " 16  templag1             116293 non-null  float64\n",
      " 17  month                116293 non-null  int64  \n",
      " 18  templag4             116293 non-null  float64\n",
      " 19  heat                 116293 non-null  int64  \n",
      " 20  humidlag3            116293 non-null  float64\n",
      " 21  resultspeed          116293 non-null  float64\n",
      " 22  humidlag1            116293 non-null  float64\n",
      " 23  tmax                 116293 non-null  int64  \n",
      " 24  week                 116293 non-null  int64  \n",
      " 25  depart               116293 non-null  int64  \n",
      " 26  trap_T143            116293 non-null  int64  \n",
      " 27  longitude            116293 non-null  float64\n",
      " 28  rainlag4             116293 non-null  float64\n",
      " 29  trap_T233            116293 non-null  int64  \n",
      " 30  avgspeed             116293 non-null  float64\n",
      " 31  trap_T006            116293 non-null  int64  \n",
      " 32  trap_T014            116293 non-null  int64  \n",
      " 33  sunset               116293 non-null  int64  \n",
      " 34  trap_T016            116293 non-null  int64  \n",
      " 35  trap_T003            116293 non-null  int64  \n",
      " 36  trap_T086            116293 non-null  int64  \n",
      " 37  resultdir            116293 non-null  int64  \n",
      " 38  rainlag3             116293 non-null  float64\n",
      "dtypes: float64(17), int64(22)\n",
      "memory usage: 34.6 MB\n"
     ]
    }
   ],
   "source": [
    "final_test_df.info()"
   ]
  },
  {
   "cell_type": "code",
   "execution_count": 8,
   "id": "21d92b34",
   "metadata": {},
   "outputs": [
    {
     "data": {
      "text/plain": [
       "0    0.944018\n",
       "1    0.055982\n",
       "Name: wnvpresent, dtype: float64"
      ]
     },
     "execution_count": 8,
     "metadata": {},
     "output_type": "execute_result"
    }
   ],
   "source": [
    "# Check the distribution of our target variable\n",
    "final_train_df['wnvpresent'].value_counts(normalize=True)"
   ]
  },
  {
   "cell_type": "markdown",
   "id": "c305b512",
   "metadata": {},
   "source": [
    "Only 5.6% of the data shows the presence of the West Nile Virus. This is a dataset with highly unbalanced classes and we need to balance it out before we do our modelling for better model performance."
   ]
  },
  {
   "cell_type": "markdown",
   "id": "ec665678",
   "metadata": {},
   "source": [
    "### Train-Test-Split"
   ]
  },
  {
   "cell_type": "code",
   "execution_count": 9,
   "id": "cec687ad",
   "metadata": {},
   "outputs": [],
   "source": [
    "X = final_train_df.drop('wnvpresent', axis=1)\n",
    "y = final_train_df['wnvpresent']\n",
    "\n",
    "X_train, X_test, y_train, y_test = train_test_split(X, y,\n",
    "                                                    random_state = 50)"
   ]
  },
  {
   "cell_type": "markdown",
   "id": "54f2b2a0",
   "metadata": {},
   "source": [
    "### Logistic Regression\n",
    "\n",
    "We will use logistic regression as the baseline model for comparison."
   ]
  },
  {
   "cell_type": "code",
   "execution_count": 10,
   "id": "6a289f69",
   "metadata": {},
   "outputs": [
    {
     "data": {
      "text/plain": [
       "0.9427402862985685"
      ]
     },
     "execution_count": 10,
     "metadata": {},
     "output_type": "execute_result"
    }
   ],
   "source": [
    "lr = LogisticRegression()\n",
    "\n",
    "lr.fit(X_train, y_train)\n",
    "\n",
    "lr.score(X_train, y_train)"
   ]
  },
  {
   "cell_type": "code",
   "execution_count": 11,
   "id": "f50c4ae6",
   "metadata": {},
   "outputs": [
    {
     "data": {
      "text/plain": [
       "0.9478527607361963"
      ]
     },
     "execution_count": 11,
     "metadata": {},
     "output_type": "execute_result"
    }
   ],
   "source": [
    "lr.score(X_test, y_test)"
   ]
  },
  {
   "cell_type": "code",
   "execution_count": 12,
   "id": "9dd640bc",
   "metadata": {},
   "outputs": [
    {
     "name": "stdout",
     "output_type": "stream",
     "text": [
      "ROC AUC score: 0.5\n"
     ]
    }
   ],
   "source": [
    "preds = lr.predict(X_test)\n",
    "ROC_AUC = roc_auc_score(y_test, preds)\n",
    "print('ROC AUC score:', round(ROC_AUC, 5))"
   ]
  },
  {
   "cell_type": "markdown",
   "id": "c555d604",
   "metadata": {},
   "source": [
    "Despite the high accuracy scores for both train and test sets, the ROC AUC score is very low due to the unbalanced classes in the dataset. We will use SMOTE method as a way to balance out the classes."
   ]
  },
  {
   "cell_type": "markdown",
   "id": "b7fa4e01",
   "metadata": {},
   "source": [
    "### SMOTE: Synthetic Minority Oversampling Technique\n",
    "SMOTE is an oversampling technique where the synthetic samples are generated for the minority class. This algorithm helps to overcome the overfitting problem posed by random oversampling. It focuses on the feature space to generate new instances with the help of interpolation between the positive instances that lie together. "
   ]
  },
  {
   "cell_type": "code",
   "execution_count": 13,
   "id": "b4b8a5f6",
   "metadata": {},
   "outputs": [],
   "source": [
    "#oversampling the train dataset using SMOTE\n",
    "smt = SMOTE()\n",
    "X_train_sm, y_train_sm = smt.fit_resample(X_train, y_train)\n",
    "X_test_sm, y_test_sm = smt.fit_resample(X_test, y_test)"
   ]
  },
  {
   "cell_type": "code",
   "execution_count": 14,
   "id": "e6267907",
   "metadata": {},
   "outputs": [
    {
     "name": "stdout",
     "output_type": "stream",
     "text": [
      "(11064, 39) (11064,)\n",
      "(3708, 39) (3708,)\n"
     ]
    }
   ],
   "source": [
    "print(X_train_sm.shape, y_train_sm.shape)\n",
    "print(X_test_sm.shape, y_test_sm.shape)"
   ]
  },
  {
   "cell_type": "markdown",
   "id": "4bb8aa3c",
   "metadata": {},
   "source": [
    "y_train_sm.value_counts()"
   ]
  },
  {
   "cell_type": "markdown",
   "id": "85f47d8b",
   "metadata": {},
   "source": [
    "The dataset is now balanced after applying SMOTE."
   ]
  },
  {
   "cell_type": "code",
   "execution_count": 15,
   "id": "d2202afe",
   "metadata": {},
   "outputs": [
    {
     "data": {
      "text/plain": [
       "0.6798626174981923"
      ]
     },
     "execution_count": 15,
     "metadata": {},
     "output_type": "execute_result"
    }
   ],
   "source": [
    "#Refit lr model with SMOTE data\n",
    "lr.fit(X_train_sm, y_train_sm)\n",
    "\n",
    "lr.score(X_train_sm, y_train_sm)"
   ]
  },
  {
   "cell_type": "code",
   "execution_count": 16,
   "id": "d09c2562",
   "metadata": {},
   "outputs": [
    {
     "data": {
      "text/plain": [
       "0.6607335490830637"
      ]
     },
     "execution_count": 16,
     "metadata": {},
     "output_type": "execute_result"
    }
   ],
   "source": [
    "lr.score(X_test_sm, y_test_sm)"
   ]
  },
  {
   "cell_type": "code",
   "execution_count": 17,
   "id": "aaa5981f",
   "metadata": {},
   "outputs": [
    {
     "name": "stdout",
     "output_type": "stream",
     "text": [
      "ROC AUC score: 0.66073\n"
     ]
    }
   ],
   "source": [
    "preds_sm_lr = lr.predict(X_test_sm)\n",
    "ROC_AUC = roc_auc_score(y_test_sm, preds_sm_lr)\n",
    "print('ROC AUC score:', round(ROC_AUC, 5))"
   ]
  },
  {
   "cell_type": "markdown",
   "id": "b1f81f87",
   "metadata": {},
   "source": [
    "ROC AUC score has improved after balancing the data and we will attempt hyperparameter tuning to improve the model's accuracy."
   ]
  },
  {
   "cell_type": "code",
   "execution_count": 18,
   "id": "d6f0004b",
   "metadata": {},
   "outputs": [],
   "source": [
    "# Create function for model evaluation\n",
    "\n",
    "def model_evaluation(pipe, params, model):\n",
    "    \n",
    "    gs = GridSearchCV(pipe, # what object are we optimizing?\n",
    "                  param_grid=params, # what parameters values are we searching?\n",
    "                  cv=5) \n",
    "    \n",
    "    gs.fit(X_train_sm, y_train_sm)\n",
    "    \n",
    "    # Get predictions\n",
    "    preds_sm = gs.predict(X_test_sm)\n",
    "    \n",
    "    best_params = gs.best_params_\n",
    "    print('Best fitting parameters:', best_params)\n",
    "    best_model = gs.best_estimator_\n",
    "    \n",
    "    # Save confusion matrix values\n",
    "    tn, fp, fn, tp = confusion_matrix(y_test_sm, preds_sm).ravel()\n",
    "    \n",
    "    # View confusion matrix\n",
    "    plot_confusion_matrix(gs, X_test_sm, y_test_sm, cmap='Blues', values_format='d');\n",
    "    \n",
    "    \n",
    "    # Plot ROC graph\n",
    "    plot_roc_curve(best_model, X_test_sm, y_test_sm)\n",
    "    plt.plot([0, 1], [0, 1],\n",
    "             label='baseline', linestyle='--')\n",
    "    plt.legend();\n",
    "\n",
    "    \n",
    "    # Save results to Dataframe\n",
    "    df = pd.DataFrame()\n",
    "    df['model'] = [f'{model}']\n",
    "    df['train_accuracy'] = round(gs.score(X_train_sm, y_train_sm), 5)\n",
    "    df['test_accuracy'] = round(gs.score(X_test_sm, y_test_sm), 5)\n",
    "    df['sensitivity'] =  round((tp / (tp + fn)), 5)\n",
    "    df['specificity'] = round((tn / (tn + fp)), 5)\n",
    "    df['precision'] = round((tp / (tp + fp)), 5)\n",
    "    df['f1_score'] = round(f1_score(y_test_sm, preds_sm), 5)\n",
    "    df['roc_auc_score'] = round(roc_auc_score(y_test_sm, preds_sm), 5)\n",
    "    df['tn'] = tn\n",
    "    df['fp'] = fp\n",
    "    df['fn'] = fn\n",
    "    df['tp'] = tp\n",
    "    \n",
    "    return df"
   ]
  },
  {
   "cell_type": "code",
   "execution_count": 19,
   "id": "88eb6123",
   "metadata": {},
   "outputs": [],
   "source": [
    "# Define list of DataFrames to save all best model outputs\n",
    "df_all = []"
   ]
  },
  {
   "cell_type": "markdown",
   "id": "8e1d1d90",
   "metadata": {},
   "source": [
    "### Logistic Regression with GridSearchCV"
   ]
  },
  {
   "cell_type": "code",
   "execution_count": 20,
   "id": "fc7fa0de",
   "metadata": {},
   "outputs": [],
   "source": [
    "# Set up pipeline for lr\n",
    "pipe_lr = Pipeline([\n",
    "    ('ss', StandardScaler()),\n",
    "    ('lr', LogisticRegression())\n",
    "])"
   ]
  },
  {
   "cell_type": "code",
   "execution_count": 21,
   "id": "09dc4b56",
   "metadata": {},
   "outputs": [],
   "source": [
    "pipe_lr_params = {'lr__penalty': ['l2'],            \n",
    "                  'lr__C': [1.0]}    \n",
    "\n",
    "# original_params = {'lr__penalty': ['l1', 'l2'],\n",
    "#                    'lr__C': [1.0, 0.5, 0.1]}"
   ]
  },
  {
   "cell_type": "code",
   "execution_count": 22,
   "id": "21008354",
   "metadata": {},
   "outputs": [
    {
     "name": "stdout",
     "output_type": "stream",
     "text": [
      "Best fitting parameters: {'lr__C': 1.0, 'lr__penalty': 'l2'}\n"
     ]
    },
    {
     "data": {
      "text/html": [
       "<div>\n",
       "<style scoped>\n",
       "    .dataframe tbody tr th:only-of-type {\n",
       "        vertical-align: middle;\n",
       "    }\n",
       "\n",
       "    .dataframe tbody tr th {\n",
       "        vertical-align: top;\n",
       "    }\n",
       "\n",
       "    .dataframe thead th {\n",
       "        text-align: right;\n",
       "    }\n",
       "</style>\n",
       "<table border=\"1\" class=\"dataframe\">\n",
       "  <thead>\n",
       "    <tr style=\"text-align: right;\">\n",
       "      <th></th>\n",
       "      <th>model</th>\n",
       "      <th>train_accuracy</th>\n",
       "      <th>test_accuracy</th>\n",
       "      <th>sensitivity</th>\n",
       "      <th>specificity</th>\n",
       "      <th>precision</th>\n",
       "      <th>f1_score</th>\n",
       "      <th>roc_auc_score</th>\n",
       "      <th>tn</th>\n",
       "      <th>fp</th>\n",
       "      <th>fn</th>\n",
       "      <th>tp</th>\n",
       "    </tr>\n",
       "  </thead>\n",
       "  <tbody>\n",
       "    <tr>\n",
       "      <th>0</th>\n",
       "      <td>Logistic Regression</td>\n",
       "      <td>0.78344</td>\n",
       "      <td>0.79962</td>\n",
       "      <td>0.87594</td>\n",
       "      <td>0.7233</td>\n",
       "      <td>0.75994</td>\n",
       "      <td>0.81383</td>\n",
       "      <td>0.79962</td>\n",
       "      <td>1341</td>\n",
       "      <td>513</td>\n",
       "      <td>230</td>\n",
       "      <td>1624</td>\n",
       "    </tr>\n",
       "  </tbody>\n",
       "</table>\n",
       "</div>"
      ],
      "text/plain": [
       "                 model  train_accuracy  test_accuracy  sensitivity  \\\n",
       "0  Logistic Regression         0.78344        0.79962      0.87594   \n",
       "\n",
       "   specificity  precision  f1_score  roc_auc_score    tn   fp   fn    tp  \n",
       "0       0.7233    0.75994   0.81383        0.79962  1341  513  230  1624  "
      ]
     },
     "execution_count": 22,
     "metadata": {},
     "output_type": "execute_result"
    },
    {
     "data": {
      "image/png": "[encoded data removed]",
      "text/plain": [
       "<Figure size 432x288 with 2 Axes>"
      ]
     },
     "metadata": {
      "needs_background": "light"
     },
     "output_type": "display_data"
    },
    {
     "data": {
      "image/png": "[encoded data removed]",
      "text/plain": [
       "<Figure size 432x288 with 1 Axes>"
      ]
     },
     "metadata": {
      "needs_background": "light"
     },
     "output_type": "display_data"
    }
   ],
   "source": [
    "lr_eval = model_evaluation(pipe_lr, pipe_lr_params, 'Logistic Regression')\n",
    "lr_eval"
   ]
  },
  {
   "cell_type": "markdown",
   "id": "820663e2",
   "metadata": {},
   "source": [
    "Train and test accuracy and ROC AUC score have improved after hyperparameter tuning."
   ]
  },
  {
   "cell_type": "code",
   "execution_count": 23,
   "id": "19618997",
   "metadata": {},
   "outputs": [],
   "source": [
    "df_all.append(lr_eval)"
   ]
  },
  {
   "cell_type": "markdown",
   "id": "57082638",
   "metadata": {},
   "source": [
    "### K-Nearest Neighbors"
   ]
  },
  {
   "cell_type": "code",
   "execution_count": 24,
   "id": "3c8cff17",
   "metadata": {},
   "outputs": [],
   "source": [
    "# Set up pipeline for knn\n",
    "pipe_knn = Pipeline([\n",
    "    ('ss', StandardScaler()),\n",
    "    ('knn', KNeighborsClassifier())\n",
    "])"
   ]
  },
  {
   "cell_type": "code",
   "execution_count": 25,
   "id": "3fb2d03c",
   "metadata": {},
   "outputs": [],
   "source": [
    "pipe_knn_params = {\n",
    "    'knn__n_neighbors': [30],                      \n",
    "    'knn__algorithm': ['kd_tree'],                   \n",
    "    'knn__weights': ['distance'],\n",
    "    'knn__p': [1],                               \n",
    "    'knn__leaf_size': [10],                        \n",
    "}\n",
    "\n",
    "# original_params = {\n",
    "#     'knn__n_neighbors': [5,10,30],                      \n",
    "#     'knn__algorithm': ['auto', 'ball_tree', 'kd_tree', 'brute'],                   \n",
    "#     'knn__weights': ['distance', 'uniform'],\n",
    "#     'knn__p': [1, 2],                               \n",
    "#     'knn__leaf_size': [10,20,30],                        \n",
    "# }"
   ]
  },
  {
   "cell_type": "code",
   "execution_count": 26,
   "id": "ba87b90d",
   "metadata": {},
   "outputs": [
    {
     "name": "stdout",
     "output_type": "stream",
     "text": [
      "Best fitting parameters: {'knn__algorithm': 'kd_tree', 'knn__leaf_size': 10, 'knn__n_neighbors': 30, 'knn__p': 1, 'knn__weights': 'distance'}\n"
     ]
    },
    {
     "data": {
      "text/html": [
       "<div>\n",
       "<style scoped>\n",
       "    .dataframe tbody tr th:only-of-type {\n",
       "        vertical-align: middle;\n",
       "    }\n",
       "\n",
       "    .dataframe tbody tr th {\n",
       "        vertical-align: top;\n",
       "    }\n",
       "\n",
       "    .dataframe thead th {\n",
       "        text-align: right;\n",
       "    }\n",
       "</style>\n",
       "<table border=\"1\" class=\"dataframe\">\n",
       "  <thead>\n",
       "    <tr style=\"text-align: right;\">\n",
       "      <th></th>\n",
       "      <th>model</th>\n",
       "      <th>train_accuracy</th>\n",
       "      <th>test_accuracy</th>\n",
       "      <th>sensitivity</th>\n",
       "      <th>specificity</th>\n",
       "      <th>precision</th>\n",
       "      <th>f1_score</th>\n",
       "      <th>roc_auc_score</th>\n",
       "      <th>tn</th>\n",
       "      <th>fp</th>\n",
       "      <th>fn</th>\n",
       "      <th>tp</th>\n",
       "    </tr>\n",
       "  </thead>\n",
       "  <tbody>\n",
       "    <tr>\n",
       "      <th>0</th>\n",
       "      <td>K-Nearest Neighbors</td>\n",
       "      <td>0.94957</td>\n",
       "      <td>0.83037</td>\n",
       "      <td>0.75351</td>\n",
       "      <td>0.90723</td>\n",
       "      <td>0.89038</td>\n",
       "      <td>0.81624</td>\n",
       "      <td>0.83037</td>\n",
       "      <td>1682</td>\n",
       "      <td>172</td>\n",
       "      <td>457</td>\n",
       "      <td>1397</td>\n",
       "    </tr>\n",
       "  </tbody>\n",
       "</table>\n",
       "</div>"
      ],
      "text/plain": [
       "                 model  train_accuracy  test_accuracy  sensitivity  \\\n",
       "0  K-Nearest Neighbors         0.94957        0.83037      0.75351   \n",
       "\n",
       "   specificity  precision  f1_score  roc_auc_score    tn   fp   fn    tp  \n",
       "0      0.90723    0.89038   0.81624        0.83037  1682  172  457  1397  "
      ]
     },
     "execution_count": 26,
     "metadata": {},
     "output_type": "execute_result"
    },
    {
     "data": {
      "image/png": "[encoded data removed]",
      "text/plain": [
       "<Figure size 432x288 with 2 Axes>"
      ]
     },
     "metadata": {
      "needs_background": "light"
     },
     "output_type": "display_data"
    },
    {
     "data": {
      "image/png": "[encoded data removed]",
      "text/plain": [
       "<Figure size 432x288 with 1 Axes>"
      ]
     },
     "metadata": {
      "needs_background": "light"
     },
     "output_type": "display_data"
    }
   ],
   "source": [
    "knn_eval = model_evaluation(pipe_knn, pipe_knn_params, 'K-Nearest Neighbors')\n",
    "knn_eval"
   ]
  },
  {
   "cell_type": "code",
   "execution_count": 27,
   "id": "9ea416eb",
   "metadata": {},
   "outputs": [],
   "source": [
    "df_all.append(knn_eval)"
   ]
  },
  {
   "cell_type": "markdown",
   "id": "ec281ac6",
   "metadata": {},
   "source": [
    "### Random Forest"
   ]
  },
  {
   "cell_type": "code",
   "execution_count": 28,
   "id": "d3c34ca3",
   "metadata": {},
   "outputs": [],
   "source": [
    "# Set up pipeline for rf\n",
    "pipe_rf = Pipeline([\n",
    "    ('rf', RandomForestClassifier())])"
   ]
  },
  {
   "cell_type": "code",
   "execution_count": 29,
   "id": "b44bd57f",
   "metadata": {},
   "outputs": [],
   "source": [
    "# Set up hyperparameters tuning                    \n",
    "pipe_rf_params = {\n",
    "    'rf__n_estimators':[300],                     \n",
    "    'rf__max_depth':[20],                         \n",
    "    'rf__min_samples_leaf': [1],                  \n",
    "}\n",
    "\n",
    "# original_params = {\n",
    "#     'rf__n_estimators':[100, 200, 300],                     \n",
    "#     'rf__max_depth':[10,20],                         \n",
    "#     'rf__min_samples_leaf': [1,10,20],                  \n",
    "# }"
   ]
  },
  {
   "cell_type": "code",
   "execution_count": 30,
   "id": "09934e13",
   "metadata": {},
   "outputs": [
    {
     "name": "stdout",
     "output_type": "stream",
     "text": [
      "Best fitting parameters: {'rf__max_depth': 20, 'rf__min_samples_leaf': 1, 'rf__n_estimators': 300}\n"
     ]
    },
    {
     "data": {
      "text/html": [
       "<div>\n",
       "<style scoped>\n",
       "    .dataframe tbody tr th:only-of-type {\n",
       "        vertical-align: middle;\n",
       "    }\n",
       "\n",
       "    .dataframe tbody tr th {\n",
       "        vertical-align: top;\n",
       "    }\n",
       "\n",
       "    .dataframe thead th {\n",
       "        text-align: right;\n",
       "    }\n",
       "</style>\n",
       "<table border=\"1\" class=\"dataframe\">\n",
       "  <thead>\n",
       "    <tr style=\"text-align: right;\">\n",
       "      <th></th>\n",
       "      <th>model</th>\n",
       "      <th>train_accuracy</th>\n",
       "      <th>test_accuracy</th>\n",
       "      <th>sensitivity</th>\n",
       "      <th>specificity</th>\n",
       "      <th>precision</th>\n",
       "      <th>f1_score</th>\n",
       "      <th>roc_auc_score</th>\n",
       "      <th>tn</th>\n",
       "      <th>fp</th>\n",
       "      <th>fn</th>\n",
       "      <th>tp</th>\n",
       "    </tr>\n",
       "  </thead>\n",
       "  <tbody>\n",
       "    <tr>\n",
       "      <th>0</th>\n",
       "      <td>Random Forest Classifier</td>\n",
       "      <td>0.94541</td>\n",
       "      <td>0.83522</td>\n",
       "      <td>0.81931</td>\n",
       "      <td>0.85113</td>\n",
       "      <td>0.84624</td>\n",
       "      <td>0.83256</td>\n",
       "      <td>0.83522</td>\n",
       "      <td>1578</td>\n",
       "      <td>276</td>\n",
       "      <td>335</td>\n",
       "      <td>1519</td>\n",
       "    </tr>\n",
       "  </tbody>\n",
       "</table>\n",
       "</div>"
      ],
      "text/plain": [
       "                      model  train_accuracy  test_accuracy  sensitivity  \\\n",
       "0  Random Forest Classifier         0.94541        0.83522      0.81931   \n",
       "\n",
       "   specificity  precision  f1_score  roc_auc_score    tn   fp   fn    tp  \n",
       "0      0.85113    0.84624   0.83256        0.83522  1578  276  335  1519  "
      ]
     },
     "execution_count": 30,
     "metadata": {},
     "output_type": "execute_result"
    },
    {
     "data": {
      "image/png": "[encoded data removed]",
      "text/plain": [
       "<Figure size 432x288 with 2 Axes>"
      ]
     },
     "metadata": {
      "needs_background": "light"
     },
     "output_type": "display_data"
    },
    {
     "data": {
      "image/png": "[encoded data removed]",
      "text/plain": [
       "<Figure size 432x288 with 1 Axes>"
      ]
     },
     "metadata": {
      "needs_background": "light"
     },
     "output_type": "display_data"
    }
   ],
   "source": [
    "rf_eval = model_evaluation(pipe_rf, pipe_rf_params, 'Random Forest Classifier')\n",
    "rf_eval"
   ]
  },
  {
   "cell_type": "code",
   "execution_count": 31,
   "id": "0ee34357",
   "metadata": {},
   "outputs": [],
   "source": [
    "df_all.append(rf_eval)"
   ]
  },
  {
   "cell_type": "markdown",
   "id": "e03d3a07",
   "metadata": {},
   "source": [
    "### Ada Boost Classifier"
   ]
  },
  {
   "cell_type": "code",
   "execution_count": 32,
   "id": "1fe1a24f",
   "metadata": {},
   "outputs": [],
   "source": [
    "# Set up pipeline for adaboost\n",
    "pipe_ada = Pipeline([\n",
    "    ('ada', AdaBoostClassifier())])"
   ]
  },
  {
   "cell_type": "code",
   "execution_count": 33,
   "id": "9266781d",
   "metadata": {},
   "outputs": [],
   "source": [
    "# Set up hyperparameters tuning                    \n",
    "pipe_ada_params = {\n",
    "    'ada__n_estimators':[100],                     \n",
    "    'ada__learning_rate':[1],                                           \n",
    "}\n",
    "\n",
    "# original_params = {\n",
    "#     'ada__n_estimators':[10, 50, 100],                     \n",
    "#     'ada__learning_rate':[1,2,3],                                           \n",
    "# }"
   ]
  },
  {
   "cell_type": "code",
   "execution_count": 34,
   "id": "2b04c926",
   "metadata": {},
   "outputs": [
    {
     "name": "stdout",
     "output_type": "stream",
     "text": [
      "Best fitting parameters: {'ada__learning_rate': 1, 'ada__n_estimators': 100}\n"
     ]
    },
    {
     "data": {
      "text/html": [
       "<div>\n",
       "<style scoped>\n",
       "    .dataframe tbody tr th:only-of-type {\n",
       "        vertical-align: middle;\n",
       "    }\n",
       "\n",
       "    .dataframe tbody tr th {\n",
       "        vertical-align: top;\n",
       "    }\n",
       "\n",
       "    .dataframe thead th {\n",
       "        text-align: right;\n",
       "    }\n",
       "</style>\n",
       "<table border=\"1\" class=\"dataframe\">\n",
       "  <thead>\n",
       "    <tr style=\"text-align: right;\">\n",
       "      <th></th>\n",
       "      <th>model</th>\n",
       "      <th>train_accuracy</th>\n",
       "      <th>test_accuracy</th>\n",
       "      <th>sensitivity</th>\n",
       "      <th>specificity</th>\n",
       "      <th>precision</th>\n",
       "      <th>f1_score</th>\n",
       "      <th>roc_auc_score</th>\n",
       "      <th>tn</th>\n",
       "      <th>fp</th>\n",
       "      <th>fn</th>\n",
       "      <th>tp</th>\n",
       "    </tr>\n",
       "  </thead>\n",
       "  <tbody>\n",
       "    <tr>\n",
       "      <th>0</th>\n",
       "      <td>Ada Boost Classifier</td>\n",
       "      <td>0.83008</td>\n",
       "      <td>0.85167</td>\n",
       "      <td>0.92988</td>\n",
       "      <td>0.77346</td>\n",
       "      <td>0.8041</td>\n",
       "      <td>0.86243</td>\n",
       "      <td>0.85167</td>\n",
       "      <td>1434</td>\n",
       "      <td>420</td>\n",
       "      <td>130</td>\n",
       "      <td>1724</td>\n",
       "    </tr>\n",
       "  </tbody>\n",
       "</table>\n",
       "</div>"
      ],
      "text/plain": [
       "                  model  train_accuracy  test_accuracy  sensitivity  \\\n",
       "0  Ada Boost Classifier         0.83008        0.85167      0.92988   \n",
       "\n",
       "   specificity  precision  f1_score  roc_auc_score    tn   fp   fn    tp  \n",
       "0      0.77346     0.8041   0.86243        0.85167  1434  420  130  1724  "
      ]
     },
     "execution_count": 34,
     "metadata": {},
     "output_type": "execute_result"
    },
    {
     "data": {
      "image/png": "[encoded data removed]",
      "text/plain": [
       "<Figure size 432x288 with 2 Axes>"
      ]
     },
     "metadata": {
      "needs_background": "light"
     },
     "output_type": "display_data"
    },
    {
     "data": {
      "image/png": "[encoded data removed]",
      "text/plain": [
       "<Figure size 432x288 with 1 Axes>"
      ]
     },
     "metadata": {
      "needs_background": "light"
     },
     "output_type": "display_data"
    }
   ],
   "source": [
    "ada_eval = model_evaluation(pipe_ada, pipe_ada_params, 'Ada Boost Classifier')\n",
    "ada_eval"
   ]
  },
  {
   "cell_type": "code",
   "execution_count": 35,
   "id": "9e963119",
   "metadata": {},
   "outputs": [],
   "source": [
    "df_all.append(ada_eval)"
   ]
  },
  {
   "cell_type": "markdown",
   "id": "a1483028",
   "metadata": {},
   "source": [
    "### Gradient Boosting Classifier"
   ]
  },
  {
   "cell_type": "code",
   "execution_count": 36,
   "id": "884d756c",
   "metadata": {},
   "outputs": [],
   "source": [
    "# Set up pipeline for gradient boosting classifier\n",
    "pipe_gb = Pipeline([\n",
    "    ('ss', StandardScaler()),\n",
    "    ('gb', GradientBoostingClassifier())])"
   ]
  },
  {
   "cell_type": "code",
   "execution_count": 37,
   "id": "a48b1110",
   "metadata": {},
   "outputs": [],
   "source": [
    "# Set up hyperparameters tuning                    \n",
    "pipe_gb_params = {\n",
    "    'gb__loss':['deviance'],                     \n",
    "    'gb__learning_rate':[0.3],\n",
    "    'gb__n_estimators': [3],\n",
    "    'gb__subsample': [0.3]\n",
    "}\n",
    "\n",
    "# original_params = {\n",
    "#     'gb__loss':['log_loss', 'deviance', 'exponential'],                     \n",
    "#     'gb__learning_rate':[0.1,0.2,0.3],\n",
    "#     'gb__n_estimators': [1,2,3],\n",
    "#     'gb__subsample': [0.0, 0.3, 0.6, 1]\n",
    "# }"
   ]
  },
  {
   "cell_type": "code",
   "execution_count": 38,
   "id": "aec5a5a4",
   "metadata": {},
   "outputs": [
    {
     "name": "stdout",
     "output_type": "stream",
     "text": [
      "Best fitting parameters: {'gb__learning_rate': 0.3, 'gb__loss': 'deviance', 'gb__n_estimators': 3, 'gb__subsample': 0.3}\n"
     ]
    },
    {
     "data": {
      "text/html": [
       "<div>\n",
       "<style scoped>\n",
       "    .dataframe tbody tr th:only-of-type {\n",
       "        vertical-align: middle;\n",
       "    }\n",
       "\n",
       "    .dataframe tbody tr th {\n",
       "        vertical-align: top;\n",
       "    }\n",
       "\n",
       "    .dataframe thead th {\n",
       "        text-align: right;\n",
       "    }\n",
       "</style>\n",
       "<table border=\"1\" class=\"dataframe\">\n",
       "  <thead>\n",
       "    <tr style=\"text-align: right;\">\n",
       "      <th></th>\n",
       "      <th>model</th>\n",
       "      <th>train_accuracy</th>\n",
       "      <th>test_accuracy</th>\n",
       "      <th>sensitivity</th>\n",
       "      <th>specificity</th>\n",
       "      <th>precision</th>\n",
       "      <th>f1_score</th>\n",
       "      <th>roc_auc_score</th>\n",
       "      <th>tn</th>\n",
       "      <th>fp</th>\n",
       "      <th>fn</th>\n",
       "      <th>tp</th>\n",
       "    </tr>\n",
       "  </thead>\n",
       "  <tbody>\n",
       "    <tr>\n",
       "      <th>0</th>\n",
       "      <td>Gradient Boosting Classifier</td>\n",
       "      <td>0.79103</td>\n",
       "      <td>0.7883</td>\n",
       "      <td>0.87972</td>\n",
       "      <td>0.69687</td>\n",
       "      <td>0.74373</td>\n",
       "      <td>0.80603</td>\n",
       "      <td>0.7883</td>\n",
       "      <td>1292</td>\n",
       "      <td>562</td>\n",
       "      <td>223</td>\n",
       "      <td>1631</td>\n",
       "    </tr>\n",
       "  </tbody>\n",
       "</table>\n",
       "</div>"
      ],
      "text/plain": [
       "                          model  train_accuracy  test_accuracy  sensitivity  \\\n",
       "0  Gradient Boosting Classifier         0.79103         0.7883      0.87972   \n",
       "\n",
       "   specificity  precision  f1_score  roc_auc_score    tn   fp   fn    tp  \n",
       "0      0.69687    0.74373   0.80603         0.7883  1292  562  223  1631  "
      ]
     },
     "execution_count": 38,
     "metadata": {},
     "output_type": "execute_result"
    },
    {
     "data": {
      "image/png": "[encoded data removed]",
      "text/plain": [
       "<Figure size 432x288 with 2 Axes>"
      ]
     },
     "metadata": {
      "needs_background": "light"
     },
     "output_type": "display_data"
    },
    {
     "data": {
      "image/png": "[encoded data removed]",
      "text/plain": [
       "<Figure size 432x288 with 1 Axes>"
      ]
     },
     "metadata": {
      "needs_background": "light"
     },
     "output_type": "display_data"
    }
   ],
   "source": [
    "gb_eval = model_evaluation(pipe_gb, pipe_gb_params, 'Gradient Boosting Classifier')\n",
    "gb_eval"
   ]
  },
  {
   "cell_type": "code",
   "execution_count": 39,
   "id": "7727d5f3",
   "metadata": {},
   "outputs": [],
   "source": [
    "df_all.append(gb_eval)"
   ]
  },
  {
   "cell_type": "code",
   "execution_count": 40,
   "id": "830e6be6",
   "metadata": {},
   "outputs": [],
   "source": [
    "# # Set up pipeline for support vector machines\n",
    "# pipe_svc = Pipeline([\n",
    "#     ('ss', StandardScaler()),\n",
    "#     ('svc', SVC())])"
   ]
  },
  {
   "cell_type": "code",
   "execution_count": 41,
   "id": "65fe4bd3",
   "metadata": {},
   "outputs": [],
   "source": [
    "# # Set up hyperparameters tuning                    \n",
    "# pipe_svc_params = {\n",
    "#     'svc__C':[1,2,3],                     \n",
    "#     'svc__degree': [3,4,5]\n",
    "# }"
   ]
  },
  {
   "cell_type": "code",
   "execution_count": 42,
   "id": "d3a7aac4",
   "metadata": {},
   "outputs": [],
   "source": [
    "# svc_eval = model_evaluation(pipe_svc, pipe_svc_params, 'Support Vector Machines')\n",
    "# svc_eval"
   ]
  },
  {
   "cell_type": "code",
   "execution_count": 43,
   "id": "2c6b1ca0",
   "metadata": {},
   "outputs": [],
   "source": [
    "# df_all.append(svc_eval)"
   ]
  },
  {
   "cell_type": "code",
   "execution_count": 44,
   "id": "550998f0",
   "metadata": {},
   "outputs": [],
   "source": [
    "full_df = pd.concat(df_all)"
   ]
  },
  {
   "cell_type": "code",
   "execution_count": 45,
   "id": "aeeafdd2",
   "metadata": {},
   "outputs": [
    {
     "data": {
      "text/html": [
       "<div>\n",
       "<style scoped>\n",
       "    .dataframe tbody tr th:only-of-type {\n",
       "        vertical-align: middle;\n",
       "    }\n",
       "\n",
       "    .dataframe tbody tr th {\n",
       "        vertical-align: top;\n",
       "    }\n",
       "\n",
       "    .dataframe thead th {\n",
       "        text-align: right;\n",
       "    }\n",
       "</style>\n",
       "<table border=\"1\" class=\"dataframe\">\n",
       "  <thead>\n",
       "    <tr style=\"text-align: right;\">\n",
       "      <th></th>\n",
       "      <th>model</th>\n",
       "      <th>train_accuracy</th>\n",
       "      <th>test_accuracy</th>\n",
       "      <th>sensitivity</th>\n",
       "      <th>specificity</th>\n",
       "      <th>precision</th>\n",
       "      <th>f1_score</th>\n",
       "      <th>roc_auc_score</th>\n",
       "      <th>tn</th>\n",
       "      <th>fp</th>\n",
       "      <th>fn</th>\n",
       "      <th>tp</th>\n",
       "    </tr>\n",
       "  </thead>\n",
       "  <tbody>\n",
       "    <tr>\n",
       "      <th>0</th>\n",
       "      <td>Ada Boost Classifier</td>\n",
       "      <td>0.83008</td>\n",
       "      <td>0.85167</td>\n",
       "      <td>0.92988</td>\n",
       "      <td>0.77346</td>\n",
       "      <td>0.80410</td>\n",
       "      <td>0.86243</td>\n",
       "      <td>0.85167</td>\n",
       "      <td>1434</td>\n",
       "      <td>420</td>\n",
       "      <td>130</td>\n",
       "      <td>1724</td>\n",
       "    </tr>\n",
       "    <tr>\n",
       "      <th>1</th>\n",
       "      <td>Random Forest Classifier</td>\n",
       "      <td>0.94541</td>\n",
       "      <td>0.83522</td>\n",
       "      <td>0.81931</td>\n",
       "      <td>0.85113</td>\n",
       "      <td>0.84624</td>\n",
       "      <td>0.83256</td>\n",
       "      <td>0.83522</td>\n",
       "      <td>1578</td>\n",
       "      <td>276</td>\n",
       "      <td>335</td>\n",
       "      <td>1519</td>\n",
       "    </tr>\n",
       "    <tr>\n",
       "      <th>2</th>\n",
       "      <td>K-Nearest Neighbors</td>\n",
       "      <td>0.94957</td>\n",
       "      <td>0.83037</td>\n",
       "      <td>0.75351</td>\n",
       "      <td>0.90723</td>\n",
       "      <td>0.89038</td>\n",
       "      <td>0.81624</td>\n",
       "      <td>0.83037</td>\n",
       "      <td>1682</td>\n",
       "      <td>172</td>\n",
       "      <td>457</td>\n",
       "      <td>1397</td>\n",
       "    </tr>\n",
       "    <tr>\n",
       "      <th>3</th>\n",
       "      <td>Logistic Regression</td>\n",
       "      <td>0.78344</td>\n",
       "      <td>0.79962</td>\n",
       "      <td>0.87594</td>\n",
       "      <td>0.72330</td>\n",
       "      <td>0.75994</td>\n",
       "      <td>0.81383</td>\n",
       "      <td>0.79962</td>\n",
       "      <td>1341</td>\n",
       "      <td>513</td>\n",
       "      <td>230</td>\n",
       "      <td>1624</td>\n",
       "    </tr>\n",
       "    <tr>\n",
       "      <th>4</th>\n",
       "      <td>Gradient Boosting Classifier</td>\n",
       "      <td>0.79103</td>\n",
       "      <td>0.78830</td>\n",
       "      <td>0.87972</td>\n",
       "      <td>0.69687</td>\n",
       "      <td>0.74373</td>\n",
       "      <td>0.80603</td>\n",
       "      <td>0.78830</td>\n",
       "      <td>1292</td>\n",
       "      <td>562</td>\n",
       "      <td>223</td>\n",
       "      <td>1631</td>\n",
       "    </tr>\n",
       "  </tbody>\n",
       "</table>\n",
       "</div>"
      ],
      "text/plain": [
       "                          model  train_accuracy  test_accuracy  sensitivity  \\\n",
       "0          Ada Boost Classifier         0.83008        0.85167      0.92988   \n",
       "1      Random Forest Classifier         0.94541        0.83522      0.81931   \n",
       "2           K-Nearest Neighbors         0.94957        0.83037      0.75351   \n",
       "3           Logistic Regression         0.78344        0.79962      0.87594   \n",
       "4  Gradient Boosting Classifier         0.79103        0.78830      0.87972   \n",
       "\n",
       "   specificity  precision  f1_score  roc_auc_score    tn   fp   fn    tp  \n",
       "0      0.77346    0.80410   0.86243        0.85167  1434  420  130  1724  \n",
       "1      0.85113    0.84624   0.83256        0.83522  1578  276  335  1519  \n",
       "2      0.90723    0.89038   0.81624        0.83037  1682  172  457  1397  \n",
       "3      0.72330    0.75994   0.81383        0.79962  1341  513  230  1624  \n",
       "4      0.69687    0.74373   0.80603        0.78830  1292  562  223  1631  "
      ]
     },
     "execution_count": 45,
     "metadata": {},
     "output_type": "execute_result"
    }
   ],
   "source": [
    "pd.set_option('display.max_colwidth', None)\n",
    "full_df.sort_values(by=['roc_auc_score'], ascending=False).reset_index(drop=True)"
   ]
  },
  {
   "cell_type": "markdown",
   "id": "30b514b0",
   "metadata": {},
   "source": [
    "The best performing model is Ada Boost Classifier as there is little change in terms of train and test accuracy score (less overfitting as compared to the Random Forest Classifier) and it has the second highest ROC AUC score."
   ]
  },
  {
   "cell_type": "markdown",
   "id": "e0cb01c1",
   "metadata": {},
   "source": [
    "## Feature Importances"
   ]
  },
  {
   "cell_type": "markdown",
   "id": "61f21192",
   "metadata": {},
   "source": [
    "We want to find out the top features that can predict the presence of West Nile Virus."
   ]
  },
  {
   "cell_type": "code",
   "execution_count": 46,
   "id": "869e13d1",
   "metadata": {},
   "outputs": [
    {
     "data": {
      "text/plain": [
       "Text(0.5, 1.0, 'Top 15 Features')"
      ]
     },
     "execution_count": 46,
     "metadata": {},
     "output_type": "execute_result"
    },
    {
     "data": {
      "image/png": "[encoded data removed]",
      "text/plain": [
       "<Figure size 864x576 with 1 Axes>"
      ]
     },
     "metadata": {
      "needs_background": "light"
     },
     "output_type": "display_data"
    }
   ],
   "source": [
    "# Get coefficients for features\n",
    "ada_model = AdaBoostClassifier(n_estimators=100,learning_rate=1)\n",
    "ada_model.fit(X_train_sm, y_train_sm)\n",
    "importances = ada_model.feature_importances_\n",
    "features = X.columns\n",
    "feature_importance = sorted(zip(importances, features), reverse = True)\n",
    "\n",
    "# Create dataframe to store the features and coefficients.\n",
    "features_df = pd.DataFrame(feature_importance, columns = ['Coefficients', 'Features'])\n",
    "top_15_features = features_df.head(15)\n",
    "\n",
    "# Plot barchart for top features\n",
    "plt.figure(figsize = (12, 8))\n",
    "sns.barplot(data=top_15_features, y = 'Features', x = 'Coefficients')\n",
    "plt.title('Top 15 Features', fontsize = 16)"
   ]
  },
  {
   "cell_type": "markdown",
   "id": "9113faaa",
   "metadata": {},
   "source": [
    "The top features that predict the presence of West Nile Virus are species, longitude, r_humid."
   ]
  },
  {
   "cell_type": "markdown",
   "id": "45c580ba",
   "metadata": {},
   "source": [
    "## Kaggle Submission"
   ]
  },
  {
   "cell_type": "code",
   "execution_count": 47,
   "id": "c47ec5e7",
   "metadata": {},
   "outputs": [
    {
     "data": {
      "text/plain": [
       "array([[0.51549384, 0.48450616],\n",
       "       [0.51788132, 0.48211868],\n",
       "       [0.51549384, 0.48450616],\n",
       "       ...,\n",
       "       [0.68394532, 0.31605468],\n",
       "       [0.68394532, 0.31605468],\n",
       "       [0.68394532, 0.31605468]])"
      ]
     },
     "execution_count": 47,
     "metadata": {},
     "output_type": "execute_result"
    }
   ],
   "source": [
    "kaggle_x = final_test_df \n",
    "probabilities = ada_model.predict_proba(kaggle_x)\n",
    "probabilities"
   ]
  },
  {
   "cell_type": "code",
   "execution_count": 48,
   "id": "354dd8b4",
   "metadata": {},
   "outputs": [
    {
     "data": {
      "text/plain": [
       "116293"
      ]
     },
     "execution_count": 48,
     "metadata": {},
     "output_type": "execute_result"
    }
   ],
   "source": [
    "kaggle_preds = probabilities[:,1]  \n",
    "len(kaggle_preds)"
   ]
  },
  {
   "cell_type": "code",
   "execution_count": 49,
   "id": "3fcf9ca9",
   "metadata": {},
   "outputs": [],
   "source": [
    "output_dataframe = pd.DataFrame({\n",
    "    'Id': list(range(len(kaggle_preds))),\n",
    "    'WnvPresent': kaggle_preds\n",
    "})\n",
    "output_dataframe.to_csv('../dataset/kaggle.csv', index=False)  "
   ]
  },
  {
   "cell_type": "markdown",
   "id": "ab65df34",
   "metadata": {},
   "source": [
    "## Cost Benefit Analysis"
   ]
  },
  {
   "cell_type": "markdown",
   "id": "c81e0b05",
   "metadata": {},
   "source": [
    "<mark> To update </mark>"
   ]
  },
  {
   "cell_type": "markdown",
   "id": "11dcdc05",
   "metadata": {},
   "source": [
    "## Conclusion and Recommendations"
   ]
  },
  {
   "cell_type": "markdown",
   "id": "af2b62bc",
   "metadata": {},
   "source": [
    "### Key Takeaways:"
   ]
  },
  {
   "cell_type": "markdown",
   "id": "9be65dda",
   "metadata": {},
   "source": [
    "<mark> To update </mark>"
   ]
  },
  {
   "cell_type": "markdown",
   "id": "23023ac1",
   "metadata": {},
   "source": [
    "### Limitations and Future Enhancements"
   ]
  },
  {
   "cell_type": "markdown",
   "id": "9cccfe71",
   "metadata": {},
   "source": [
    "<mark> To update </mark>"
   ]
  },
  {
   "cell_type": "markdown",
   "id": "72f6f467",
   "metadata": {},
   "source": [
    "### Recommendations"
   ]
  },
  {
   "cell_type": "markdown",
   "id": "7869cee6",
   "metadata": {},
   "source": [
    "<mark> To update </mark>"
   ]
  }
 ],
 "metadata": {
  "kernelspec": {
   "display_name": "Python 3",
   "language": "python",
   "name": "python3"
  },
  "language_info": {
   "codemirror_mode": {
    "name": "ipython",
    "version": 3
   },
   "file_extension": ".py",
   "mimetype": "text/x-python",
   "name": "python",
   "nbconvert_exporter": "python",
   "pygments_lexer": "ipython3",
   "version": "3.8.8"
  }
 },
 "nbformat": 4,
 "nbformat_minor": 5
}
