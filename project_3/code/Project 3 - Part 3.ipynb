{
 "cells": [
  {
   "cell_type": "markdown",
   "id": "b8751bd3",
   "metadata": {},
   "source": [
    "# Project 3: Web APIs & NLP (Part 3)"
   ]
  },
  {
   "cell_type": "markdown",
   "id": "56aeefa5",
   "metadata": {},
   "source": [
    "## Problem Statement\n",
    "\n",
    "Our Social Media department has informed us that users of our newly created Beauty Insider Community Forum have been posting in the wrong group. \n",
    "\n",
    "The makeup and perfumes posts are posted in the General Discussion page and we need to find a way to classify their posts into Makeup and Perfumes categories for better analysis of their needs and interests.\n",
    "\n",
    "We will be using Reddit posts from r/Makeup and r/Perfumes to create a text classifier model that can classify posts into the 2 categories with accuracy more than 50% (baseline accuracy). We can then use the model to classify the posts in our forum. Through this project, we will also find out the trending words in each subreddit to guide our marketing department."
   ]
  },
  {
   "cell_type": "code",
   "execution_count": 33,
   "id": "517e9d21",
   "metadata": {},
   "outputs": [
    {
     "name": "stderr",
     "output_type": "stream",
     "text": [
      "[nltk_data] Downloading package wordnet to\n",
      "[nltk_data]     C:\\Users\\wujin\\AppData\\Roaming\\nltk_data...\n",
      "[nltk_data]   Package wordnet is already up-to-date!\n"
     ]
    }
   ],
   "source": [
    "import pandas as pd\n",
    "import string\n",
    "import re\n",
    "import nltk\n",
    "import numpy as np\n",
    "nltk.download('wordnet')\n",
    "wn = nltk.WordNetLemmatizer()\n",
    "stopwords = nltk.corpus.stopwords.words('english')\n",
    "\n",
    "import matplotlib.pyplot as plt\n",
    "import seaborn as sns\n",
    "from sklearn.model_selection import train_test_split, GridSearchCV\n",
    "from sklearn.pipeline import Pipeline\n",
    "from sklearn.metrics import confusion_matrix, plot_confusion_matrix, accuracy_score, plot_roc_curve, roc_auc_score, recall_score, precision_score, f1_score\n",
    "from sklearn.feature_extraction.text import CountVectorizer\n",
    "from sklearn.feature_extraction.text import TfidfVectorizer\n",
    "from sklearn.naive_bayes import BernoulliNB\n",
    "from sklearn.linear_model import LogisticRegression\n",
    "from sklearn.ensemble import RandomForestClassifier"
   ]
  },
  {
   "cell_type": "code",
   "execution_count": 77,
   "id": "e96671fb",
   "metadata": {
    "scrolled": true
   },
   "outputs": [
    {
     "data": {
      "text/plain": [
       "subreddit                    0\n",
       "title_selftext               0\n",
       "word_count                   0\n",
       "title_selftext_tokenized     0\n",
       "title_selftext_nostop        0\n",
       "title_selftext_lemmatized    0\n",
       "dtype: int64"
      ]
     },
     "execution_count": 77,
     "metadata": {},
     "output_type": "execute_result"
    }
   ],
   "source": [
    "# Import the dataset\n",
    "makeup_perfumes = pd.read_csv('../data/makeup_perfumes.csv')\n",
    "makeup_perfumes.dropna(inplace=True)\n",
    "makeup_perfumes.isnull().sum()"
   ]
  },
  {
   "cell_type": "markdown",
   "id": "63160801",
   "metadata": {},
   "source": [
    "## Modelling"
   ]
  },
  {
   "cell_type": "markdown",
   "id": "9c6f23e9",
   "metadata": {},
   "source": [
    "We will be looking at 3 models namely Bernoulli Naive Bayes, Logistic Regression and Random Forest Classifier while using Count vectorizer and TF-IDF vectorizer.\n",
    "We will use GridSearchCV to determine the best parameters for each model."
   ]
  },
  {
   "cell_type": "code",
   "execution_count": 76,
   "id": "9c846e16",
   "metadata": {},
   "outputs": [
    {
     "data": {
      "text/plain": [
       "0    0.500803\n",
       "1    0.499197\n",
       "Name: subreddit, dtype: float64"
      ]
     },
     "execution_count": 76,
     "metadata": {},
     "output_type": "execute_result"
    }
   ],
   "source": [
    "makeup_perfumes['subreddit'].value_counts(normalize = True)"
   ]
  },
  {
   "cell_type": "markdown",
   "id": "b408a653",
   "metadata": {},
   "source": [
    "Our baseline model accuracy is the probability that a given post will come from our target subreddit and since both subreddit posts are roughly equal, we are looking to create models that can score better than 50% in accuracy."
   ]
  },
  {
   "cell_type": "markdown",
   "id": "0f3fa9fc",
   "metadata": {},
   "source": [
    "### Bernoulli Naive Bayes - Count Vectorizer"
   ]
  },
  {
   "cell_type": "code",
   "execution_count": 35,
   "id": "e009d434",
   "metadata": {},
   "outputs": [],
   "source": [
    "X = makeup_perfumes['title_selftext_lemmatized']\n",
    "y = makeup_perfumes['subreddit']"
   ]
  },
  {
   "cell_type": "code",
   "execution_count": 36,
   "id": "583ace38",
   "metadata": {},
   "outputs": [],
   "source": [
    "X_train, X_test, y_train, y_test = train_test_split(X,\n",
    "                                                    y,\n",
    "                                                    random_state = 42,\n",
    "                                                    stratify     = y)"
   ]
  },
  {
   "cell_type": "code",
   "execution_count": 37,
   "id": "78a64632",
   "metadata": {},
   "outputs": [],
   "source": [
    "# Set up a pipeline with count vectorizer and tf-idf vectorizer \n",
    "\n",
    "cvec_params = {\n",
    "    'cvec__max_features': [2_000, 3_000, 4_000, 5_000],\n",
    "    'cvec__min_df': [2, 3],\n",
    "    'cvec__max_df': [.9, .95],\n",
    "    'cvec__ngram_range': [(1,1), (1,2)]\n",
    "}\n",
    "\n",
    "tvec_params = {\n",
    "    'tvec__max_features': [2_000, 3_000, 4_000, 5_000],\n",
    "    'tvec__min_df': [2, 3],\n",
    "    'tvec__max_df': [.9, .95],\n",
    "    'tvec__ngram_range': [(1,1), (1,2)]\n",
    "}"
   ]
  },
  {
   "cell_type": "code",
   "execution_count": 39,
   "id": "ea5a2b48",
   "metadata": {},
   "outputs": [],
   "source": [
    "def NLP_model(vect, vectorizer, mod, model, vect_params, n):\n",
    "    \n",
    "    pipe = Pipeline([\n",
    "    (vect, vectorizer),\n",
    "    (mod, model)\n",
    "])\n",
    "    gs = GridSearchCV(pipe, # what object are we optimizing?\n",
    "                  param_grid=vect_params, # what parameters values are we searching?\n",
    "                  cv=n) \n",
    "    \n",
    "    gs.fit(X_train, y_train)\n",
    "    \n",
    "    # What's the best parameters?\n",
    "    \n",
    "    print('Best fitting parameters:', gs.best_params_)\n",
    "\n",
    "    # What's the best score?\n",
    "    print('Grid Search Best Score:', round(gs.best_score_, 5))\n",
    "    \n",
    "    # Score model on training set.\n",
    "    print('Train Accuracy:', round(gs.score(X_train, y_train), 5))\n",
    "    \n",
    "    # Score model on testing set.\n",
    "    print('Test Accuracy:', round(gs.score(X_test, y_test),5))\n",
    "    \n",
    "    # Get predictions\n",
    "    preds = gs.predict(X_test)\n",
    "    \n",
    "    # Save confusion matrix values\n",
    "    tn, fp, fn, tp = confusion_matrix(y_test, preds).ravel()\n",
    "    \n",
    "    # View confusion matrix\n",
    "    plot_confusion_matrix(gs, X_test, y_test, cmap='Blues', values_format='d');\n",
    "    \n",
    "    # Calculate the specificity\n",
    "\n",
    "    spec = tn / (tn + fp)\n",
    "\n",
    "    print('Specificity:', round(spec, 5))\n",
    "    \n",
    "    # Calculate the precision\n",
    "    \n",
    "    precision = tp / (tp + fp)\n",
    "    \n",
    "    print('Precision:', round(precision, 5))\n",
    "    \n",
    "    # Calculate the sensitivity\n",
    "    \n",
    "    sensitivity = tp / (tp + fn)\n",
    "    \n",
    "    print('Sensitivity:', round(sensitivity, 5))\n",
    "    \n",
    "    # Calculate F1 score\n",
    "    \n",
    "    f1 = f1_score(y_test, preds)\n",
    "    \n",
    "    print('F1 score:', round(f1, 5))\n",
    "    \n",
    "    # Calculate ROC_AUC score\n",
    "    \n",
    "    ROC_AUC = roc_auc_score(y_test, preds)\n",
    "    \n",
    "    print('ROC AUC score:', round(ROC_AUC, 5))\n",
    "    \n",
    "    print('TN:', tn)\n",
    "    print('FP:', fp)\n",
    "    print('FN:', fn)\n",
    "    print('TP:', tp)\n",
    "    \n",
    "    # Save results to Dataframe\n",
    "    df = pd.DataFrame()\n",
    "    df['model_vec'] = [f'{mod}_{vect}']\n",
    "    df['grid_search_best_score'] = round(gs.best_score_, 5)\n",
    "    df['train_accuracy'] = round(gs.score(X_train, y_train), 5)\n",
    "    df['test_accuracy'] = round(gs.score(X_test, y_test), 5)\n",
    "    df['sensitivity'] =  round((tp / (tp + fn)), 5)\n",
    "    df['specificity'] = round((tn / (tn + fp)), 5)\n",
    "    df['precision'] = round((tp / (tp + fp)), 5)\n",
    "    df['f1_score'] = round(f1_score(y_test, preds), 5)\n",
    "    df['roc_auc_score'] = round(roc_auc_score(y_test, preds), 5)\n",
    "    df['tn'] = tn\n",
    "    df['fp'] = fp\n",
    "    df['fn'] = fn\n",
    "    df['tp'] = tp\n",
    "    \n",
    "    return df"
   ]
  },
  {
   "cell_type": "code",
   "execution_count": 60,
   "id": "f587afcf",
   "metadata": {},
   "outputs": [],
   "source": [
    "# Define list of DataFrames to save all best model outputs\n",
    "df_all = []"
   ]
  },
  {
   "cell_type": "markdown",
   "id": "d9ad5fd6",
   "metadata": {},
   "source": [
    "### Bernoulli Naive Bayes - Count Vectorizer"
   ]
  },
  {
   "cell_type": "code",
   "execution_count": 42,
   "id": "411223fd",
   "metadata": {},
   "outputs": [
    {
     "name": "stdout",
     "output_type": "stream",
     "text": [
      "Best fitting parameters: {'cvec__max_df': 0.9, 'cvec__max_features': 2000, 'cvec__min_df': 2, 'cvec__ngram_range': (1, 1)}\n",
      "Grid Search Best Score: 0.8863\n",
      "Train Accuracy: 0.89112\n",
      "Test Accuracy: 0.89085\n"
     ]
    },
    {
     "name": "stderr",
     "output_type": "stream",
     "text": [
      "C:\\Users\\wujin\\anaconda3\\lib\\site-packages\\sklearn\\utils\\deprecation.py:87: FutureWarning: Function plot_confusion_matrix is deprecated; Function `plot_confusion_matrix` is deprecated in 1.0 and will be removed in 1.2. Use one of the class methods: ConfusionMatrixDisplay.from_predictions or ConfusionMatrixDisplay.from_estimator.\n",
      "  warnings.warn(msg, category=FutureWarning)\n"
     ]
    },
    {
     "name": "stdout",
     "output_type": "stream",
     "text": [
      "Specificity: 0.79407\n",
      "Precision: 0.82705\n",
      "Sensitivity: 0.98794\n",
      "F1 score: 0.90037\n",
      "ROC AUC score: 0.89101\n",
      "TN: 991\n",
      "FP: 257\n",
      "FN: 15\n",
      "TP: 1229\n"
     ]
    },
    {
     "data": {
      "image/png": "[encoded data removed]",
      "text/plain": [
       "<Figure size 432x288 with 2 Axes>"
      ]
     },
     "metadata": {
      "needs_background": "light"
     },
     "output_type": "display_data"
    }
   ],
   "source": [
    "bernnb_cvec = NLP_model('cvec', CountVectorizer(), 'bernnb', BernoulliNB(), cvec_params, 5)"
   ]
  },
  {
   "cell_type": "code",
   "execution_count": 61,
   "id": "ea958c04",
   "metadata": {},
   "outputs": [],
   "source": [
    "df_all.append(bernnb_cvec)"
   ]
  },
  {
   "cell_type": "markdown",
   "id": "c1d1ba44",
   "metadata": {},
   "source": [
    "### Bernoulli Naive Bayes -  TF-IDF Vectorizer"
   ]
  },
  {
   "cell_type": "code",
   "execution_count": 43,
   "id": "c336f57d",
   "metadata": {},
   "outputs": [
    {
     "name": "stdout",
     "output_type": "stream",
     "text": [
      "Best fitting parameters: {'tvec__max_df': 0.9, 'tvec__max_features': 2000, 'tvec__min_df': 2, 'tvec__ngram_range': (1, 1)}\n",
      "Grid Search Best Score: 0.8863\n",
      "Train Accuracy: 0.89112\n",
      "Test Accuracy: 0.89085\n"
     ]
    },
    {
     "name": "stderr",
     "output_type": "stream",
     "text": [
      "C:\\Users\\wujin\\anaconda3\\lib\\site-packages\\sklearn\\utils\\deprecation.py:87: FutureWarning: Function plot_confusion_matrix is deprecated; Function `plot_confusion_matrix` is deprecated in 1.0 and will be removed in 1.2. Use one of the class methods: ConfusionMatrixDisplay.from_predictions or ConfusionMatrixDisplay.from_estimator.\n",
      "  warnings.warn(msg, category=FutureWarning)\n"
     ]
    },
    {
     "name": "stdout",
     "output_type": "stream",
     "text": [
      "Specificity: 0.79407\n",
      "Precision: 0.82705\n",
      "Sensitivity: 0.98794\n",
      "F1 score: 0.90037\n",
      "ROC AUC score: 0.89101\n",
      "TN: 991\n",
      "FP: 257\n",
      "FN: 15\n",
      "TP: 1229\n"
     ]
    },
    {
     "data": {
      "image/png": "[encoded data removed]",
      "text/plain": [
       "<Figure size 432x288 with 2 Axes>"
      ]
     },
     "metadata": {
      "needs_background": "light"
     },
     "output_type": "display_data"
    }
   ],
   "source": [
    "bernnb_tvec = NLP_model('tvec', TfidfVectorizer(), 'bernnb', BernoulliNB(), tvec_params, 5)"
   ]
  },
  {
   "cell_type": "code",
   "execution_count": 62,
   "id": "ab046a49",
   "metadata": {},
   "outputs": [],
   "source": [
    "df_all.append(bernnb_tvec)"
   ]
  },
  {
   "cell_type": "markdown",
   "id": "d13f8a50",
   "metadata": {},
   "source": [
    "### Logistic Regression - Count Vectorizer"
   ]
  },
  {
   "cell_type": "code",
   "execution_count": 65,
   "id": "51539646",
   "metadata": {},
   "outputs": [
    {
     "name": "stdout",
     "output_type": "stream",
     "text": [
      "Best fitting parameters: {'cvec__max_df': 0.9, 'cvec__max_features': 5000, 'cvec__min_df': 2, 'cvec__ngram_range': (1, 1)}\n",
      "Grid Search Best Score: 0.937\n",
      "Train Accuracy: 0.97806\n",
      "Test Accuracy: 0.94823\n",
      "Specificity: 0.92147\n",
      "Precision: 0.92525\n",
      "Sensitivity: 0.97508\n",
      "F1 score: 0.94951\n",
      "ROC AUC score: 0.94828\n",
      "TN: 1150\n",
      "FP: 98\n",
      "FN: 31\n",
      "TP: 1213\n"
     ]
    },
    {
     "name": "stderr",
     "output_type": "stream",
     "text": [
      "C:\\Users\\wujin\\anaconda3\\lib\\site-packages\\sklearn\\utils\\deprecation.py:87: FutureWarning: Function plot_confusion_matrix is deprecated; Function `plot_confusion_matrix` is deprecated in 1.0 and will be removed in 1.2. Use one of the class methods: ConfusionMatrixDisplay.from_predictions or ConfusionMatrixDisplay.from_estimator.\n",
      "  warnings.warn(msg, category=FutureWarning)\n"
     ]
    },
    {
     "data": {
      "image/png": "[encoded data removed]",
      "text/plain": [
       "<Figure size 432x288 with 2 Axes>"
      ]
     },
     "metadata": {
      "needs_background": "light"
     },
     "output_type": "display_data"
    }
   ],
   "source": [
    "lr_cvec = NLP_model('cvec', CountVectorizer(), 'lr', LogisticRegression(), cvec_params, 5)"
   ]
  },
  {
   "cell_type": "code",
   "execution_count": 66,
   "id": "226878cf",
   "metadata": {},
   "outputs": [],
   "source": [
    "df_all.append(lr_cvec)"
   ]
  },
  {
   "cell_type": "markdown",
   "id": "cf60fe05",
   "metadata": {},
   "source": [
    "### Logistic Regression -  TF-IDF Vectorizer"
   ]
  },
  {
   "cell_type": "code",
   "execution_count": 67,
   "id": "bcd59467",
   "metadata": {},
   "outputs": [
    {
     "name": "stdout",
     "output_type": "stream",
     "text": [
      "Best fitting parameters: {'tvec__max_df': 0.9, 'tvec__max_features': 3000, 'tvec__min_df': 3, 'tvec__ngram_range': (1, 2)}\n",
      "Grid Search Best Score: 0.94168\n",
      "Train Accuracy: 0.96134\n",
      "Test Accuracy: 0.94904\n"
     ]
    },
    {
     "name": "stderr",
     "output_type": "stream",
     "text": [
      "C:\\Users\\wujin\\anaconda3\\lib\\site-packages\\sklearn\\utils\\deprecation.py:87: FutureWarning: Function plot_confusion_matrix is deprecated; Function `plot_confusion_matrix` is deprecated in 1.0 and will be removed in 1.2. Use one of the class methods: ConfusionMatrixDisplay.from_predictions or ConfusionMatrixDisplay.from_estimator.\n",
      "  warnings.warn(msg, category=FutureWarning)\n"
     ]
    },
    {
     "name": "stdout",
     "output_type": "stream",
     "text": [
      "Specificity: 0.92388\n",
      "Precision: 0.92731\n",
      "Sensitivity: 0.97428\n",
      "F1 score: 0.95022\n",
      "ROC AUC score: 0.94908\n",
      "TN: 1153\n",
      "FP: 95\n",
      "FN: 32\n",
      "TP: 1212\n"
     ]
    },
    {
     "data": {
      "image/png": "[encoded data removed]",
      "text/plain": [
       "<Figure size 432x288 with 2 Axes>"
      ]
     },
     "metadata": {
      "needs_background": "light"
     },
     "output_type": "display_data"
    }
   ],
   "source": [
    "lr_tvec = NLP_model('tvec', TfidfVectorizer(), 'lr', LogisticRegression(), tvec_params, 5)"
   ]
  },
  {
   "cell_type": "code",
   "execution_count": 68,
   "id": "e7c452c2",
   "metadata": {},
   "outputs": [],
   "source": [
    "df_all.append(lr_tvec)"
   ]
  },
  {
   "cell_type": "markdown",
   "id": "04865da7",
   "metadata": {},
   "source": [
    "### Random Forest - Count Vectorizer"
   ]
  },
  {
   "cell_type": "code",
   "execution_count": 69,
   "id": "5043608d",
   "metadata": {},
   "outputs": [
    {
     "name": "stdout",
     "output_type": "stream",
     "text": [
      "Best fitting parameters: {'cvec__max_df': 0.95, 'cvec__max_features': 5000, 'cvec__min_df': 2, 'cvec__ngram_range': (1, 1)}\n",
      "Grid Search Best Score: 0.93379\n",
      "Train Accuracy: 0.99438\n",
      "Test Accuracy: 0.93419\n"
     ]
    },
    {
     "name": "stderr",
     "output_type": "stream",
     "text": [
      "C:\\Users\\wujin\\anaconda3\\lib\\site-packages\\sklearn\\utils\\deprecation.py:87: FutureWarning: Function plot_confusion_matrix is deprecated; Function `plot_confusion_matrix` is deprecated in 1.0 and will be removed in 1.2. Use one of the class methods: ConfusionMatrixDisplay.from_predictions or ConfusionMatrixDisplay.from_estimator.\n",
      "  warnings.warn(msg, category=FutureWarning)\n"
     ]
    },
    {
     "name": "stdout",
     "output_type": "stream",
     "text": [
      "Specificity: 0.94952\n",
      "Precision: 0.94776\n",
      "Sensitivity: 0.91881\n",
      "F1 score: 0.93306\n",
      "ROC AUC score: 0.93416\n",
      "TN: 1185\n",
      "FP: 63\n",
      "FN: 101\n",
      "TP: 1143\n"
     ]
    },
    {
     "data": {
      "image/png": "[encoded data removed]",
      "text/plain": [
       "<Figure size 432x288 with 2 Axes>"
      ]
     },
     "metadata": {
      "needs_background": "light"
     },
     "output_type": "display_data"
    }
   ],
   "source": [
    "rf_cvec = NLP_model('cvec', CountVectorizer(), 'rf', RandomForestClassifier(), cvec_params, 5)"
   ]
  },
  {
   "cell_type": "code",
   "execution_count": 70,
   "id": "cdeb5881",
   "metadata": {},
   "outputs": [],
   "source": [
    "df_all.append(rf_cvec)"
   ]
  },
  {
   "cell_type": "markdown",
   "id": "de927bc0",
   "metadata": {},
   "source": [
    "### Random Forest - TF-IDF Vectorizer"
   ]
  },
  {
   "cell_type": "code",
   "execution_count": 71,
   "id": "cde5b040",
   "metadata": {},
   "outputs": [
    {
     "name": "stdout",
     "output_type": "stream",
     "text": [
      "Best fitting parameters: {'tvec__max_df': 0.95, 'tvec__max_features': 5000, 'tvec__min_df': 3, 'tvec__ngram_range': (1, 1)}\n",
      "Grid Search Best Score: 0.93472\n",
      "Train Accuracy: 0.99465\n",
      "Test Accuracy: 0.9382\n"
     ]
    },
    {
     "name": "stderr",
     "output_type": "stream",
     "text": [
      "C:\\Users\\wujin\\anaconda3\\lib\\site-packages\\sklearn\\utils\\deprecation.py:87: FutureWarning: Function plot_confusion_matrix is deprecated; Function `plot_confusion_matrix` is deprecated in 1.0 and will be removed in 1.2. Use one of the class methods: ConfusionMatrixDisplay.from_predictions or ConfusionMatrixDisplay.from_estimator.\n",
      "  warnings.warn(msg, category=FutureWarning)\n"
     ]
    },
    {
     "name": "stdout",
     "output_type": "stream",
     "text": [
      "Specificity: 0.95112\n",
      "Precision: 0.94967\n",
      "Sensitivity: 0.92524\n",
      "F1 score: 0.9373\n",
      "ROC AUC score: 0.93818\n",
      "TN: 1187\n",
      "FP: 61\n",
      "FN: 93\n",
      "TP: 1151\n"
     ]
    },
    {
     "data": {
      "image/png": "[encoded data removed]",
      "text/plain": [
       "<Figure size 432x288 with 2 Axes>"
      ]
     },
     "metadata": {
      "needs_background": "light"
     },
     "output_type": "display_data"
    }
   ],
   "source": [
    "rf_tvec = NLP_model('tvec', TfidfVectorizer(), 'rf', RandomForestClassifier(), tvec_params, 5)"
   ]
  },
  {
   "cell_type": "code",
   "execution_count": 72,
   "id": "005d611e",
   "metadata": {},
   "outputs": [],
   "source": [
    "df_all.append(rf_tvec)"
   ]
  },
  {
   "cell_type": "code",
   "execution_count": 73,
   "id": "2668ca78",
   "metadata": {},
   "outputs": [],
   "source": [
    "full_df = pd.concat(df_all)"
   ]
  },
  {
   "cell_type": "code",
   "execution_count": 74,
   "id": "2383cdeb",
   "metadata": {},
   "outputs": [
    {
     "data": {
      "text/html": [
       "<div>\n",
       "<style scoped>\n",
       "    .dataframe tbody tr th:only-of-type {\n",
       "        vertical-align: middle;\n",
       "    }\n",
       "\n",
       "    .dataframe tbody tr th {\n",
       "        vertical-align: top;\n",
       "    }\n",
       "\n",
       "    .dataframe thead th {\n",
       "        text-align: right;\n",
       "    }\n",
       "</style>\n",
       "<table border=\"1\" class=\"dataframe\">\n",
       "  <thead>\n",
       "    <tr style=\"text-align: right;\">\n",
       "      <th></th>\n",
       "      <th>model_vec</th>\n",
       "      <th>grid_search_best_score</th>\n",
       "      <th>train_accuracy</th>\n",
       "      <th>test_accuracy</th>\n",
       "      <th>sensitivity</th>\n",
       "      <th>specificity</th>\n",
       "      <th>precision</th>\n",
       "      <th>f1_score</th>\n",
       "      <th>roc_auc_score</th>\n",
       "      <th>tn</th>\n",
       "      <th>fp</th>\n",
       "      <th>fn</th>\n",
       "      <th>tp</th>\n",
       "    </tr>\n",
       "  </thead>\n",
       "  <tbody>\n",
       "    <tr>\n",
       "      <th>0</th>\n",
       "      <td>lr_tvec</td>\n",
       "      <td>0.94168</td>\n",
       "      <td>0.96134</td>\n",
       "      <td>0.94904</td>\n",
       "      <td>0.97428</td>\n",
       "      <td>0.92388</td>\n",
       "      <td>0.92731</td>\n",
       "      <td>0.95022</td>\n",
       "      <td>0.94908</td>\n",
       "      <td>1153</td>\n",
       "      <td>95</td>\n",
       "      <td>32</td>\n",
       "      <td>1212</td>\n",
       "    </tr>\n",
       "    <tr>\n",
       "      <th>1</th>\n",
       "      <td>lr_cvec</td>\n",
       "      <td>0.93700</td>\n",
       "      <td>0.97806</td>\n",
       "      <td>0.94823</td>\n",
       "      <td>0.97508</td>\n",
       "      <td>0.92147</td>\n",
       "      <td>0.92525</td>\n",
       "      <td>0.94951</td>\n",
       "      <td>0.94828</td>\n",
       "      <td>1150</td>\n",
       "      <td>98</td>\n",
       "      <td>31</td>\n",
       "      <td>1213</td>\n",
       "    </tr>\n",
       "    <tr>\n",
       "      <th>2</th>\n",
       "      <td>rf_tvec</td>\n",
       "      <td>0.93472</td>\n",
       "      <td>0.99465</td>\n",
       "      <td>0.93820</td>\n",
       "      <td>0.92524</td>\n",
       "      <td>0.95112</td>\n",
       "      <td>0.94967</td>\n",
       "      <td>0.93730</td>\n",
       "      <td>0.93818</td>\n",
       "      <td>1187</td>\n",
       "      <td>61</td>\n",
       "      <td>93</td>\n",
       "      <td>1151</td>\n",
       "    </tr>\n",
       "    <tr>\n",
       "      <th>3</th>\n",
       "      <td>rf_cvec</td>\n",
       "      <td>0.93379</td>\n",
       "      <td>0.99438</td>\n",
       "      <td>0.93419</td>\n",
       "      <td>0.91881</td>\n",
       "      <td>0.94952</td>\n",
       "      <td>0.94776</td>\n",
       "      <td>0.93306</td>\n",
       "      <td>0.93416</td>\n",
       "      <td>1185</td>\n",
       "      <td>63</td>\n",
       "      <td>101</td>\n",
       "      <td>1143</td>\n",
       "    </tr>\n",
       "    <tr>\n",
       "      <th>4</th>\n",
       "      <td>bernnb_cvec</td>\n",
       "      <td>0.88630</td>\n",
       "      <td>0.89112</td>\n",
       "      <td>0.89085</td>\n",
       "      <td>0.98794</td>\n",
       "      <td>0.79407</td>\n",
       "      <td>0.82705</td>\n",
       "      <td>0.90037</td>\n",
       "      <td>0.89101</td>\n",
       "      <td>991</td>\n",
       "      <td>257</td>\n",
       "      <td>15</td>\n",
       "      <td>1229</td>\n",
       "    </tr>\n",
       "    <tr>\n",
       "      <th>5</th>\n",
       "      <td>bernnb_tvec</td>\n",
       "      <td>0.88630</td>\n",
       "      <td>0.89112</td>\n",
       "      <td>0.89085</td>\n",
       "      <td>0.98794</td>\n",
       "      <td>0.79407</td>\n",
       "      <td>0.82705</td>\n",
       "      <td>0.90037</td>\n",
       "      <td>0.89101</td>\n",
       "      <td>991</td>\n",
       "      <td>257</td>\n",
       "      <td>15</td>\n",
       "      <td>1229</td>\n",
       "    </tr>\n",
       "  </tbody>\n",
       "</table>\n",
       "</div>"
      ],
      "text/plain": [
       "     model_vec  grid_search_best_score  train_accuracy  test_accuracy  \\\n",
       "0      lr_tvec                 0.94168         0.96134        0.94904   \n",
       "1      lr_cvec                 0.93700         0.97806        0.94823   \n",
       "2      rf_tvec                 0.93472         0.99465        0.93820   \n",
       "3      rf_cvec                 0.93379         0.99438        0.93419   \n",
       "4  bernnb_cvec                 0.88630         0.89112        0.89085   \n",
       "5  bernnb_tvec                 0.88630         0.89112        0.89085   \n",
       "\n",
       "   sensitivity  specificity  precision  f1_score  roc_auc_score    tn   fp  \\\n",
       "0      0.97428      0.92388    0.92731   0.95022        0.94908  1153   95   \n",
       "1      0.97508      0.92147    0.92525   0.94951        0.94828  1150   98   \n",
       "2      0.92524      0.95112    0.94967   0.93730        0.93818  1187   61   \n",
       "3      0.91881      0.94952    0.94776   0.93306        0.93416  1185   63   \n",
       "4      0.98794      0.79407    0.82705   0.90037        0.89101   991  257   \n",
       "5      0.98794      0.79407    0.82705   0.90037        0.89101   991  257   \n",
       "\n",
       "    fn    tp  \n",
       "0   32  1212  \n",
       "1   31  1213  \n",
       "2   93  1151  \n",
       "3  101  1143  \n",
       "4   15  1229  \n",
       "5   15  1229  "
      ]
     },
     "execution_count": 74,
     "metadata": {},
     "output_type": "execute_result"
    }
   ],
   "source": [
    "pd.set_option('display.max_colwidth', None)\n",
    "full_df.sort_values(by=['test_accuracy'], ascending=False).reset_index(drop=True)"
   ]
  },
  {
   "cell_type": "markdown",
   "id": "c8d77088",
   "metadata": {},
   "source": [
    "Logistic regression model with TF-IDF Vectorizer has the highest test accuracy of 0.94904. It scores well (>0.9) for all other scoring metrics so we can adopt this model for predicting the subreddit which the posts belong to."
   ]
  },
  {
   "cell_type": "markdown",
   "id": "1d8e9abc",
   "metadata": {},
   "source": [
    "## Limitations and Future Plans"
   ]
  },
  {
   "cell_type": "markdown",
   "id": "12dec7d6",
   "metadata": {},
   "source": [
    "We see some difference between the train and test scores and we can train more data to prevent overfitting of our model.\n",
    "\n",
    "To further improve the accuracy of our model, we would want to try including more stop words to make our analysis more relevant. We can also try more advanced modelling techniques like XGBoost, CatBoost and do further tuning of hyperparameters to improve the performance of our model. We can see if combining different models can lead to improvements to our model's performance metrics.\n",
    "\n",
    "Further sentiment analysis can be done on the posts to understand brand and product sentiments for better targetted marketing efforts."
   ]
  },
  {
   "cell_type": "markdown",
   "id": "ab2820b5",
   "metadata": {},
   "source": [
    "## Conclusion"
   ]
  },
  {
   "cell_type": "markdown",
   "id": "dc791a8b",
   "metadata": {},
   "source": [
    "After comparing with the other models, we have concluded that the Logistic Regression model with TF-IDF Vectorizer has the highest test accuracy of 0.94904. \n",
    "\n",
    "We are confident that this model can be deployed for the classification of our forum's posts into either Makeup or Perfumes categories to a high accuracy level.\n",
    "\n",
    "We have also identified some words and bigrams that appear most frequently in Makeup and Perfumes subreddits that consists of brands, products and product features that can be useful for analysing and understanding customers' preferences."
   ]
  }
 ],
 "metadata": {
  "kernelspec": {
   "display_name": "Python 3 (ipykernel)",
   "language": "python",
   "name": "python3"
  },
  "language_info": {
   "codemirror_mode": {
    "name": "ipython",
    "version": 3
   },
   "file_extension": ".py",
   "mimetype": "text/x-python",
   "name": "python",
   "nbconvert_exporter": "python",
   "pygments_lexer": "ipython3",
   "version": "3.9.7"
  }
 },
 "nbformat": 4,
 "nbformat_minor": 5
}
