{
 "cells": [
  {
   "cell_type": "markdown",
   "id": "a57da812",
   "metadata": {},
   "source": [
    "# Project 3: Web APIs & NLP (Part 1)"
   ]
  },
  {
   "cell_type": "markdown",
   "id": "5e7c5aff",
   "metadata": {},
   "source": [
    "## Problem Statement\n",
    "\n",
    "sdakdalksdj"
   ]
  },
  {
   "cell_type": "code",
   "execution_count": 1,
   "id": "748a056b",
   "metadata": {},
   "outputs": [],
   "source": [
    "import requests\n",
    "import pandas as pd\n",
    "import time"
   ]
  },
  {
   "cell_type": "code",
   "execution_count": 2,
   "id": "77fe3bfa",
   "metadata": {},
   "outputs": [],
   "source": [
    "# url = 'https://api.pushshift.io/reddit/search/submission'"
   ]
  },
  {
   "cell_type": "code",
   "execution_count": 3,
   "id": "8e480012",
   "metadata": {},
   "outputs": [],
   "source": [
    "# params = {\n",
    "#     'subreddit': 'makeup',\n",
    "#     'size': 100,\n",
    "#     'stickied': False\n",
    "#     }\n",
    "# res = requests.get(url, params)\n",
    "\n",
    "# res.status_code\n",
    "\n",
    "# data = res.json()\n",
    "\n",
    "# posts = data['data']\n",
    "\n",
    "# len(posts)"
   ]
  },
  {
   "cell_type": "code",
   "execution_count": 4,
   "id": "1b5d6f76",
   "metadata": {},
   "outputs": [],
   "source": [
    "# df = pd.DataFrame(posts)\n",
    "\n",
    "# df[['subreddit', 'selftext', 'title']].head(10)"
   ]
  },
  {
   "cell_type": "code",
   "execution_count": 5,
   "id": "eda4aab3",
   "metadata": {},
   "outputs": [],
   "source": [
    "# posts[0]"
   ]
  },
  {
   "cell_type": "code",
   "execution_count": 6,
   "id": "2a9fd2b2",
   "metadata": {},
   "outputs": [],
   "source": [
    "def get_posts(subreddit, n):\n",
    "    \n",
    "    url = 'https://api.pushshift.io/reddit/search/submission'\n",
    "    \n",
    "    df = pd.DataFrame()\n",
    "    \n",
    "    for i in range(n):\n",
    "        \n",
    "        if i == 0: # Use current time for the first loop\n",
    "            params = {'subreddit': subreddit, 'size': 100}\n",
    "\n",
    "        else: # use timecode in post for last data row 'created_utc'\n",
    "            params = {'subreddit': subreddit, 'size': 100, 'before': timecode}\n",
    "\n",
    "        res = requests.get(url, params)\n",
    "        data = res.json()\n",
    "        posts = data['data']\n",
    "        df = df.append(posts, ignore_index = True)\n",
    "        \n",
    "        timecode = df['created_utc'].iloc[-1]\n",
    "\n",
    "        time.sleep(5)\n",
    "    \n",
    "    return df\n",
    "            "
   ]
  },
  {
   "cell_type": "code",
   "execution_count": 7,
   "id": "a7d4523b",
   "metadata": {},
   "outputs": [
    {
     "ename": "KeyboardInterrupt",
     "evalue": "",
     "output_type": "error",
     "traceback": [
      "\u001b[1;31m---------------------------------------------------------------------------\u001b[0m",
      "\u001b[1;31mKeyboardInterrupt\u001b[0m                         Traceback (most recent call last)",
      "\u001b[1;32m~\\AppData\\Local\\Temp/ipykernel_30776/1438386328.py\u001b[0m in \u001b[0;36m<module>\u001b[1;34m\u001b[0m\n\u001b[1;32m----> 1\u001b[1;33m \u001b[0mmakeup\u001b[0m \u001b[1;33m=\u001b[0m \u001b[0mget_posts\u001b[0m\u001b[1;33m(\u001b[0m\u001b[1;34m'makeup'\u001b[0m\u001b[1;33m,\u001b[0m \u001b[1;36m50\u001b[0m\u001b[1;33m)\u001b[0m\u001b[1;33m\u001b[0m\u001b[1;33m\u001b[0m\u001b[0m\n\u001b[0m\u001b[0;32m      2\u001b[0m \u001b[0mmakeup\u001b[0m\u001b[1;33m.\u001b[0m\u001b[0mshape\u001b[0m\u001b[1;33m\u001b[0m\u001b[1;33m\u001b[0m\u001b[0m\n",
      "\u001b[1;32m~\\AppData\\Local\\Temp/ipykernel_30776/3166489154.py\u001b[0m in \u001b[0;36mget_posts\u001b[1;34m(subreddit, n)\u001b[0m\n\u001b[0;32m     20\u001b[0m         \u001b[0mtimecode\u001b[0m \u001b[1;33m=\u001b[0m \u001b[0mdf\u001b[0m\u001b[1;33m[\u001b[0m\u001b[1;34m'created_utc'\u001b[0m\u001b[1;33m]\u001b[0m\u001b[1;33m.\u001b[0m\u001b[0miloc\u001b[0m\u001b[1;33m[\u001b[0m\u001b[1;33m-\u001b[0m\u001b[1;36m1\u001b[0m\u001b[1;33m]\u001b[0m\u001b[1;33m\u001b[0m\u001b[1;33m\u001b[0m\u001b[0m\n\u001b[0;32m     21\u001b[0m \u001b[1;33m\u001b[0m\u001b[0m\n\u001b[1;32m---> 22\u001b[1;33m         \u001b[0mtime\u001b[0m\u001b[1;33m.\u001b[0m\u001b[0msleep\u001b[0m\u001b[1;33m(\u001b[0m\u001b[1;36m5\u001b[0m\u001b[1;33m)\u001b[0m\u001b[1;33m\u001b[0m\u001b[1;33m\u001b[0m\u001b[0m\n\u001b[0m\u001b[0;32m     23\u001b[0m \u001b[1;33m\u001b[0m\u001b[0m\n\u001b[0;32m     24\u001b[0m     \u001b[1;32mreturn\u001b[0m \u001b[0mdf\u001b[0m\u001b[1;33m\u001b[0m\u001b[1;33m\u001b[0m\u001b[0m\n",
      "\u001b[1;31mKeyboardInterrupt\u001b[0m: "
     ]
    }
   ],
   "source": [
    "makeup = get_posts('makeup', 50)\n",
    "makeup.shape"
   ]
  },
  {
   "cell_type": "code",
   "execution_count": null,
   "id": "b6112e6c",
   "metadata": {},
   "outputs": [],
   "source": [
    "makeup.drop_duplicates(inplace = True, ignore_index = True)\n",
    "makeup.shape"
   ]
  },
  {
   "cell_type": "code",
   "execution_count": null,
   "id": "37920347",
   "metadata": {},
   "outputs": [],
   "source": [
    "perfumes = get_posts('perfumes', 50)\n",
    "perfumes.shape"
   ]
  },
  {
   "cell_type": "code",
   "execution_count": null,
   "id": "90bdbc45",
   "metadata": {},
   "outputs": [],
   "source": [
    "perfumes.drop_duplicates(inplace = True, ignore_index = True)\n",
    "perfumes.shape"
   ]
  },
  {
   "cell_type": "code",
   "execution_count": null,
   "id": "ef70ad91",
   "metadata": {},
   "outputs": [],
   "source": [
    "# Saving both to csv\n",
    "makeup.to_csv('../datasets/makeup.csv', index=False)\n",
    "perfumes.to_csv('../datasets/perfumes.csv', index=False)"
   ]
  }
 ],
 "metadata": {
  "kernelspec": {
   "display_name": "Python 3 (ipykernel)",
   "language": "python",
   "name": "python3"
  },
  "language_info": {
   "codemirror_mode": {
    "name": "ipython",
    "version": 3
   },
   "file_extension": ".py",
   "mimetype": "text/x-python",
   "name": "python",
   "nbconvert_exporter": "python",
   "pygments_lexer": "ipython3",
   "version": "3.9.7"
  }
 },
 "nbformat": 4,
 "nbformat_minor": 5
}
