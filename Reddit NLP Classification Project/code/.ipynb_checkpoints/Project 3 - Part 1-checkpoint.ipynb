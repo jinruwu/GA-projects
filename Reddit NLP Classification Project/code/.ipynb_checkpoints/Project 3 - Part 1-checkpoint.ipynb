{
 "cells": [
  {
   "cell_type": "markdown",
   "id": "9cdaa84e",
   "metadata": {},
   "source": [
    "# Project 3: Web APIs & NLP (Part 1)"
   ]
  },
  {
   "cell_type": "markdown",
   "id": "911cdfea",
   "metadata": {},
   "source": [
    "## Problem Statement\n",
    "\n",
    "Our Social Media department has informed us that users of our newly created Beauty Insider Community Forum have been posting in the wrong group. \n",
    "\n",
    "The makeup and perfumes posts are posted in the General Discussion page and we need to find a way to classify their posts into Makeup and Perfumes categories for better analysis of their needs and interests.\n",
    "\n",
    "We will be using Reddit posts from r/Makeup and r/Perfumes to create a text classifier model that can classify posts into the 2 categories with accuracy more than 50% (baseline accuracy). We can then use the model to classify the posts in our forum. Through this project, we will also find out the trending words in each subreddit to guide our marketing department."
   ]
  },
  {
   "cell_type": "code",
   "execution_count": 1,
   "id": "748a056b",
   "metadata": {},
   "outputs": [],
   "source": [
    "import requests\n",
    "import pandas as pd\n",
    "import time"
   ]
  },
  {
   "cell_type": "code",
   "execution_count": 2,
   "id": "469074ef",
   "metadata": {},
   "outputs": [],
   "source": [
    "def get_posts(subreddit, n):\n",
    "    \n",
    "    url = 'https://api.pushshift.io/reddit/search/submission'\n",
    "    \n",
    "    df = pd.DataFrame()\n",
    "    \n",
    "    for i in range(n):\n",
    "        \n",
    "        if i == 0: # Use current time for the first loop\n",
    "            params = {'subreddit': subreddit, 'size': 100}\n",
    "\n",
    "        else: # use timecode in post for last data row 'created_utc'\n",
    "            params = {'subreddit': subreddit, 'size': 100, 'before': timecode}\n",
    "\n",
    "        res = requests.get(url, params)\n",
    "        data = res.json()\n",
    "        posts = data['data']\n",
    "        df = df.append(posts, ignore_index = True)\n",
    "        \n",
    "        timecode = df['created_utc'].iloc[-1]\n",
    "\n",
    "        time.sleep(5)\n",
    "    \n",
    "    return df\n",
    "            "
   ]
  },
  {
   "cell_type": "code",
   "execution_count": null,
   "id": "7af9cde1",
   "metadata": {},
   "outputs": [],
   "source": [
    "makeup = get_posts('makeup', 50)\n",
    "makeup.shape"
   ]
  },
  {
   "cell_type": "code",
   "execution_count": null,
   "id": "5a85e057",
   "metadata": {},
   "outputs": [],
   "source": [
    "perfumes = get_posts('perfumes', 50)\n",
    "perfumes.shape"
   ]
  },
  {
   "cell_type": "code",
   "execution_count": null,
   "id": "ee745daa",
   "metadata": {},
   "outputs": [],
   "source": [
    "# Saving both to csv\n",
    "makeup.to_csv('../data/makeup.csv', index=False)\n",
    "perfumes.to_csv('../data/perfumes.csv', index=False)"
   ]
  }
 ],
 "metadata": {
  "kernelspec": {
   "display_name": "Python 3 (ipykernel)",
   "language": "python",
   "name": "python3"
  },
  "language_info": {
   "codemirror_mode": {
    "name": "ipython",
    "version": 3
   },
   "file_extension": ".py",
   "mimetype": "text/x-python",
   "name": "python",
   "nbconvert_exporter": "python",
   "pygments_lexer": "ipython3",
   "version": "3.9.7"
  }
 },
 "nbformat": 4,
 "nbformat_minor": 5
}
